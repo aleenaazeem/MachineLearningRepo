{
  "cells": [
    {
      "cell_type": "markdown",
      "metadata": {
        "id": "nMjWzyxK_BB5"
      },
      "source": [
        "# Machine Learning\n",
        "## Programming Assignment 3: Linear Regression\n",
        "\n",
        "### Instructions\n",
        "\n",
        "- The aim of this assignment is to give you a hands-on with a real-life machine learning application.\n",
        "- Use separate training, and testing data.\n",
        "- You can only use Python programming language and Jupyter Notebooks.\n",
        "- There are three parts of this assignment. In parts 1 & 2, you can only use **numpy, scipy, pandas, matplotlib and are not allowed to use NLTK, scikit-learn or any other machine learning toolkit**. However, you have to use **scikit-learn** in part 3.\n",
        "\n",
        "### Introduction\n",
        "\n",
        "In this exercise, you will implement linear regression and get to see it work on data. After completing this assignment, you will know:\n",
        "- How to implement linear regression from scratch.\n",
        "- How to estimate linear regression parameters using gradient descent.\n",
        "- How to make predictions on new data using learned parameters.\n",
        "\n",
        "Let's start with the necessary imports."
      ]
    },
    {
      "cell_type": "code",
      "execution_count": 3,
      "metadata": {},
      "outputs": [
        {
          "name": "stdout",
          "output_type": "stream",
          "text": [
            "Requirement already satisfied: numpy in c:\\users\\aleen\\appdata\\local\\programs\\python\\python313\\lib\\site-packages (2.2.6)\n",
            "Collecting matplotlib\n",
            "  Using cached matplotlib-3.10.3-cp313-cp313-win_amd64.whl.metadata (11 kB)\n",
            "Collecting pandas\n",
            "  Using cached pandas-2.2.3-cp313-cp313-win_amd64.whl.metadata (19 kB)\n",
            "Collecting contourpy>=1.0.1 (from matplotlib)\n",
            "  Using cached contourpy-1.3.2-cp313-cp313-win_amd64.whl.metadata (5.5 kB)\n",
            "Collecting cycler>=0.10 (from matplotlib)\n",
            "  Using cached cycler-0.12.1-py3-none-any.whl.metadata (3.8 kB)\n",
            "Requirement already satisfied: fonttools>=4.22.0 in c:\\users\\aleen\\appdata\\local\\programs\\python\\python313\\lib\\site-packages (from matplotlib) (4.58.1)\n",
            "Requirement already satisfied: kiwisolver>=1.3.1 in c:\\users\\aleen\\appdata\\local\\programs\\python\\python313\\lib\\site-packages (from matplotlib) (1.4.8)\n",
            "Requirement already satisfied: packaging>=20.0 in c:\\users\\aleen\\appdata\\roaming\\python\\python313\\site-packages (from matplotlib) (24.2)\n",
            "Requirement already satisfied: pillow>=8 in c:\\users\\aleen\\appdata\\local\\programs\\python\\python313\\lib\\site-packages (from matplotlib) (11.2.1)\n",
            "Requirement already satisfied: pyparsing>=2.3.1 in c:\\users\\aleen\\appdata\\local\\programs\\python\\python313\\lib\\site-packages (from matplotlib) (3.2.3)\n",
            "Requirement already satisfied: python-dateutil>=2.7 in c:\\users\\aleen\\appdata\\roaming\\python\\python313\\site-packages (from matplotlib) (2.9.0.post0)\n",
            "Requirement already satisfied: pytz>=2020.1 in c:\\users\\aleen\\appdata\\local\\programs\\python\\python313\\lib\\site-packages (from pandas) (2025.2)\n",
            "Requirement already satisfied: tzdata>=2022.7 in c:\\users\\aleen\\appdata\\local\\programs\\python\\python313\\lib\\site-packages (from pandas) (2025.2)\n",
            "Requirement already satisfied: six>=1.5 in c:\\users\\aleen\\appdata\\roaming\\python\\python313\\site-packages (from python-dateutil>=2.7->matplotlib) (1.17.0)\n",
            "Using cached matplotlib-3.10.3-cp313-cp313-win_amd64.whl (8.1 MB)\n",
            "Using cached pandas-2.2.3-cp313-cp313-win_amd64.whl (11.5 MB)\n",
            "Using cached contourpy-1.3.2-cp313-cp313-win_amd64.whl (223 kB)\n",
            "Using cached cycler-0.12.1-py3-none-any.whl (8.3 kB)\n",
            "Installing collected packages: cycler, contourpy, pandas, matplotlib\n",
            "\n",
            "   ---------- ----------------------------- 1/4 [contourpy]\n",
            "   ---------- ----------------------------- 1/4 [contourpy]\n",
            "   -------------------- ------------------- 2/4 [pandas]\n",
            "   -------------------- ------------------- 2/4 [pandas]\n",
            "   -------------------- ------------------- 2/4 [pandas]\n",
            "   -------------------- ------------------- 2/4 [pandas]\n",
            "   -------------------- ------------------- 2/4 [pandas]\n",
            "   -------------------- ------------------- 2/4 [pandas]\n",
            "   -------------------- ------------------- 2/4 [pandas]\n",
            "   -------------------- ------------------- 2/4 [pandas]\n",
            "   -------------------- ------------------- 2/4 [pandas]\n",
            "   -------------------- ------------------- 2/4 [pandas]\n",
            "   -------------------- ------------------- 2/4 [pandas]\n",
            "   -------------------- ------------------- 2/4 [pandas]\n",
            "   -------------------- ------------------- 2/4 [pandas]\n",
            "   -------------------- ------------------- 2/4 [pandas]\n",
            "   -------------------- ------------------- 2/4 [pandas]\n",
            "   -------------------- ------------------- 2/4 [pandas]\n",
            "   -------------------- ------------------- 2/4 [pandas]\n",
            "   -------------------- ------------------- 2/4 [pandas]\n",
            "   -------------------- ------------------- 2/4 [pandas]\n",
            "   -------------------- ------------------- 2/4 [pandas]\n",
            "   -------------------- ------------------- 2/4 [pandas]\n",
            "   -------------------- ------------------- 2/4 [pandas]\n",
            "   -------------------- ------------------- 2/4 [pandas]\n",
            "   -------------------- ------------------- 2/4 [pandas]\n",
            "   -------------------- ------------------- 2/4 [pandas]\n",
            "   -------------------- ------------------- 2/4 [pandas]\n",
            "   -------------------- ------------------- 2/4 [pandas]\n",
            "   -------------------- ------------------- 2/4 [pandas]\n",
            "   -------------------- ------------------- 2/4 [pandas]\n",
            "   -------------------- ------------------- 2/4 [pandas]\n",
            "   -------------------- ------------------- 2/4 [pandas]\n",
            "   -------------------- ------------------- 2/4 [pandas]\n",
            "   -------------------- ------------------- 2/4 [pandas]\n",
            "   -------------------- ------------------- 2/4 [pandas]\n",
            "   -------------------- ------------------- 2/4 [pandas]\n",
            "   -------------------- ------------------- 2/4 [pandas]\n",
            "   -------------------- ------------------- 2/4 [pandas]\n",
            "   -------------------- ------------------- 2/4 [pandas]\n",
            "   -------------------- ------------------- 2/4 [pandas]\n",
            "   -------------------- ------------------- 2/4 [pandas]\n",
            "   -------------------- ------------------- 2/4 [pandas]\n",
            "   -------------------- ------------------- 2/4 [pandas]\n",
            "   -------------------- ------------------- 2/4 [pandas]\n",
            "   -------------------- ------------------- 2/4 [pandas]\n",
            "   -------------------- ------------------- 2/4 [pandas]\n",
            "   -------------------- ------------------- 2/4 [pandas]\n",
            "   -------------------- ------------------- 2/4 [pandas]\n",
            "   -------------------- ------------------- 2/4 [pandas]\n",
            "   -------------------- ------------------- 2/4 [pandas]\n",
            "   -------------------- ------------------- 2/4 [pandas]\n",
            "   -------------------- ------------------- 2/4 [pandas]\n",
            "   -------------------- ------------------- 2/4 [pandas]\n",
            "   -------------------- ------------------- 2/4 [pandas]\n",
            "   -------------------- ------------------- 2/4 [pandas]\n",
            "   -------------------- ------------------- 2/4 [pandas]\n",
            "   -------------------- ------------------- 2/4 [pandas]\n",
            "   -------------------- ------------------- 2/4 [pandas]\n",
            "   -------------------- ------------------- 2/4 [pandas]\n",
            "   -------------------- ------------------- 2/4 [pandas]\n",
            "   -------------------- ------------------- 2/4 [pandas]\n",
            "   -------------------- ------------------- 2/4 [pandas]\n",
            "   -------------------- ------------------- 2/4 [pandas]\n",
            "   -------------------- ------------------- 2/4 [pandas]\n",
            "   -------------------- ------------------- 2/4 [pandas]\n",
            "   -------------------- ------------------- 2/4 [pandas]\n",
            "   -------------------- ------------------- 2/4 [pandas]\n",
            "   -------------------- ------------------- 2/4 [pandas]\n",
            "   -------------------- ------------------- 2/4 [pandas]\n",
            "   -------------------- ------------------- 2/4 [pandas]\n",
            "   -------------------- ------------------- 2/4 [pandas]\n",
            "   -------------------- ------------------- 2/4 [pandas]\n",
            "   -------------------- ------------------- 2/4 [pandas]\n",
            "   -------------------- ------------------- 2/4 [pandas]\n",
            "   -------------------- ------------------- 2/4 [pandas]\n",
            "   -------------------- ------------------- 2/4 [pandas]\n",
            "   -------------------- ------------------- 2/4 [pandas]\n",
            "   -------------------- ------------------- 2/4 [pandas]\n",
            "   -------------------- ------------------- 2/4 [pandas]\n",
            "   -------------------- ------------------- 2/4 [pandas]\n",
            "   -------------------- ------------------- 2/4 [pandas]\n",
            "   -------------------- ------------------- 2/4 [pandas]\n",
            "   -------------------- ------------------- 2/4 [pandas]\n",
            "   -------------------- ------------------- 2/4 [pandas]\n",
            "   -------------------- ------------------- 2/4 [pandas]\n",
            "   -------------------- ------------------- 2/4 [pandas]\n",
            "   -------------------- ------------------- 2/4 [pandas]\n",
            "   -------------------- ------------------- 2/4 [pandas]\n",
            "   -------------------- ------------------- 2/4 [pandas]\n",
            "   -------------------- ------------------- 2/4 [pandas]\n",
            "   -------------------- ------------------- 2/4 [pandas]\n",
            "   -------------------- ------------------- 2/4 [pandas]\n",
            "   -------------------- ------------------- 2/4 [pandas]\n",
            "   -------------------- ------------------- 2/4 [pandas]\n",
            "   -------------------- ------------------- 2/4 [pandas]\n",
            "   -------------------- ------------------- 2/4 [pandas]\n",
            "   -------------------- ------------------- 2/4 [pandas]\n",
            "   -------------------- ------------------- 2/4 [pandas]\n",
            "   -------------------- ------------------- 2/4 [pandas]\n",
            "   -------------------- ------------------- 2/4 [pandas]\n",
            "   -------------------- ------------------- 2/4 [pandas]\n",
            "   -------------------- ------------------- 2/4 [pandas]\n",
            "   -------------------- ------------------- 2/4 [pandas]\n",
            "   -------------------- ------------------- 2/4 [pandas]\n",
            "   -------------------- ------------------- 2/4 [pandas]\n",
            "   -------------------- ------------------- 2/4 [pandas]\n",
            "   -------------------- ------------------- 2/4 [pandas]\n",
            "   -------------------- ------------------- 2/4 [pandas]\n",
            "   -------------------- ------------------- 2/4 [pandas]\n",
            "   -------------------- ------------------- 2/4 [pandas]\n",
            "   -------------------- ------------------- 2/4 [pandas]\n",
            "   -------------------- ------------------- 2/4 [pandas]\n",
            "   -------------------- ------------------- 2/4 [pandas]\n",
            "   -------------------- ------------------- 2/4 [pandas]\n",
            "   -------------------- ------------------- 2/4 [pandas]\n",
            "   -------------------- ------------------- 2/4 [pandas]\n",
            "   -------------------- ------------------- 2/4 [pandas]\n",
            "   -------------------- ------------------- 2/4 [pandas]\n",
            "   -------------------- ------------------- 2/4 [pandas]\n",
            "   -------------------- ------------------- 2/4 [pandas]\n",
            "   -------------------- ------------------- 2/4 [pandas]\n",
            "   -------------------- ------------------- 2/4 [pandas]\n",
            "   -------------------- ------------------- 2/4 [pandas]\n",
            "   -------------------- ------------------- 2/4 [pandas]\n",
            "   -------------------- ------------------- 2/4 [pandas]\n",
            "   -------------------- ------------------- 2/4 [pandas]\n",
            "   -------------------- ------------------- 2/4 [pandas]\n",
            "   -------------------- ------------------- 2/4 [pandas]\n",
            "   -------------------- ------------------- 2/4 [pandas]\n",
            "   -------------------- ------------------- 2/4 [pandas]\n",
            "   -------------------- ------------------- 2/4 [pandas]\n",
            "   -------------------- ------------------- 2/4 [pandas]\n",
            "   -------------------- ------------------- 2/4 [pandas]\n",
            "   -------------------- ------------------- 2/4 [pandas]\n",
            "   -------------------- ------------------- 2/4 [pandas]\n",
            "   -------------------- ------------------- 2/4 [pandas]\n",
            "   -------------------- ------------------- 2/4 [pandas]\n",
            "   -------------------- ------------------- 2/4 [pandas]\n",
            "   -------------------- ------------------- 2/4 [pandas]\n",
            "   -------------------- ------------------- 2/4 [pandas]\n",
            "   -------------------- ------------------- 2/4 [pandas]\n",
            "   -------------------- ------------------- 2/4 [pandas]\n",
            "   -------------------- ------------------- 2/4 [pandas]\n",
            "   -------------------- ------------------- 2/4 [pandas]\n",
            "   -------------------- ------------------- 2/4 [pandas]\n",
            "   -------------------- ------------------- 2/4 [pandas]\n",
            "   -------------------- ------------------- 2/4 [pandas]\n",
            "   -------------------- ------------------- 2/4 [pandas]\n",
            "   -------------------- ------------------- 2/4 [pandas]\n",
            "   -------------------- ------------------- 2/4 [pandas]\n",
            "   -------------------- ------------------- 2/4 [pandas]\n",
            "   -------------------- ------------------- 2/4 [pandas]\n",
            "   -------------------- ------------------- 2/4 [pandas]\n",
            "   -------------------- ------------------- 2/4 [pandas]\n",
            "   -------------------- ------------------- 2/4 [pandas]\n",
            "   -------------------- ------------------- 2/4 [pandas]\n",
            "   -------------------- ------------------- 2/4 [pandas]\n",
            "   -------------------- ------------------- 2/4 [pandas]\n",
            "   -------------------- ------------------- 2/4 [pandas]\n",
            "   -------------------- ------------------- 2/4 [pandas]\n",
            "   -------------------- ------------------- 2/4 [pandas]\n",
            "   -------------------- ------------------- 2/4 [pandas]\n",
            "   -------------------- ------------------- 2/4 [pandas]\n",
            "   -------------------- ------------------- 2/4 [pandas]\n",
            "   -------------------- ------------------- 2/4 [pandas]\n",
            "   -------------------- ------------------- 2/4 [pandas]\n",
            "   -------------------- ------------------- 2/4 [pandas]\n",
            "   -------------------- ------------------- 2/4 [pandas]\n",
            "   -------------------- ------------------- 2/4 [pandas]\n",
            "   -------------------- ------------------- 2/4 [pandas]\n",
            "   -------------------- ------------------- 2/4 [pandas]\n",
            "   -------------------- ------------------- 2/4 [pandas]\n",
            "   -------------------- ------------------- 2/4 [pandas]\n",
            "   -------------------- ------------------- 2/4 [pandas]\n",
            "   -------------------- ------------------- 2/4 [pandas]\n",
            "   -------------------- ------------------- 2/4 [pandas]\n",
            "   -------------------- ------------------- 2/4 [pandas]\n",
            "   -------------------- ------------------- 2/4 [pandas]\n",
            "   -------------------- ------------------- 2/4 [pandas]\n",
            "   -------------------- ------------------- 2/4 [pandas]\n",
            "   -------------------- ------------------- 2/4 [pandas]\n",
            "   -------------------- ------------------- 2/4 [pandas]\n",
            "   -------------------- ------------------- 2/4 [pandas]\n",
            "   -------------------- ------------------- 2/4 [pandas]\n",
            "   -------------------- ------------------- 2/4 [pandas]\n",
            "   -------------------- ------------------- 2/4 [pandas]\n",
            "   -------------------- ------------------- 2/4 [pandas]\n",
            "   -------------------- ------------------- 2/4 [pandas]\n",
            "   -------------------- ------------------- 2/4 [pandas]\n",
            "   -------------------- ------------------- 2/4 [pandas]\n",
            "   -------------------- ------------------- 2/4 [pandas]\n",
            "   -------------------- ------------------- 2/4 [pandas]\n",
            "   -------------------- ------------------- 2/4 [pandas]\n",
            "   -------------------- ------------------- 2/4 [pandas]\n",
            "   -------------------- ------------------- 2/4 [pandas]\n",
            "   -------------------- ------------------- 2/4 [pandas]\n",
            "   -------------------- ------------------- 2/4 [pandas]\n",
            "   -------------------- ------------------- 2/4 [pandas]\n",
            "   -------------------- ------------------- 2/4 [pandas]\n",
            "   -------------------- ------------------- 2/4 [pandas]\n",
            "   -------------------- ------------------- 2/4 [pandas]\n",
            "   -------------------- ------------------- 2/4 [pandas]\n",
            "   -------------------- ------------------- 2/4 [pandas]\n",
            "   -------------------- ------------------- 2/4 [pandas]\n",
            "   -------------------- ------------------- 2/4 [pandas]\n",
            "   -------------------- ------------------- 2/4 [pandas]\n",
            "   -------------------- ------------------- 2/4 [pandas]\n",
            "   -------------------- ------------------- 2/4 [pandas]\n",
            "   -------------------- ------------------- 2/4 [pandas]\n",
            "   -------------------- ------------------- 2/4 [pandas]\n",
            "   -------------------- ------------------- 2/4 [pandas]\n",
            "   -------------------- ------------------- 2/4 [pandas]\n",
            "   -------------------- ------------------- 2/4 [pandas]\n",
            "   -------------------- ------------------- 2/4 [pandas]\n",
            "   -------------------- ------------------- 2/4 [pandas]\n",
            "   -------------------- ------------------- 2/4 [pandas]\n",
            "   -------------------- ------------------- 2/4 [pandas]\n",
            "   -------------------- ------------------- 2/4 [pandas]\n",
            "   -------------------- ------------------- 2/4 [pandas]\n",
            "   -------------------- ------------------- 2/4 [pandas]\n",
            "   -------------------- ------------------- 2/4 [pandas]\n",
            "   -------------------- ------------------- 2/4 [pandas]\n",
            "   -------------------- ------------------- 2/4 [pandas]\n",
            "   -------------------- ------------------- 2/4 [pandas]\n",
            "   -------------------- ------------------- 2/4 [pandas]\n",
            "   -------------------- ------------------- 2/4 [pandas]\n",
            "   -------------------- ------------------- 2/4 [pandas]\n",
            "   -------------------- ------------------- 2/4 [pandas]\n",
            "   -------------------- ------------------- 2/4 [pandas]\n",
            "   -------------------- ------------------- 2/4 [pandas]\n",
            "   -------------------- ------------------- 2/4 [pandas]\n",
            "   -------------------- ------------------- 2/4 [pandas]\n",
            "   -------------------- ------------------- 2/4 [pandas]\n",
            "   -------------------- ------------------- 2/4 [pandas]\n",
            "   -------------------- ------------------- 2/4 [pandas]\n",
            "   -------------------- ------------------- 2/4 [pandas]\n",
            "   -------------------- ------------------- 2/4 [pandas]\n",
            "   -------------------- ------------------- 2/4 [pandas]\n",
            "   -------------------- ------------------- 2/4 [pandas]\n",
            "   -------------------- ------------------- 2/4 [pandas]\n",
            "   -------------------- ------------------- 2/4 [pandas]\n",
            "   ------------------------------ --------- 3/4 [matplotlib]\n",
            "   ------------------------------ --------- 3/4 [matplotlib]\n",
            "   ------------------------------ --------- 3/4 [matplotlib]\n",
            "   ------------------------------ --------- 3/4 [matplotlib]\n",
            "   ------------------------------ --------- 3/4 [matplotlib]\n",
            "   ------------------------------ --------- 3/4 [matplotlib]\n",
            "   ------------------------------ --------- 3/4 [matplotlib]\n",
            "   ------------------------------ --------- 3/4 [matplotlib]\n",
            "   ------------------------------ --------- 3/4 [matplotlib]\n",
            "   ------------------------------ --------- 3/4 [matplotlib]\n",
            "   ------------------------------ --------- 3/4 [matplotlib]\n",
            "   ------------------------------ --------- 3/4 [matplotlib]\n",
            "   ------------------------------ --------- 3/4 [matplotlib]\n",
            "   ------------------------------ --------- 3/4 [matplotlib]\n",
            "   ------------------------------ --------- 3/4 [matplotlib]\n",
            "   ------------------------------ --------- 3/4 [matplotlib]\n",
            "   ------------------------------ --------- 3/4 [matplotlib]\n",
            "   ------------------------------ --------- 3/4 [matplotlib]\n",
            "   ------------------------------ --------- 3/4 [matplotlib]\n",
            "   ------------------------------ --------- 3/4 [matplotlib]\n",
            "   ------------------------------ --------- 3/4 [matplotlib]\n",
            "   ------------------------------ --------- 3/4 [matplotlib]\n",
            "   ------------------------------ --------- 3/4 [matplotlib]\n",
            "   ------------------------------ --------- 3/4 [matplotlib]\n",
            "   ------------------------------ --------- 3/4 [matplotlib]\n",
            "   ------------------------------ --------- 3/4 [matplotlib]\n",
            "   ------------------------------ --------- 3/4 [matplotlib]\n",
            "   ------------------------------ --------- 3/4 [matplotlib]\n",
            "   ------------------------------ --------- 3/4 [matplotlib]\n",
            "   ------------------------------ --------- 3/4 [matplotlib]\n",
            "   ------------------------------ --------- 3/4 [matplotlib]\n",
            "   ------------------------------ --------- 3/4 [matplotlib]\n",
            "   ------------------------------ --------- 3/4 [matplotlib]\n",
            "   ------------------------------ --------- 3/4 [matplotlib]\n",
            "   ------------------------------ --------- 3/4 [matplotlib]\n",
            "   ------------------------------ --------- 3/4 [matplotlib]\n",
            "   ------------------------------ --------- 3/4 [matplotlib]\n",
            "   ------------------------------ --------- 3/4 [matplotlib]\n",
            "   ------------------------------ --------- 3/4 [matplotlib]\n",
            "   ------------------------------ --------- 3/4 [matplotlib]\n",
            "   ------------------------------ --------- 3/4 [matplotlib]\n",
            "   ------------------------------ --------- 3/4 [matplotlib]\n",
            "   ------------------------------ --------- 3/4 [matplotlib]\n",
            "   ------------------------------ --------- 3/4 [matplotlib]\n",
            "   ------------------------------ --------- 3/4 [matplotlib]\n",
            "   ------------------------------ --------- 3/4 [matplotlib]\n",
            "   ------------------------------ --------- 3/4 [matplotlib]\n",
            "   ------------------------------ --------- 3/4 [matplotlib]\n",
            "   ------------------------------ --------- 3/4 [matplotlib]\n",
            "   ------------------------------ --------- 3/4 [matplotlib]\n",
            "   ------------------------------ --------- 3/4 [matplotlib]\n",
            "   ------------------------------ --------- 3/4 [matplotlib]\n",
            "   ------------------------------ --------- 3/4 [matplotlib]\n",
            "   ------------------------------ --------- 3/4 [matplotlib]\n",
            "   ------------------------------ --------- 3/4 [matplotlib]\n",
            "   ------------------------------ --------- 3/4 [matplotlib]\n",
            "   ------------------------------ --------- 3/4 [matplotlib]\n",
            "   ------------------------------ --------- 3/4 [matplotlib]\n",
            "   ------------------------------ --------- 3/4 [matplotlib]\n",
            "   ------------------------------ --------- 3/4 [matplotlib]\n",
            "   ------------------------------ --------- 3/4 [matplotlib]\n",
            "   ------------------------------ --------- 3/4 [matplotlib]\n",
            "   ---------------------------------------- 4/4 [matplotlib]\n",
            "\n",
            "Successfully installed contourpy-1.3.2 cycler-0.12.1 matplotlib-3.10.3 pandas-2.2.3\n",
            "Note: you may need to restart the kernel to use updated packages.\n"
          ]
        }
      ],
      "source": [
        "pip install numpy matplotlib pandas\n"
      ]
    },
    {
      "cell_type": "code",
      "execution_count": 42,
      "metadata": {
        "id": "hl7Y8TIP_BB7"
      },
      "outputs": [],
      "source": [
        "import os\n",
        "import numpy as np\n",
        "from matplotlib import pyplot as plt\n",
        "%matplotlib inline"
      ]
    },
    {
      "cell_type": "markdown",
      "metadata": {
        "id": "WEah88L-_BB8"
      },
      "source": [
        "## 1. Linear Regression with one variable\n",
        "\n",
        "Linear regression assumes a linear relationship between the input variables (X) and the single output variable (Y). More specifically, that output (Y) can be calculated from a linear combination of the input variables (X). When there is a single input variable, the method is referred to as a simple linear regression.\n",
        "\n",
        "Now you will implement simple linear regression to predict profits for a food truck. Suppose you are the CEO of a restaurant franchise and are considering different cities for opening a new outlet. The chain already has trucks in various cities and you have data for profits and populations from the cities. You would like to use this data to help you select which city to expand to next."
      ]
    },
    {
      "cell_type": "markdown",
      "metadata": {
        "id": "R-xdK3hG_BB9"
      },
      "source": [
        "### 1.1 Load the dataset\n",
        "\n",
        "The file `Data/ex1data1.txt` contains the dataset for our linear regression problem. The first column is the population of a city (in 10,000s) and the second column is the profit of a food truck in that city (in $10,000s). A negative value for profit indicates a loss.\n",
        "\n",
        "We provide you with the code needed to load this data. The dataset is loaded from the data file into the variables `X` and `Y`."
      ]
    },
    {
      "cell_type": "code",
      "execution_count": 5,
      "metadata": {
        "id": "xqbOEhta_BB9"
      },
      "outputs": [],
      "source": [
        "data = np.loadtxt(os.path.join('Data', 'ex1data.txt'), delimiter=',')\n",
        "X, Y = data[:, 0], data[:, 1]"
      ]
    },
    {
      "cell_type": "markdown",
      "metadata": {
        "id": "y3aFmx9X_BB9"
      },
      "source": [
        "### 1.2 Plot the dataset\n",
        "Before starting on any task, it is often useful to understand the data by visualizing it. For this dataset, you can use a scatter plot to visualize the data, since it has only two properties to plot (profit and population). Execute the next cell to visualize the data."
      ]
    },
    {
      "cell_type": "code",
      "execution_count": 6,
      "metadata": {
        "id": "N4DZ1yMw_BB-"
      },
      "outputs": [
        {
          "data": {
            "text/plain": [
              "Text(0.5, 0, 'Population of City in 10,000s')"
            ]
          },
          "execution_count": 6,
          "metadata": {},
          "output_type": "execute_result"
        },
        {
          "data": {
            "image/png": "[encoded data removed]",
            "text/plain": [
              "<Figure size 640x480 with 1 Axes>"
            ]
          },
          "metadata": {},
          "output_type": "display_data"
        }
      ],
      "source": [
        "pyplot.plot(X, Y, 'ro', ms=10, mec='k')\n",
        "pyplot.ylabel('Profit in $10,000')\n",
        "pyplot.xlabel('Population of City in 10,000s')"
      ]
    },
    {
      "cell_type": "markdown",
      "metadata": {
        "id": "ho8UH3eE_BB-"
      },
      "source": [
        "### 1.3 Learn the parameters\n",
        "In this part, you will fit the linear regression parameters $\\theta$ to the food truck dataset using gradient descent.\n",
        "\n",
        "The objective of linear regression is to minimize the cost function\n",
        "\n",
        "$$ J(\\theta) = \\frac{1}{2m} \\sum_{i=1}^m \\left( h_{\\theta}(x^{(i)}) - y^{(i)}\\right)^2 ------ (i)$$\n",
        "\n",
        "where the hypothesis $h_\\theta(x)$ is given by the linear model\n",
        "$$ h_\\theta(x) = \\theta_0 + \\theta_1 x ------ (ii)$$\n",
        "\n",
        "The parameters of your model are the $\\theta_j$ values. These are\n",
        "the values you will adjust to minimize cost $J(\\theta)$. One way to do this is to\n",
        "use the batch gradient descent algorithm. In batch gradient descent, each\n",
        "iteration performs the update\n",
        "\n",
        "$$ \\theta_0 = \\theta_0 - \\alpha \\frac{1}{m} \\sum_{i=1}^m \\left( h_\\theta(x^{(i)}) - y^{(i)}\\right) ------ (iii)$$\n",
        "\n",
        "$$ \\theta_1 = \\theta_1 - \\alpha \\frac{1}{m} \\sum_{i=1}^m \\left( h_\\theta(x^{(i)}) - y^{(i)}\\right)x^{(i)} ------ (iv)$$\n",
        "\n",
        "With each step of gradient descent, your parameters $\\theta_j$ come closer to the optimal values that will achieve the lowest cost J($\\theta$).\n",
        "\n",
        "Let's start by implementing the hypothesis $h_\\theta(x)$."
      ]
    },
    {
      "cell_type": "code",
      "execution_count": 7,
      "metadata": {
        "id": "YtGgKMRM_BB-"
      },
      "outputs": [],
      "source": [
        "### GRADED FUNCTION ###\n",
        "def predict(x, theta0, theta1):\n",
        "    '''\n",
        "    Calculates the hypothesis for any input sample `x` given the parameters `theta`.\n",
        "\n",
        "    Arguments\n",
        "    ---------\n",
        "    x : float\n",
        "        The input sample.\n",
        "\n",
        "    theta0 : float\n",
        "        The parameter for the regression function.\n",
        "\n",
        "    theta1 : float\n",
        "        The parameter for the regression function.\n",
        "\n",
        "    Returns\n",
        "    -------\n",
        "    h_x : float\n",
        "        The hypothesis for input sample.\n",
        "\n",
        "    Hint(s)\n",
        "    -------\n",
        "    Compute equation (ii).\n",
        "    '''\n",
        "    # You need to return the following variable(s) correctly\n",
        "    \n",
        "    ### START CODE HERE ### (≈ 1 line of code)\n",
        "    h_x = 0.0\n",
        "    x = float(x)\n",
        "    theta0 = float(theta0)      \n",
        "    theta1 = float(theta1)\n",
        "    h_x = theta0 + theta1 * x\n",
        "\n",
        "    ### END CODE HERE ###\n",
        "    # h_x will give the predicted values\n",
        "    return h_x"
      ]
    },
    {
      "cell_type": "markdown",
      "metadata": {
        "id": "9rbV11-W_BCG"
      },
      "source": [
        "Execute the next cell to verify your implementation."
      ]
    },
    {
      "cell_type": "code",
      "execution_count": 8,
      "metadata": {
        "id": "-g3Zz9uQ_BCG"
      },
      "outputs": [
        {
          "name": "stdout",
          "output_type": "stream",
          "text": [
            "With x = 2, theta0 = 1.0, theta1 = 1.0\n",
            "Predicted Hypothesis h(x) = 3.00\n",
            "Expected hypothesis h(x) = 3.00\n",
            "\n"
          ]
        }
      ],
      "source": [
        "h_x = predict(x=2, theta0=1.0, theta1=1.0)\n",
        "print('With x = 2, theta0 = 1.0, theta1 = 1.0\\nPredicted Hypothesis h(x) = %.2f' % h_x)\n",
        "print(\"Expected hypothesis h(x) = 3.00\\n\")"
      ]
    },
    {
      "cell_type": "markdown",
      "metadata": {
        "id": "Dd-U7-eC_BCG"
      },
      "source": [
        "As you perform gradient descent to learn minimize the cost function  $J(\\theta)$, it is helpful to monitor the convergence by computing the cost. In this section, you will implement a function to calculate  $J(\\theta)$ so you can check the convergence of your gradient descent implementation."
      ]
    },
    {
      "cell_type": "code",
      "execution_count": 9,
      "metadata": {
        "id": "2xhgJRk9_BCH"
      },
      "outputs": [],
      "source": [
        "### GRADED FUNCTION ###\n",
        "def computeCost(X, Y, theta0, theta1):\n",
        "    '''\n",
        "    Computes cost for linear regression. Computes the cost of using `theta` as the\n",
        "    parameter for linear regression to fit the data points in `X` and `Y`.\n",
        "\n",
        "    Arguments\n",
        "    ---------\n",
        "    X : array\n",
        "        The input dataset of shape (m, ), where m is the number of training examples.\n",
        "\n",
        "    Y : array\n",
        "        The values of the function at each data point. This is a vector of\n",
        "        shape (m, ), where m is the number of training examples.\n",
        "\n",
        "    theta0 : float\n",
        "        The parameter for the regression function.\n",
        "\n",
        "    theta1 : float\n",
        "        The parameter for the regression function.\n",
        "\n",
        "    Returns\n",
        "    -------\n",
        "    J : float\n",
        "        The value of the regression cost function.\n",
        "\n",
        "    Hint(s)\n",
        "    -------\n",
        "    Compute equation (i).\n",
        "    '''\n",
        "    # initialize some useful values\n",
        "    m = Y.size  # number of training examples\n",
        "    h_x = theta0 + theta1 * X  # hypothesis for all training examples\n",
        "\n",
        "    squared_errors = (h_x - Y) ** 2  # squared errors for all training examples\n",
        "    J = (1/(2*m)) * np.sum(squared_errors) \n",
        "    # You need to return the following variable(s) correctly\n",
        "\n",
        "    ### START CODE HERE ### (≈ 3-4 lines of code)\n",
        "\n",
        "\n",
        "\n",
        "\n",
        "    ### END CODE HERE ###\n",
        "\n",
        "    return J"
      ]
    },
    {
      "cell_type": "markdown",
      "metadata": {
        "id": "jLIK2kYI_BCH"
      },
      "source": [
        "Execute the next cell to verify your implementation."
      ]
    },
    {
      "cell_type": "code",
      "execution_count": 10,
      "metadata": {
        "id": "vAYE_gJ__BCH"
      },
      "outputs": [
        {
          "name": "stdout",
          "output_type": "stream",
          "text": [
            "With theta0 = 1.0, theta1 = 1.0\n",
            "Predicted cost J = 10.27\n",
            "Expected cost J = 10.27\n",
            "\n"
          ]
        }
      ],
      "source": [
        "J = computeCost(X, Y, theta0=1.0, theta1=1.0)\n",
        "print('With theta0 = 1.0, theta1 = 1.0\\nPredicted cost J = %.2f' % J)\n",
        "print(\"Expected cost J = 10.27\\n\")"
      ]
    },
    {
      "cell_type": "markdown",
      "metadata": {
        "id": "T4pIzk0G_BCH"
      },
      "source": [
        "Next, you will complete a function which implements gradient descent. The loop structure has been written for you, and you only need to supply the updates to parameters $\\theta_j$  within each iteration (epoch).\n",
        "\n",
        "The starter code for the function `gradientDescent` calls `computeCost` on every iteration and saves the cost to a `python` list. Assuming you have implemented `gradientDescent` and `computeCost` correctly, your value of $J(\\theta)$ should never increase, and should converge to a steady value by the end of the algorithm."
      ]
    },
    {
      "cell_type": "code",
      "execution_count": 11,
      "metadata": {
        "id": "epcXEBx9_BCH"
      },
      "outputs": [],
      "source": [
        "### GRADED FUNCTION ###\n",
        "def gradientDescent(X, Y, alpha, n_epoch):\n",
        "    \"\"\"\n",
        "    Performs gradient descent to learn `theta`. Updates `theta` by taking `n_epoch`\n",
        "    gradient steps with learning rate `alpha`.\n",
        "\n",
        "    Arguments\n",
        "    ---------\n",
        "    X : array\n",
        "        The input dataset of shape (m, ), where m is the number of training examples.\n",
        "\n",
        "    Y : array\n",
        "        The values of the function at each data point. This is a vector of\n",
        "        shape (m, ), where m is the number of training examples.\n",
        "\n",
        "    alpha : float\n",
        "        The learning rate.\n",
        "\n",
        "    n_epoch : int\n",
        "        The number of iterations for gradient descent.\n",
        "\n",
        "    Returns\n",
        "    -------\n",
        "    theta0 : float\n",
        "        The parameter for the regression function.\n",
        "\n",
        "    theta1 : float\n",
        "        The parameter for the regression function.\n",
        "\n",
        "    J : list\n",
        "        A python list for the values of the cost function after each iteration.\n",
        "\n",
        "    Hint(s)\n",
        "    -------\n",
        "    Compute equation (iii) and (iv).\n",
        "\n",
        "    While debugging, it can be useful to print out the values of\n",
        "    the cost function (computeCost) here.\n",
        "    \"\"\"\n",
        "    # initialize some useful values\n",
        "    m = Y.size  # number of training examples\n",
        "    J = list()  # list to store cost\n",
        "\n",
        "    # You need to return the following variables correctly\n",
        "    theta0 = 0.0\n",
        "    theta1 = 0.0\n",
        "    for epoch in range(n_epoch):\n",
        "        ### START CODE HERE ### (≈ 5-10 lines of code)\n",
        "        h_x = theta0 + theta1 * X\n",
        "        theta0 -= (alpha/m) * np.sum(h_x - Y)\n",
        "        theta1 -= (alpha/m) * np.sum((h_x - Y) * X)\n",
        "\n",
        "\n",
        "\n",
        "\n",
        "\n",
        "\n",
        "\n",
        "\n",
        "        ### END CODE HERE ###\n",
        "\n",
        "        J.append(computeCost(X, Y, theta0, theta1))\n",
        "    return theta0, theta1, J"
      ]
    },
    {
      "cell_type": "markdown",
      "metadata": {
        "id": "I2x3-lL5_BCI"
      },
      "source": [
        "Execute the next cell to verify your implementation."
      ]
    },
    {
      "cell_type": "code",
      "execution_count": 12,
      "metadata": {
        "id": "aS9c0GMZ_BCI"
      },
      "outputs": [
        {
          "name": "stdout",
          "output_type": "stream",
          "text": [
            "Predicted theta0 = -3.6303, theta1 = 1.1664, cost = 4.4834\n",
            "Expected theta0 = -3.6303, theta1 = 1.1664, cost = 4.4834\n"
          ]
        }
      ],
      "source": [
        "n_epoch = 1500\n",
        "alpha = 0.01\n",
        "\n",
        "theta0, theta1, J = gradientDescent(X ,Y, alpha, n_epoch)\n",
        "print('Predicted theta0 = %.4f, theta1 = %.4f, cost = %.4f' % (theta0, theta1, J[-1]))\n",
        "print('Expected theta0 = -3.6303, theta1 = 1.1664, cost = 4.4834')"
      ]
    },
    {
      "cell_type": "markdown",
      "metadata": {
        "id": "VTlpeZ3O_BCI"
      },
      "source": [
        "### 1.4 Plot the linear fit\n",
        "\n",
        "Use your learned parameters $\\theta_j$ to plot the linear fit."
      ]
    },
    {
      "cell_type": "code",
      "execution_count": 13,
      "metadata": {
        "id": "eaBJ97G4_BCI"
      },
      "outputs": [
        {
          "data": {
            "text/plain": [
              "<matplotlib.legend.Legend at 0x2674f8e81a0>"
            ]
          },
          "execution_count": 13,
          "metadata": {},
          "output_type": "execute_result"
        },
        {
          "data": {
            "image/png": "[encoded data removed]",
            "text/plain": [
              "<Figure size 640x480 with 1 Axes>"
            ]
          },
          "metadata": {},
          "output_type": "display_data"
        }
      ],
      "source": [
        "h_x = list()\n",
        "for x in X:\n",
        "    h_x.append(predict(x, theta0, theta1))\n",
        "pyplot.plot(X, Y, 'ro', ms=10, mec='k')\n",
        "pyplot.ylabel('Profit in $10,000')\n",
        "pyplot.xlabel('Population of City in 10,000s')\n",
        "pyplot.plot(X, h_x, '-')\n",
        "pyplot.legend(['Training data', 'Linear regression'])"
      ]
    },
    {
      "cell_type": "markdown",
      "metadata": {
        "id": "FfwEO4WD_BCI"
      },
      "source": [
        "### 1.5 Make predictions\n",
        "\n",
        "Use your learned parameters $\\theta_j$ to make food truck profit predictions in areas with population of 40,000 and 65,000."
      ]
    },
    {
      "cell_type": "code",
      "execution_count": 14,
      "metadata": {
        "id": "2fCHfw1i_BCI"
      },
      "outputs": [
        {
          "name": "stdout",
          "output_type": "stream",
          "text": [
            "For population = 40,000, predicted profit = $10351.58\n",
            "For population = 65,000, predicted profit = $39510.64\n"
          ]
        }
      ],
      "source": [
        "print('For population = 40,000, predicted profit = $%.2f' % (predict(4, theta0, theta1)*10000))\n",
        "print('For population = 65,000, predicted profit = $%.2f' % (predict(6.5, theta0, theta1)*10000))"
      ]
    },
    {
      "cell_type": "markdown",
      "metadata": {
        "id": "DgsnBkAX_BCJ"
      },
      "source": [
        "## 2. Multivariate Linear Regression\n",
        "\n",
        "Now, you will implement multivariate linear regression (from scratch) to predict the the median price of homes in a Boston suburb during the mid-1970s. To do this, you are given with the dataset that has 404 examples in the train set and 102 examples in test set. Each example has 13 input variables (features) and one output variable (price in $10,000s). Below is the description of input variables:\n",
        "\n",
        "- Per capita crime rate.\n",
        "- The proportion of residential land zoned for lots over 25,000 square feet.\n",
        "- The proportion of non-retail business acres per town.\n",
        "- Charles River dummy variable (= 1 if tract bounds river; 0 otherwise).\n",
        "- Nitric oxides concentration (parts per 10 million).\n",
        "- The average number of rooms per dwelling.\n",
        "- The proportion of owner-occupied units built before 1940.\n",
        "- Weighted distances to five Boston employment centers.\n",
        "- Index of accessibility to radial highways.\n",
        "- Full-value property-tax rate per $10,000.\n",
        "- Pupil-teacher ratio by town.\n",
        "- 1000 * (Bk - 0.63) ** 2 where Bk is the proportion of Black people by town.\n",
        "- Percentage lower status of the population.\n",
        "\n",
        "Each one of these input features is stored using a different scale. Some features are represented by a proportion between 0 and 1, other features are ranges between 1 and 12, some are ranges between 0 and 100, and so on. This is often the case with real-world data, and understanding how to explore and clean such data is an important skill to develop.\n",
        "\n",
        "A common way to normalize features that use different scales and ranges is:\n",
        "\n",
        "- Subtract the mean value of each feature from the dataset.\n",
        "- After subtracting the mean, additionally scale (divide) the feature values by their respective standard deviations.\n",
        "\n",
        "Note: We only use examples of the train set to estimate the mean and standard deviation.\n",
        "\n",
        "You have to follow exactly the same steps as above i.e. implement hypothesis, cost function and gradient descent for multivariate linear regression to learn parameters $\\theta$ using train set. Finally, report the cost (error) using your learned parameters $\\theta$ on test set. Expected Mean Square Error on this dataset is 11.5 - 12.5 approximately.\n",
        "\n",
        "We provide you with the code needed to load this dataset. The dataset is loaded from the data files into the variables `train_X`, `train_Y`, `test_X` and `test_Y`."
      ]
    },
    {
      "cell_type": "code",
      "execution_count": null,
      "metadata": {},
      "outputs": [
        {
          "name": "stdout",
          "output_type": "stream",
          "text": [
            "Test MSE (after cleaning): 19.01557940066669\n"
          ]
        }
      ],
      "source": [
        "\n",
        "# Step 1: Load training and test data\n",
        "train_X = np.loadtxt(os.path.join('Data', 'ex2traindata.txt'))\n",
        "train_Y = np.loadtxt(os.path.join('Data', 'ex2trainlabels.txt'))\n",
        "test_X = np.loadtxt(os.path.join('Data', 'ex2testdata.txt'))\n",
        "test_Y = np.loadtxt(os.path.join('Data', 'ex2testlabels.txt'))\n",
        "\n",
        "# Step 2: Outlier removal using z-score (manual)\n",
        "train_mean = np.mean(train_X, axis=0)\n",
        "train_std = np.std(train_X, axis=0)\n",
        "z_scores = (train_X - train_mean) / train_std\n",
        "mask = (np.abs(z_scores) < 3).all(axis=1)\n",
        "\n",
        "train_X = train_X[mask]\n",
        "train_Y = train_Y[mask]\n",
        "\n",
        "# Step 3: Remove constant features (std = 0)\n",
        "std = train_X.std(axis=0)\n",
        "non_constant = std > 0\n",
        "train_X = train_X[:, non_constant]\n",
        "test_X = test_X[:, non_constant]\n",
        "\n",
        "# Step 4: Normalize train and test using train stats\n",
        "mean = train_X.mean(axis=0)\n",
        "std = train_X.std(axis=0)\n",
        "\n",
        "train_X_norm = (train_X - mean) / std\n",
        "test_X_norm = (test_X - mean) / std\n",
        "\n",
        "# Step 5: Add bias column\n",
        "train_X_bias = np.hstack([np.ones((train_X.shape[0], 1)), train_X_norm])\n",
        "test_X_bias = np.hstack([np.ones((test_X.shape[0], 1)), test_X_norm])\n",
        "\n",
        "# Step 6: Cost and gradient descent\n",
        "def compute_cost(X, y, theta):\n",
        "    m = y.size\n",
        "    error = (X @ theta) - y.reshape(-1, 1)\n",
        "    return (1 / (2 * m)) * np.sum(error ** 2)\n",
        "\n",
        "def gradient_descent(X, y, theta, alpha, n_epoch):\n",
        "    m = y.size\n",
        "    J_history = []\n",
        "    for _ in range(n_epoch):\n",
        "        error = (X @ theta) - y.reshape(-1, 1)\n",
        "        grad = (1 / m) * (X.T @ error)\n",
        "        theta -= alpha * grad\n",
        "        J_history.append(compute_cost(X, y, theta))\n",
        "    return theta, J_history\n",
        "\n",
        "# Step 7: Train\n",
        "alpha = 0.01\n",
        "epochs = 3000\n",
        "theta_init = np.zeros((train_X_bias.shape[1], 1))\n",
        "theta_final, J_history = gradient_descent(train_X_bias, train_Y, theta_init, alpha, epochs)\n",
        "\n",
        "# Step 8: Predict and evaluate on test set\n",
        "predictions = test_X_bias @ theta_final\n",
        "mse_test = np.mean((predictions.flatten() - test_Y) ** 2)\n",
        "print(\"Test MSE (after cleaning):\", mse_test)\n",
        "\n",
        "\n"
      ]
    },
    {
      "cell_type": "code",
      "execution_count": null,
      "metadata": {},
      "outputs": [],
      "source": [
        "\n",
        "# Step 9: Plot cost\n",
        "plt.plot(cost_history)\n",
        "plt.xlabel(\"Epoch\")\n",
        "plt.ylabel(\"Cost\")\n",
        "plt.title(\"Cost Convergence (Manual Z-Score, No L2)\")\n",
        "plt.grid(True)\n",
        "plt.tight_layout()\n",
        "plt.show()"
      ]
    },
    {
      "cell_type": "markdown",
      "metadata": {
        "id": "qbRvOPdj_BCJ"
      },
      "source": [
        "## 3. Regularized Linear Regression\n",
        "\n",
        "Now, you'll use the [scikit-learn](https://scikit-learn.org/stable/index.html) to implement [Linear Regression](https://scikit-learn.org/stable/modules/generated/sklearn.linear_model.LinearRegression.html), [Ridge](https://scikit-learn.org/stable/modules/generated/sklearn.linear_model.Ridge.html#sklearn.linear_model.Ridge), [Lasso](https://scikit-learn.org/stable/modules/generated/sklearn.linear_model.Lasso.html#sklearn.linear_model.Lasso), [Elastic Net](https://scikit-learn.org/stable/modules/generated/sklearn.linear_model.ElasticNet.html#sklearn.linear_model.ElasticNet) and apply them to Boston house pricing dataset (provided in part 2). Try out different values of regularization coefficient (known as alpha in scikit-learn) and use the [Mean Squared Error](https://scikit-learn.org/stable/modules/generated/sklearn.metrics.mean_squared_error.html) to report loss with each regression. Finally, plot the regularization coefficients alpha (x-axis) with learned parameters $\\theta$ (y-axis) for Ridge and Lasso. Please read [this](https://www.atakanekiz.com/en/technical/understanding-lasso-and-ridge-regression/) to get better understanding of the desired plots."
      ]
    },
    {
      "cell_type": "code",
      "execution_count": null,
      "metadata": {},
      "outputs": [],
      "source": [
        "!pip install scikit-learn\n"
      ]
    },
    {
      "cell_type": "code",
      "execution_count": 47,
      "metadata": {
        "id": "CtRSnCTu_BCJ"
      },
      "outputs": [],
      "source": [
        "from sklearn.linear_model import LinearRegression\n",
        "from sklearn.linear_model import Ridge\n",
        "from sklearn.linear_model import Lasso\n",
        "from sklearn.linear_model import ElasticNet\n",
        "from sklearn.metrics import mean_squared_error"
      ]
    },
    {
      "cell_type": "code",
      "execution_count": 55,
      "metadata": {
        "id": "cIxO4YxJ_BCJ"
      },
      "outputs": [
        {
          "data": {
            "image/png": "[encoded data removed]",
            "text/plain": [
              "<Figure size 1200x500 with 2 Axes>"
            ]
          },
          "metadata": {},
          "output_type": "display_data"
        },
        {
          "data": {
            "text/plain": [
              "{'LinearRegression': 19.03180838634571,\n",
              " 'Ridge': [19.031775047044295,\n",
              "  19.031688598699997,\n",
              "  19.03137824799803,\n",
              "  19.03026713846075,\n",
              "  19.026328221295124,\n",
              "  19.012851503894073,\n",
              "  18.97231610175751,\n",
              "  18.90035984815568,\n",
              "  19.07531789546141,\n",
              "  21.123974571444027],\n",
              " 'Lasso': [19.028928627277853,\n",
              "  19.02176202805889,\n",
              "  19.002597440563815,\n",
              "  18.93224038696774,\n",
              "  19.40332764265665,\n",
              "  23.053681730049025,\n",
              "  36.43390086510547,\n",
              "  83.92816422632019,\n",
              "  83.92816422632019,\n",
              "  83.92816422632019],\n",
              " 'ElasticNet': [19.02496403080143,\n",
              "  19.008548716961233,\n",
              "  18.964457983943035,\n",
              "  18.891613045036994,\n",
              "  19.496434545732622,\n",
              "  23.493940904339127,\n",
              "  38.478262626795654,\n",
              "  74.56620348952025,\n",
              "  83.92816422632019,\n",
              "  83.92816422632019]}"
            ]
          },
          "execution_count": 55,
          "metadata": {},
          "output_type": "execute_result"
        }
      ],
      "source": [
        "''' Start your code of part 3 from here, add the new code cells as per your requirement. '''\n",
        "# Part 3: Regularized Linear Regression with scikit-learn (Ridge, Lasso, ElasticNet, LinearRegression)\n",
        "\n",
        "\n",
        "# Step 1: Load data\n",
        "train_X = np.loadtxt(os.path.join('Data', 'ex2traindata.txt'))\n",
        "train_Y = np.loadtxt(os.path.join('Data', 'ex2trainlabels.txt'))\n",
        "test_X = np.loadtxt(os.path.join('Data', 'ex2testdata.txt'))\n",
        "test_Y = np.loadtxt(os.path.join('Data', 'ex2testlabels.txt'))\n",
        "\n",
        "\n",
        "# Step 2: Remove outliers using z-score on training data only\n",
        "mean_train = train_X.mean(axis=0)\n",
        "std_train = train_X.std(axis=0)\n",
        "z_scores = (train_X - mean_train) / std_train\n",
        "mask = (np.abs(z_scores) < 3).all(axis=1)\n",
        "\n",
        "train_X = train_X[mask]\n",
        "train_Y = train_Y[mask]\n",
        "\n",
        "# Step 3: Remove constant features\n",
        "stds = train_X.std(axis=0)\n",
        "non_constant = stds > 0\n",
        "train_X = train_X[:, non_constant]\n",
        "test_X = test_X[:, non_constant]\n",
        "\n",
        "# Step 4: Normalize train and test\n",
        "mean = train_X.mean(axis=0)\n",
        "std = train_X.std(axis=0)\n",
        "train_X_norm = (train_X - mean) / std\n",
        "test_X_norm = (test_X - mean) / std\n",
        "\n",
        "# Step 5: Setup models and alphas\n",
        "alphas = np.logspace(-3, 2, 10)\n",
        "ridge_thetas = []\n",
        "lasso_thetas = []\n",
        "mse_results = {\"LinearRegression\": None, \"Ridge\": [], \"Lasso\": [], \"ElasticNet\": []}\n",
        "\n",
        "# Linear Regression (No regularization)\n",
        "linreg = LinearRegression()\n",
        "linreg.fit(train_X_norm, train_Y)\n",
        "preds = linreg.predict(test_X_norm)\n",
        "mse_results[\"LinearRegression\"] = mean_squared_error(test_Y, preds)\n",
        "\n",
        "# Ridge, Lasso, ElasticNet with multiple alpha values\n",
        "for alpha in alphas:\n",
        "    ridge = Ridge(alpha=alpha)\n",
        "    ridge.fit(train_X_norm, train_Y)\n",
        "    preds_ridge = ridge.predict(test_X_norm)\n",
        "    mse_results[\"Ridge\"].append(mean_squared_error(test_Y, preds_ridge))\n",
        "    ridge_thetas.append(ridge.coef_)\n",
        "\n",
        "    lasso = Lasso(alpha=alpha, max_iter=10000)\n",
        "    lasso.fit(train_X_norm, train_Y)\n",
        "    preds_lasso = lasso.predict(test_X_norm)\n",
        "    mse_results[\"Lasso\"].append(mean_squared_error(test_Y, preds_lasso))\n",
        "    lasso_thetas.append(lasso.coef_)\n",
        "\n",
        "    elastic = ElasticNet(alpha=alpha, l1_ratio=0.5, max_iter=10000)\n",
        "    elastic.fit(train_X_norm, train_Y)\n",
        "    preds_elastic = elastic.predict(test_X_norm)\n",
        "    mse_results[\"ElasticNet\"].append(mean_squared_error(test_Y, preds_elastic))\n",
        "\n",
        "# Convert coefficient lists to arrays\n",
        "ridge_thetas = np.array(ridge_thetas)\n",
        "lasso_thetas = np.array(lasso_thetas)\n",
        "\n",
        "# Step 6: Plot theta (coefficients) vs alpha\n",
        "plt.figure(figsize=(12, 5))\n",
        "\n",
        "plt.subplot(1, 2, 1)\n",
        "for i in range(ridge_thetas.shape[1]):\n",
        "    plt.plot(alphas, ridge_thetas[:, i], label=f\"θ{i+1}\")\n",
        "plt.xscale('log')\n",
        "plt.title(\"Ridge: Coefficients vs Alpha\")\n",
        "plt.xlabel(\"Alpha (log scale)\")\n",
        "plt.ylabel(\"Coefficient Value\")\n",
        "plt.grid(True)\n",
        "\n",
        "plt.subplot(1, 2, 2)\n",
        "for i in range(lasso_thetas.shape[1]):\n",
        "    plt.plot(alphas, lasso_thetas[:, i], label=f\"θ{i+1}\")\n",
        "plt.xscale('log')\n",
        "plt.title(\"Lasso: Coefficients vs Alpha\")\n",
        "plt.xlabel(\"Alpha (log scale)\")\n",
        "plt.ylabel(\"Coefficient Value\")\n",
        "plt.grid(True)\n",
        "\n",
        "plt.tight_layout()\n",
        "plt.show()\n",
        "\n",
        "mse_results\n"
      ]
    },
    {
      "cell_type": "code",
      "execution_count": null,
      "metadata": {
        "id": "b-rk7tZF_BCK"
      },
      "outputs": [],
      "source": []
    }
  ],
  "metadata": {
    "colab": {
      "provenance": []
    },
    "kernelspec": {
      "display_name": "Python 3",
      "language": "python",
      "name": "python3"
    },
    "language_info": {
      "codemirror_mode": {
        "name": "ipython",
        "version": 3
      },
      "file_extension": ".py",
      "mimetype": "text/x-python",
      "name": "python",
      "nbconvert_exporter": "python",
      "pygments_lexer": "ipython3",
      "version": "3.13.2"
    }
  },
  "nbformat": 4,
  "nbformat_minor": 0
}
