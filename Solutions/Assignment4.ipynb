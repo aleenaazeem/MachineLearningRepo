{
  "cells": [
    {
      "cell_type": "markdown",
      "metadata": {
        "id": "dYHCKyuYE-lF"
      },
      "source": [
        "# Machine Learning\n",
        "## Programming Assignment 4: Logistic Regression\n",
        "\n",
        "### Instructions:\n",
        "The aim of this assignment is to give you hands-on experience with a real-life machine learning application. You will be using Logistic Regression classifier to predict digits based on their drawing.\n",
        "You can only use the Python programming language and Jupyter Notebooks. Please use procedural programming style and comment your code thoroughly. There are two parts of this assignment. In part 1, you can use NumPy, Pandas, Matplotlib, and any other standard Python libraries. You are not allowed to use NLTK, scikit-learn, or any other machine learning toolkit. You can only use scikit-learn in part 2."
      ]
    },
    {
      "cell_type": "markdown",
      "metadata": {
        "id": "MTXoy6nUE-lH"
      },
      "source": [
        "### Part 1: Implementing Logistic Regression classifier from scratch (75 marks)\n",
        "\n",
        "You are not allowed to use scikit-learn or any other machine learning toolkit for this part. You have to implement your own Logistic Regression classifier from scratch. You may use Pandas, NumPy, Matplotlib, and other standard Python libraries.\n",
        "\n",
        "#### Problem:\n",
        "The purpose of this assignment is to get you familiar with the Logistic Regression classification. You are given the ‘MNIST’ dataset that contains around 60000 hand drawn digits. Your task is to implement the Logistic Regression classifier and use it for predicting the digits based on their drawing.\n"
      ]
    },
    {
      "cell_type": "code",
      "execution_count": 1,
      "metadata": {
        "id": "tCwEtU4jE-lI"
      },
      "outputs": [],
      "source": [
        "## Here are the libraries you will need for this part/\n",
        "import pandas as pd\n",
        "import numpy as np\n",
        "import scipy.spatial as sc\n",
        "import matplotlib.pyplot as plt\n",
        "import re\n",
        "import random\n",
        "%matplotlib inline\n",
        "\n",
        "from sklearn.datasets import load_digits\n",
        "from sklearn.preprocessing import StandardScaler\n",
        "\n"
      ]
    },
    {
      "cell_type": "markdown",
      "metadata": {
        "id": "5WTh1_gsE-lK"
      },
      "source": [
        "#### Task 1.1: Dataset (5 points)\n",
        "The MNIST digits dataset is a widely used benchmark dataset in the field of machine learning and computer vision. MNIST stands for Modified National Institute of Standards and Technology, which is the organization that collected and curated the dataset. The MNIST dataset consists of a collection of 60,000 handwritten digit images for training and an additional 10,000 images for testing. These images are grayscale and have a fixed size of 28x28 pixels. Each image represents a single handwritten digit ranging from 0 to 9.  Each image in the dataset is accompanied by its corresponding label, indicating the digit it represents. The labels are represented as integers from 0 to 9, matching the handwritten digit in the image. This labeling allows for supervised learning tasks, where algorithms can learn to classify and recognize handwritten digits based on the provided training examples."
      ]
    },
    {
      "cell_type": "markdown",
      "metadata": {
        "id": "4pr_Y4C6E-lK"
      },
      "source": [
        "#### Task 1.2: Data Preprocessing (10 points)\n",
        "\n",
        "In the preprocessing step, you’re required to load the data, and scale the values using the StandardScalar function present in scikit-learn"
      ]
    },
    {
      "cell_type": "code",
      "execution_count": 2,
      "metadata": {
        "id": "J8MD2LNKE-lL"
      },
      "outputs": [
        {
          "data": {
            "text/html": [
              "<div>\n",
              "<style scoped>\n",
              "    .dataframe tbody tr th:only-of-type {\n",
              "        vertical-align: middle;\n",
              "    }\n",
              "\n",
              "    .dataframe tbody tr th {\n",
              "        vertical-align: top;\n",
              "    }\n",
              "\n",
              "    .dataframe thead th {\n",
              "        text-align: right;\n",
              "    }\n",
              "</style>\n",
              "<table border=\"1\" class=\"dataframe\">\n",
              "  <thead>\n",
              "    <tr style=\"text-align: right;\">\n",
              "      <th></th>\n",
              "      <th>label</th>\n",
              "      <th>1x1</th>\n",
              "      <th>1x2</th>\n",
              "      <th>1x3</th>\n",
              "      <th>1x4</th>\n",
              "      <th>1x5</th>\n",
              "      <th>1x6</th>\n",
              "      <th>1x7</th>\n",
              "      <th>1x8</th>\n",
              "      <th>1x9</th>\n",
              "      <th>...</th>\n",
              "      <th>28x19</th>\n",
              "      <th>28x20</th>\n",
              "      <th>28x21</th>\n",
              "      <th>28x22</th>\n",
              "      <th>28x23</th>\n",
              "      <th>28x24</th>\n",
              "      <th>28x25</th>\n",
              "      <th>28x26</th>\n",
              "      <th>28x27</th>\n",
              "      <th>28x28</th>\n",
              "    </tr>\n",
              "  </thead>\n",
              "  <tbody>\n",
              "    <tr>\n",
              "      <th>0</th>\n",
              "      <td>5</td>\n",
              "      <td>0</td>\n",
              "      <td>0</td>\n",
              "      <td>0</td>\n",
              "      <td>0</td>\n",
              "      <td>0</td>\n",
              "      <td>0</td>\n",
              "      <td>0</td>\n",
              "      <td>0</td>\n",
              "      <td>0</td>\n",
              "      <td>...</td>\n",
              "      <td>0</td>\n",
              "      <td>0</td>\n",
              "      <td>0</td>\n",
              "      <td>0</td>\n",
              "      <td>0</td>\n",
              "      <td>0</td>\n",
              "      <td>0</td>\n",
              "      <td>0</td>\n",
              "      <td>0</td>\n",
              "      <td>0</td>\n",
              "    </tr>\n",
              "    <tr>\n",
              "      <th>1</th>\n",
              "      <td>0</td>\n",
              "      <td>0</td>\n",
              "      <td>0</td>\n",
              "      <td>0</td>\n",
              "      <td>0</td>\n",
              "      <td>0</td>\n",
              "      <td>0</td>\n",
              "      <td>0</td>\n",
              "      <td>0</td>\n",
              "      <td>0</td>\n",
              "      <td>...</td>\n",
              "      <td>0</td>\n",
              "      <td>0</td>\n",
              "      <td>0</td>\n",
              "      <td>0</td>\n",
              "      <td>0</td>\n",
              "      <td>0</td>\n",
              "      <td>0</td>\n",
              "      <td>0</td>\n",
              "      <td>0</td>\n",
              "      <td>0</td>\n",
              "    </tr>\n",
              "    <tr>\n",
              "      <th>2</th>\n",
              "      <td>4</td>\n",
              "      <td>0</td>\n",
              "      <td>0</td>\n",
              "      <td>0</td>\n",
              "      <td>0</td>\n",
              "      <td>0</td>\n",
              "      <td>0</td>\n",
              "      <td>0</td>\n",
              "      <td>0</td>\n",
              "      <td>0</td>\n",
              "      <td>...</td>\n",
              "      <td>0</td>\n",
              "      <td>0</td>\n",
              "      <td>0</td>\n",
              "      <td>0</td>\n",
              "      <td>0</td>\n",
              "      <td>0</td>\n",
              "      <td>0</td>\n",
              "      <td>0</td>\n",
              "      <td>0</td>\n",
              "      <td>0</td>\n",
              "    </tr>\n",
              "    <tr>\n",
              "      <th>3</th>\n",
              "      <td>1</td>\n",
              "      <td>0</td>\n",
              "      <td>0</td>\n",
              "      <td>0</td>\n",
              "      <td>0</td>\n",
              "      <td>0</td>\n",
              "      <td>0</td>\n",
              "      <td>0</td>\n",
              "      <td>0</td>\n",
              "      <td>0</td>\n",
              "      <td>...</td>\n",
              "      <td>0</td>\n",
              "      <td>0</td>\n",
              "      <td>0</td>\n",
              "      <td>0</td>\n",
              "      <td>0</td>\n",
              "      <td>0</td>\n",
              "      <td>0</td>\n",
              "      <td>0</td>\n",
              "      <td>0</td>\n",
              "      <td>0</td>\n",
              "    </tr>\n",
              "    <tr>\n",
              "      <th>4</th>\n",
              "      <td>9</td>\n",
              "      <td>0</td>\n",
              "      <td>0</td>\n",
              "      <td>0</td>\n",
              "      <td>0</td>\n",
              "      <td>0</td>\n",
              "      <td>0</td>\n",
              "      <td>0</td>\n",
              "      <td>0</td>\n",
              "      <td>0</td>\n",
              "      <td>...</td>\n",
              "      <td>0</td>\n",
              "      <td>0</td>\n",
              "      <td>0</td>\n",
              "      <td>0</td>\n",
              "      <td>0</td>\n",
              "      <td>0</td>\n",
              "      <td>0</td>\n",
              "      <td>0</td>\n",
              "      <td>0</td>\n",
              "      <td>0</td>\n",
              "    </tr>\n",
              "  </tbody>\n",
              "</table>\n",
              "<p>5 rows × 785 columns</p>\n",
              "</div>"
            ],
            "text/plain": [
              "   label  1x1  1x2  1x3  1x4  1x5  1x6  1x7  1x8  1x9  ...  28x19  28x20  \\\n",
              "0      5    0    0    0    0    0    0    0    0    0  ...      0      0   \n",
              "1      0    0    0    0    0    0    0    0    0    0  ...      0      0   \n",
              "2      4    0    0    0    0    0    0    0    0    0  ...      0      0   \n",
              "3      1    0    0    0    0    0    0    0    0    0  ...      0      0   \n",
              "4      9    0    0    0    0    0    0    0    0    0  ...      0      0   \n",
              "\n",
              "   28x21  28x22  28x23  28x24  28x25  28x26  28x27  28x28  \n",
              "0      0      0      0      0      0      0      0      0  \n",
              "1      0      0      0      0      0      0      0      0  \n",
              "2      0      0      0      0      0      0      0      0  \n",
              "3      0      0      0      0      0      0      0      0  \n",
              "4      0      0      0      0      0      0      0      0  \n",
              "\n",
              "[5 rows x 785 columns]"
            ]
          },
          "execution_count": 2,
          "metadata": {},
          "output_type": "execute_result"
        }
      ],
      "source": [
        "# loading the dataset\n",
        "data = pd.read_csv('./mnist_dataset.csv')\n",
        "data.head()"
      ]
    },
    {
      "cell_type": "code",
      "execution_count": 3,
      "metadata": {},
      "outputs": [
        {
          "name": "stdout",
          "output_type": "stream",
          "text": [
            "Shape of the dataset:  (60000, 785)\n"
          ]
        }
      ],
      "source": [
        "#print the shape of the dataset\n",
        "print(\"Shape of the dataset: \", data.shape)"
      ]
    },
    {
      "cell_type": "code",
      "execution_count": 4,
      "metadata": {},
      "outputs": [
        {
          "data": {
            "image/png": "[encoded data removed]",
            "text/plain": [
              "<Figure size 640x480 with 1 Axes>"
            ]
          },
          "metadata": {},
          "output_type": "display_data"
        },
        {
          "data": {
            "image/png": "[encoded data removed]",
            "text/plain": [
              "<Figure size 640x480 with 1 Axes>"
            ]
          },
          "metadata": {},
          "output_type": "display_data"
        },
        {
          "data": {
            "image/png": "[encoded data removed]",
            "text/plain": [
              "<Figure size 640x480 with 1 Axes>"
            ]
          },
          "metadata": {},
          "output_type": "display_data"
        },
        {
          "data": {
            "image/png": "[encoded data removed]",
            "text/plain": [
              "<Figure size 640x480 with 1 Axes>"
            ]
          },
          "metadata": {},
          "output_type": "display_data"
        },
        {
          "data": {
            "image/png": "[encoded data removed]",
            "text/plain": [
              "<Figure size 640x480 with 1 Axes>"
            ]
          },
          "metadata": {},
          "output_type": "display_data"
        },
        {
          "data": {
            "image/png": "[encoded data removed]",
            "text/plain": [
              "<Figure size 640x480 with 1 Axes>"
            ]
          },
          "metadata": {},
          "output_type": "display_data"
        },
        {
          "data": {
            "image/png": "[encoded data removed]",
            "text/plain": [
              "<Figure size 640x480 with 1 Axes>"
            ]
          },
          "metadata": {},
          "output_type": "display_data"
        },
        {
          "data": {
            "image/png": "[encoded data removed]",
            "text/plain": [
              "<Figure size 640x480 with 1 Axes>"
            ]
          },
          "metadata": {},
          "output_type": "display_data"
        },
        {
          "data": {
            "image/png": "[encoded data removed]",
            "text/plain": [
              "<Figure size 640x480 with 1 Axes>"
            ]
          },
          "metadata": {},
          "output_type": "display_data"
        },
        {
          "data": {
            "image/png": "[encoded data removed]",
            "text/plain": [
              "<Figure size 640x480 with 1 Axes>"
            ]
          },
          "metadata": {},
          "output_type": "display_data"
        }
      ],
      "source": [
        "# write code which will take columns from dataset and print its image\n",
        "num_classes =len(data['label'].unique())\n",
        "def print_image(data, index):\n",
        "    image = data.iloc[index,1:].values.reshape(28, 28)\n",
        "    plt.imshow(image, cmap='gray')\n",
        "    plt.show()\n",
        "\n",
        "# print images of all labels\n",
        "for i in range(num_classes):\n",
        "    print_image(data, data[data['label'] == i].index[0]) # print image of label i\n",
        "\n"
      ]
    },
    {
      "cell_type": "code",
      "execution_count": 5,
      "metadata": {},
      "outputs": [
        {
          "data": {
            "text/html": [
              "<div>\n",
              "<style scoped>\n",
              "    .dataframe tbody tr th:only-of-type {\n",
              "        vertical-align: middle;\n",
              "    }\n",
              "\n",
              "    .dataframe tbody tr th {\n",
              "        vertical-align: top;\n",
              "    }\n",
              "\n",
              "    .dataframe thead th {\n",
              "        text-align: right;\n",
              "    }\n",
              "</style>\n",
              "<table border=\"1\" class=\"dataframe\">\n",
              "  <thead>\n",
              "    <tr style=\"text-align: right;\">\n",
              "      <th></th>\n",
              "      <th>label</th>\n",
              "      <th>1x1</th>\n",
              "      <th>1x2</th>\n",
              "      <th>1x3</th>\n",
              "      <th>1x4</th>\n",
              "      <th>1x5</th>\n",
              "      <th>1x6</th>\n",
              "      <th>1x7</th>\n",
              "      <th>1x8</th>\n",
              "      <th>1x9</th>\n",
              "      <th>...</th>\n",
              "      <th>28x19</th>\n",
              "      <th>28x20</th>\n",
              "      <th>28x21</th>\n",
              "      <th>28x22</th>\n",
              "      <th>28x23</th>\n",
              "      <th>28x24</th>\n",
              "      <th>28x25</th>\n",
              "      <th>28x26</th>\n",
              "      <th>28x27</th>\n",
              "      <th>28x28</th>\n",
              "    </tr>\n",
              "  </thead>\n",
              "  <tbody>\n",
              "    <tr>\n",
              "      <th>count</th>\n",
              "      <td>60000.000000</td>\n",
              "      <td>60000.0</td>\n",
              "      <td>60000.0</td>\n",
              "      <td>60000.0</td>\n",
              "      <td>60000.0</td>\n",
              "      <td>60000.0</td>\n",
              "      <td>60000.0</td>\n",
              "      <td>60000.0</td>\n",
              "      <td>60000.0</td>\n",
              "      <td>60000.0</td>\n",
              "      <td>...</td>\n",
              "      <td>60000.000000</td>\n",
              "      <td>60000.000000</td>\n",
              "      <td>60000.000000</td>\n",
              "      <td>60000.000000</td>\n",
              "      <td>60000.000000</td>\n",
              "      <td>60000.0000</td>\n",
              "      <td>60000.0</td>\n",
              "      <td>60000.0</td>\n",
              "      <td>60000.0</td>\n",
              "      <td>60000.0</td>\n",
              "    </tr>\n",
              "    <tr>\n",
              "      <th>mean</th>\n",
              "      <td>4.453933</td>\n",
              "      <td>0.0</td>\n",
              "      <td>0.0</td>\n",
              "      <td>0.0</td>\n",
              "      <td>0.0</td>\n",
              "      <td>0.0</td>\n",
              "      <td>0.0</td>\n",
              "      <td>0.0</td>\n",
              "      <td>0.0</td>\n",
              "      <td>0.0</td>\n",
              "      <td>...</td>\n",
              "      <td>0.200433</td>\n",
              "      <td>0.088867</td>\n",
              "      <td>0.045633</td>\n",
              "      <td>0.019283</td>\n",
              "      <td>0.015117</td>\n",
              "      <td>0.0020</td>\n",
              "      <td>0.0</td>\n",
              "      <td>0.0</td>\n",
              "      <td>0.0</td>\n",
              "      <td>0.0</td>\n",
              "    </tr>\n",
              "    <tr>\n",
              "      <th>std</th>\n",
              "      <td>2.889270</td>\n",
              "      <td>0.0</td>\n",
              "      <td>0.0</td>\n",
              "      <td>0.0</td>\n",
              "      <td>0.0</td>\n",
              "      <td>0.0</td>\n",
              "      <td>0.0</td>\n",
              "      <td>0.0</td>\n",
              "      <td>0.0</td>\n",
              "      <td>0.0</td>\n",
              "      <td>...</td>\n",
              "      <td>6.042472</td>\n",
              "      <td>3.956189</td>\n",
              "      <td>2.839845</td>\n",
              "      <td>1.686770</td>\n",
              "      <td>1.678283</td>\n",
              "      <td>0.3466</td>\n",
              "      <td>0.0</td>\n",
              "      <td>0.0</td>\n",
              "      <td>0.0</td>\n",
              "      <td>0.0</td>\n",
              "    </tr>\n",
              "    <tr>\n",
              "      <th>min</th>\n",
              "      <td>0.000000</td>\n",
              "      <td>0.0</td>\n",
              "      <td>0.0</td>\n",
              "      <td>0.0</td>\n",
              "      <td>0.0</td>\n",
              "      <td>0.0</td>\n",
              "      <td>0.0</td>\n",
              "      <td>0.0</td>\n",
              "      <td>0.0</td>\n",
              "      <td>0.0</td>\n",
              "      <td>...</td>\n",
              "      <td>0.000000</td>\n",
              "      <td>0.000000</td>\n",
              "      <td>0.000000</td>\n",
              "      <td>0.000000</td>\n",
              "      <td>0.000000</td>\n",
              "      <td>0.0000</td>\n",
              "      <td>0.0</td>\n",
              "      <td>0.0</td>\n",
              "      <td>0.0</td>\n",
              "      <td>0.0</td>\n",
              "    </tr>\n",
              "    <tr>\n",
              "      <th>25%</th>\n",
              "      <td>2.000000</td>\n",
              "      <td>0.0</td>\n",
              "      <td>0.0</td>\n",
              "      <td>0.0</td>\n",
              "      <td>0.0</td>\n",
              "      <td>0.0</td>\n",
              "      <td>0.0</td>\n",
              "      <td>0.0</td>\n",
              "      <td>0.0</td>\n",
              "      <td>0.0</td>\n",
              "      <td>...</td>\n",
              "      <td>0.000000</td>\n",
              "      <td>0.000000</td>\n",
              "      <td>0.000000</td>\n",
              "      <td>0.000000</td>\n",
              "      <td>0.000000</td>\n",
              "      <td>0.0000</td>\n",
              "      <td>0.0</td>\n",
              "      <td>0.0</td>\n",
              "      <td>0.0</td>\n",
              "      <td>0.0</td>\n",
              "    </tr>\n",
              "    <tr>\n",
              "      <th>50%</th>\n",
              "      <td>4.000000</td>\n",
              "      <td>0.0</td>\n",
              "      <td>0.0</td>\n",
              "      <td>0.0</td>\n",
              "      <td>0.0</td>\n",
              "      <td>0.0</td>\n",
              "      <td>0.0</td>\n",
              "      <td>0.0</td>\n",
              "      <td>0.0</td>\n",
              "      <td>0.0</td>\n",
              "      <td>...</td>\n",
              "      <td>0.000000</td>\n",
              "      <td>0.000000</td>\n",
              "      <td>0.000000</td>\n",
              "      <td>0.000000</td>\n",
              "      <td>0.000000</td>\n",
              "      <td>0.0000</td>\n",
              "      <td>0.0</td>\n",
              "      <td>0.0</td>\n",
              "      <td>0.0</td>\n",
              "      <td>0.0</td>\n",
              "    </tr>\n",
              "    <tr>\n",
              "      <th>75%</th>\n",
              "      <td>7.000000</td>\n",
              "      <td>0.0</td>\n",
              "      <td>0.0</td>\n",
              "      <td>0.0</td>\n",
              "      <td>0.0</td>\n",
              "      <td>0.0</td>\n",
              "      <td>0.0</td>\n",
              "      <td>0.0</td>\n",
              "      <td>0.0</td>\n",
              "      <td>0.0</td>\n",
              "      <td>...</td>\n",
              "      <td>0.000000</td>\n",
              "      <td>0.000000</td>\n",
              "      <td>0.000000</td>\n",
              "      <td>0.000000</td>\n",
              "      <td>0.000000</td>\n",
              "      <td>0.0000</td>\n",
              "      <td>0.0</td>\n",
              "      <td>0.0</td>\n",
              "      <td>0.0</td>\n",
              "      <td>0.0</td>\n",
              "    </tr>\n",
              "    <tr>\n",
              "      <th>max</th>\n",
              "      <td>9.000000</td>\n",
              "      <td>0.0</td>\n",
              "      <td>0.0</td>\n",
              "      <td>0.0</td>\n",
              "      <td>0.0</td>\n",
              "      <td>0.0</td>\n",
              "      <td>0.0</td>\n",
              "      <td>0.0</td>\n",
              "      <td>0.0</td>\n",
              "      <td>0.0</td>\n",
              "      <td>...</td>\n",
              "      <td>254.000000</td>\n",
              "      <td>254.000000</td>\n",
              "      <td>253.000000</td>\n",
              "      <td>253.000000</td>\n",
              "      <td>254.000000</td>\n",
              "      <td>62.0000</td>\n",
              "      <td>0.0</td>\n",
              "      <td>0.0</td>\n",
              "      <td>0.0</td>\n",
              "      <td>0.0</td>\n",
              "    </tr>\n",
              "  </tbody>\n",
              "</table>\n",
              "<p>8 rows × 785 columns</p>\n",
              "</div>"
            ],
            "text/plain": [
              "              label      1x1      1x2      1x3      1x4      1x5      1x6  \\\n",
              "count  60000.000000  60000.0  60000.0  60000.0  60000.0  60000.0  60000.0   \n",
              "mean       4.453933      0.0      0.0      0.0      0.0      0.0      0.0   \n",
              "std        2.889270      0.0      0.0      0.0      0.0      0.0      0.0   \n",
              "min        0.000000      0.0      0.0      0.0      0.0      0.0      0.0   \n",
              "25%        2.000000      0.0      0.0      0.0      0.0      0.0      0.0   \n",
              "50%        4.000000      0.0      0.0      0.0      0.0      0.0      0.0   \n",
              "75%        7.000000      0.0      0.0      0.0      0.0      0.0      0.0   \n",
              "max        9.000000      0.0      0.0      0.0      0.0      0.0      0.0   \n",
              "\n",
              "           1x7      1x8      1x9  ...         28x19         28x20  \\\n",
              "count  60000.0  60000.0  60000.0  ...  60000.000000  60000.000000   \n",
              "mean       0.0      0.0      0.0  ...      0.200433      0.088867   \n",
              "std        0.0      0.0      0.0  ...      6.042472      3.956189   \n",
              "min        0.0      0.0      0.0  ...      0.000000      0.000000   \n",
              "25%        0.0      0.0      0.0  ...      0.000000      0.000000   \n",
              "50%        0.0      0.0      0.0  ...      0.000000      0.000000   \n",
              "75%        0.0      0.0      0.0  ...      0.000000      0.000000   \n",
              "max        0.0      0.0      0.0  ...    254.000000    254.000000   \n",
              "\n",
              "              28x21         28x22         28x23       28x24    28x25    28x26  \\\n",
              "count  60000.000000  60000.000000  60000.000000  60000.0000  60000.0  60000.0   \n",
              "mean       0.045633      0.019283      0.015117      0.0020      0.0      0.0   \n",
              "std        2.839845      1.686770      1.678283      0.3466      0.0      0.0   \n",
              "min        0.000000      0.000000      0.000000      0.0000      0.0      0.0   \n",
              "25%        0.000000      0.000000      0.000000      0.0000      0.0      0.0   \n",
              "50%        0.000000      0.000000      0.000000      0.0000      0.0      0.0   \n",
              "75%        0.000000      0.000000      0.000000      0.0000      0.0      0.0   \n",
              "max      253.000000    253.000000    254.000000     62.0000      0.0      0.0   \n",
              "\n",
              "         28x27    28x28  \n",
              "count  60000.0  60000.0  \n",
              "mean       0.0      0.0  \n",
              "std        0.0      0.0  \n",
              "min        0.0      0.0  \n",
              "25%        0.0      0.0  \n",
              "50%        0.0      0.0  \n",
              "75%        0.0      0.0  \n",
              "max        0.0      0.0  \n",
              "\n",
              "[8 rows x 785 columns]"
            ]
          },
          "execution_count": 5,
          "metadata": {},
          "output_type": "execute_result"
        }
      ],
      "source": [
        "#describe the dataset\n",
        "data.describe()"
      ]
    },
    {
      "cell_type": "code",
      "execution_count": 6,
      "metadata": {},
      "outputs": [
        {
          "data": {
            "image/png": "[encoded data removed]",
            "text/plain": [
              "<Figure size 1200x600 with 1 Axes>"
            ]
          },
          "metadata": {},
          "output_type": "display_data"
        }
      ],
      "source": [
        "# plot the class distribution\n",
        "plt.figure(figsize=(12, 6))\n",
        "digit_counts = data['label'].value_counts().sort_index()\n",
        "plt.bar(digit_counts.index, digit_counts.values)\n",
        "plt.title('Distribution of Digits in Dataset')\n",
        "plt.xlabel('Digit')\n",
        "plt.ylabel('Count')\n",
        "plt.xticks(range(10))\n",
        "plt.grid(axis='y', linestyle='--', alpha=0.7)\n",
        "\n",
        "# Add count labels on top of each bar\n",
        "for i, count in enumerate(digit_counts.values):\n",
        "    plt.text(i, count + 100, str(count), ha='center')\n",
        "\n",
        "plt.show()"
      ]
    },
    {
      "cell_type": "code",
      "execution_count": 7,
      "metadata": {},
      "outputs": [
        {
          "name": "stdout",
          "output_type": "stream",
          "text": [
            "Scaling dataset...\n",
            "\n",
            "Shape of final dataset: (60000, 785)\n"
          ]
        }
      ],
      "source": [
        "# scale the values using the StandardScalar function present in scikit-learn\n",
        "\n",
        "# Separate features and labels\n",
        "X = data.drop('label', axis=1)  # Features (all columns except 'label')\n",
        "y = data['label']  # Labels\n",
        "\n",
        "# Function to check if data is already scaled to avoid re-scaling the data\n",
        "def is_data_scaled(X, threshold=0.1):\n",
        "    \"\"\"\n",
        "    Check if data is approximately standardized\n",
        "    Returns True if data appears to be scaled, False otherwise\n",
        "    \"\"\"\n",
        "    means_centered = abs(X.mean(axis=0)).mean() < threshold  # Should be close to 0\n",
        "    stds_unity = abs(X.std(axis=0).mean() - 1) < threshold  # Should be close to 1\n",
        "    return means_centered and stds_unity\n",
        "\n",
        "# Scale only if data is not already scaled\n",
        "if not is_data_scaled(X):\n",
        "    print(\"Scaling dataset...\")\n",
        "    scaler = StandardScaler()\n",
        "    X_scaled = scaler.fit_transform(X)\n",
        "    X_scaled_df = pd.DataFrame(X_scaled, columns=X.columns)\n",
        "    data = pd.concat([y, X_scaled_df], axis=1)\n",
        "\n",
        "\n",
        "# Verify the result \n",
        "print(\"\\nShape of final dataset:\", data.shape)\n"
      ]
    },
    {
      "cell_type": "markdown",
      "metadata": {
        "id": "cl3QsT7pE-lL"
      },
      "source": [
        "#### Task 1.3: Splitting the dataset (5 points)\n",
        "\n",
        "In this part, divide the given dataset into training and testing sets using python.\n",
        "Print out the sizes of the training dataset and test dataset, training data should contain 50000 images and test data should contain 10000 images. If your sizes are correct, you get full points."
      ]
    },
    {
      "cell_type": "code",
      "execution_count": 8,
      "metadata": {
        "id": "0-VxOnTaE-lL"
      },
      "outputs": [
        {
          "name": "stdout",
          "output_type": "stream",
          "text": [
            "X_train shape: (50000, 784)\n",
            "y_train shape: (50000,)\n",
            "X_test shape: (10000, 784)\n",
            "y_test shape: (10000,)\n"
          ]
        }
      ],
      "source": [
        "# split the dataset into training and testing sets, training data s hould contain 50000 images and test data should contain 10000 images.\n",
        "# split data using python function\n",
        "\n",
        "def multinomial_train_test_split(data, train_size=50000, random_state=42):\n",
        "    data = data.sample(frac=1, random_state=42).reset_index(drop=True)\n",
        "    train_data = data.iloc[:train_size]\n",
        "    test_data = data.iloc[train_size:]\n",
        "    # split train and test data into features and labels    \n",
        "    X_train = train_data.drop('label', axis=1)\n",
        "    y_train = train_data['label']\n",
        "    X_test = test_data.drop('label', axis=1)\n",
        "    y_test = test_data['label']\n",
        "    return X_train, y_train, X_test, y_test\n",
        "\n",
        "X_train, y_train, X_test, y_test = multinomial_train_test_split(data)\n",
        "# print X_train and y_train \n",
        "print(\"X_train shape:\", X_train.shape)\n",
        "print(\"y_train shape:\", y_train.shape)\n",
        "print(\"X_test shape:\", X_test.shape)\n",
        "print(\"y_test shape:\", y_test.shape)\n",
        "\n"
      ]
    },
    {
      "cell_type": "markdown",
      "metadata": {
        "id": "w-yeVI-DE-lL"
      },
      "source": [
        "#### Task 1.4: Create Logistic Regression classifier (20 points)\n",
        "\n",
        "Implement Multinomial Logistic Regression from scratch keeping in view all the discussions\n",
        "from the lectures to classify the images into the 10 classes specified. Specifically, you’ll need to implement the\n",
        "following: <br>\n",
        "● Softmax function <br>\n",
        "● Cross-entropy loss function (for multinomial logistic regression) <br>\n",
        "● Batch Gradient Descent <br>\n",
        "● Prediction function that predicts the label of test recordings using learned\n",
        "multinomial logistic regression"
      ]
    },
    {
      "cell_type": "code",
      "execution_count": 9,
      "metadata": {
        "id": "ht7IGzZwE-lM"
      },
      "outputs": [],
      "source": [
        "# convert train and test data sets label for logistic regression in one vs all format\n",
        "def convert_dataset(train_y, test_y, label):\n",
        "    train_y = np.where(train_y == label, 1, 0)\n",
        "    test_y = np.where(test_y == label, 1, 0)\n",
        "    return train_y, test_y"
      ]
    },
    {
      "cell_type": "code",
      "execution_count": 10,
      "metadata": {},
      "outputs": [
        {
          "name": "stdout",
          "output_type": "stream",
          "text": [
            "predictions [0 1 2 3 4 5 6 7 8 9]\n",
            "counts [1029 1378  918  947  998  783 1039 1068  897  943]\n"
          ]
        }
      ],
      "source": [
        "# implement multinomial logistic regression class\n",
        "# which has methods for sigmoid, softmax, cross entropy loss, batch gradient descent, prediction\n",
        "\n",
        "class MultinomialLogisticRegression:\n",
        "    def __init__(self, num_classes, num_features, learning_rate=0.01, epochs=1000):\n",
        "        self.num_classes = num_classes\n",
        "        self.num_features = num_features\n",
        "        self.learning_rate = learning_rate\n",
        "        self.epochs = epochs\n",
        "        self.weights = np.zeros((num_classes, num_features))\n",
        "        self.bias = np.zeros(num_classes)\n",
        "        self.tests = np.zeros((num_classes, num_features))\n",
        "\n",
        "    def sigmoid(self, z):\n",
        "        return 1 / (1 + np.exp(-z)) \n",
        "    \n",
        "    def softmax(self, z):\n",
        "        return np.exp(z) / np.sum(np.exp(z))\n",
        "    \n",
        "    def cross_entropy_loss(self, y_true, y_pred):\n",
        "        m = y_true.shape[0]\n",
        "        return -np.sum(y_true * np.log(y_pred))\n",
        "    \n",
        "    \n",
        "    def fit(self, train_X, train_y):\n",
        "        original_train_y = train_y.copy()\n",
        "        for label in range(self.num_classes):\n",
        "            # print(f\"Training for label {label}\")\n",
        "            # convert dataset\n",
        "            current_train_y, _ = convert_dataset(original_train_y, None, label)  # test_y unused in training\n",
        "            # initialize weights and bias for each label\n",
        "            self.weights[label] = np.zeros(self.num_features)\n",
        "            self.bias[label] = 0\n",
        "            m = train_X.shape[0]\n",
        "            for _ in range(self.epochs):\n",
        "                # compute logits \n",
        "                z = np.dot(train_X, self.weights[label]) + self.bias[label]\n",
        "                # compute gradient\n",
        "                y_pred = self.sigmoid(z)\n",
        "                #update weights\n",
        "                grad_weights = np.dot(train_X.T, (y_pred - current_train_y)) / m\n",
        "                grad_bias = np.sum(y_pred - current_train_y) / m\n",
        "                #store weights and bias for trained classified in self.weights and self.bias    \n",
        "                self.weights[label] -= self.learning_rate * grad_weights\n",
        "                self.bias[label] -= self.learning_rate * grad_bias\n",
        "            # print(f\"Training for label {label} completed\")\n",
        "            # print(f\"Weights for label {label}: {self.weights[label]}\")\n",
        "            # print(f\"Bias for label {label}: {self.bias[label]}\")\n",
        "        return self.weights, self.bias, self.tests\n",
        "            \n",
        "    def predict(self, test_X):\n",
        "        # Initialize array to store probabilities for each class\n",
        "        probabilities = np.zeros((test_X.shape[0], self.num_classes))        \n",
        "        # Calculate probability for each class\n",
        "        for label in range(self.num_classes):\n",
        "            z = np.dot(test_X, self.weights[label]) + self.bias[label]\n",
        "            probabilities[:, label] = self.sigmoid(z)\n",
        "        \n",
        "        # Return class with highest probability\n",
        "        return np.argmax(probabilities, axis=1)\n",
        "\n",
        "num_features = X_train.shape[1]\n",
        "model = MultinomialLogisticRegression(num_classes, num_features, epochs=1000)\n",
        "model.fit(X_train, y_train)\n",
        "predictions = model.predict(X_test)\n",
        "values, counts = np.unique(predictions, return_counts=True)\n",
        "\n",
        "print(\"predictions\", values)\n",
        "print(\"counts\", counts)\n"
      ]
    },
    {
      "cell_type": "markdown",
      "metadata": {
        "id": "OIFAMfDeE-lM"
      },
      "source": [
        "#### Task 1.5: Implement evaluation functions (10 points)\n",
        "\n",
        "Implement evaluation functions that calculates the:\n",
        "- classification accuracy,\n",
        "- F1 score,\n",
        "- and the confusion matrix\n",
        "of your classifier on the test set.\n"
      ]
    },
    {
      "cell_type": "code",
      "execution_count": 11,
      "metadata": {},
      "outputs": [
        {
          "name": "stdout",
          "output_type": "stream",
          "text": [
            "Accuracy:  86.65 %\n",
            "F1 Score:  86.45825834447163 %\n",
            "Confusion Matrix:\n",
            "[[ 934    0    5    2    2    7   13    1    6    1]\n",
            " [   1 1128    5    1    3    3    3    4   10    1]\n",
            " [  15   48  819   18   18    1   41   18   29    9]\n",
            " [   4   25   37  800    5   24    8   22   19   15]\n",
            " [   2   23   10    0  851    8    7    4    8   41]\n",
            " [  20   12    4   63   22  697   27    6   31   15]\n",
            " [  24   17   18    1   11   17  928    0    3    0]\n",
            " [   6   30    7    4   11    0    1  929    1   49]\n",
            " [  13   85   10   33   15   24   11    7  787   20]\n",
            " [  10   10    3   25   60    2    0   77    3  792]]\n"
          ]
        }
      ],
      "source": [
        "\n",
        "def accuracy_score(y_true, y_pred):\n",
        "    \"\"\"\n",
        "    Calculate the accuracy score.\n",
        "    \n",
        "    Parameters:\n",
        "    -----------\n",
        "    y_true : array-like\n",
        "        Ground truth (correct) labels.\n",
        "    y_pred : array-like\n",
        "        Predicted labels, as returned by a classifier.\n",
        "        \n",
        "    Returns:\n",
        "    --------\n",
        "    float\n",
        "        The accuracy score.\n",
        "    \"\"\"\n",
        "    return np.mean(y_true == y_pred)\n",
        "\n",
        "def precision_recall_f1(y_true, y_pred, label):\n",
        "    \"\"\"\n",
        "    Calculate precision, recall, and F1 score for a specific label.\n",
        "    \n",
        "    Parameters:\n",
        "    -----------\n",
        "    y_true : array-like\n",
        "        Ground truth (correct) labels.\n",
        "    y_pred : array-like\n",
        "        Predicted labels, as returned by a classifier.\n",
        "    label : int\n",
        "        The label for which to calculate metrics.\n",
        "        \n",
        "    Returns:\n",
        "    --------\n",
        "    tuple\n",
        "        (precision, recall, f1_score)\n",
        "    \"\"\"\n",
        "    true_positives = np.sum((y_true == label) & (y_pred == label))\n",
        "    false_positives = np.sum((y_true != label) & (y_pred == label))\n",
        "    false_negatives = np.sum((y_true == label) & (y_pred != label))\n",
        "    \n",
        "    precision = true_positives / (true_positives + false_positives) if (true_positives + false_positives) > 0 else 0\n",
        "    recall = true_positives / (true_positives + false_negatives) if (true_positives + false_negatives) > 0 else 0\n",
        "    \n",
        "    f1 = 2 * (precision * recall) / (precision + recall) if (precision + recall) > 0 else 0\n",
        "    \n",
        "    return precision, recall, f1\n",
        "\n",
        "# calculate f1 score\n",
        "def f1_score(y_true, y_pred, average='macro'):\n",
        "    labels = np.unique(np.concatenate([y_true, y_pred]))\n",
        "    f1_scores = []\n",
        "    \n",
        "    for label in labels:\n",
        "        _, _, f1 = precision_recall_f1(y_true, y_pred, label)\n",
        "        f1_scores.append(f1)\n",
        "    \n",
        "    if average == 'macro':\n",
        "        return np.mean(f1_scores)\n",
        "    else:\n",
        "        raise ValueError(\"Only 'macro' averaging is supported\")\n",
        "\n",
        "# calculate confusion matrix\n",
        "def confusion_matrix(y_true, y_pred):\n",
        "    # Convert y_true from Series to array if it's a pandas Series\n",
        "    if hasattr(y_true, 'values'):\n",
        "        y_true = y_true.values\n",
        "    if hasattr(y_pred, 'values'):\n",
        "        y_pred = y_pred.values\n",
        "\n",
        "    labels = np.unique(np.concatenate([y_true, y_pred]))\n",
        "    n_labels = len(labels)\n",
        "    \n",
        "    # Create a mapping from label to index\n",
        "    label_to_index = {label: i for i, label in enumerate(labels)}\n",
        "    \n",
        "    # Initialize confusion matrix\n",
        "    cm = np.zeros((n_labels, n_labels), dtype=int)\n",
        "    \n",
        "    # Fill confusion matrix\n",
        "    # Get the starting index of y_true\n",
        "    start_idx = y_true.index.min() if hasattr(y_true, 'index') else 0\n",
        "    \n",
        "    # Iterate through y_true using its own indices\n",
        "    for idx in range(len(y_true)):\n",
        "        # print(\"value of idx\", idx)\n",
        "        # print(\"value of y_true\", type(y_true))\n",
        "        # print(\"predicted label\", y_pred)\n",
        "        # pass\n",
        "        true_label = y_true[idx]\n",
        "        pred_label = y_pred[idx]\n",
        "        cm[label_to_index[true_label], label_to_index[pred_label]] += 1\n",
        "    return cm\n",
        "\n",
        "# evaluate classifier call all the functions\n",
        "def evaluate_classifier(model, X_test, y_test):\n",
        "    predictions = model.predict(X_test)\n",
        "    accuracy = accuracy_score(y_test, predictions)\n",
        "    f1 = f1_score(y_test, predictions, average='macro')\n",
        "    confusion = confusion_matrix(y_test, predictions)\n",
        "    return accuracy, f1, confusion\n",
        "\n",
        "# Evaluate the model\n",
        "accuracy, f1, confusion = evaluate_classifier(model, X_test, y_test)\n",
        "print(\"Accuracy: \", accuracy*100.00, \"%\")\n",
        "print(\"F1 Score: \", f1*100.00, \"%\")\n",
        "print(\"Confusion Matrix:\")\n",
        "print(confusion)\n"
      ]
    },
    {
      "cell_type": "markdown",
      "metadata": {
        "id": "LQ-DazinE-lM"
      },
      "source": [
        "#### Task 1.6: Cross Validation (15 points)\n",
        "\n",
        "Use 5- fold cross-validation on your training data. (In cross-validation, you divide the training data set into 5 parts. 4 parts will be used for training and 1 part will be used for validation. Then you will take a different part of your data as a validation data set and train your algorithm on the rest of the data set.) Run your Logistic Regression function for this data for 5 learning rate values ranging from 0.001 and 0.01.\n",
        "\n",
        "Run your evaluation function for each value of the learning rate, Report classification accuracy, F1 score, and confusion matrix.\n",
        "\n",
        "Present the results as a graph with learning rate values on the x-axis and classification accuracy on the y-axis. Make another graph but with the F1 score on the y-axis this time. The graphs should be properly labelled."
      ]
    },
    {
      "cell_type": "code",
      "execution_count": 12,
      "metadata": {
        "id": "YztrJXYME-lN"
      },
      "outputs": [
        {
          "name": "stdout",
          "output_type": "stream",
          "text": [
            "accuracies [[0.7691, 0.7694, 0.7699, 0.7757, 0.7674], [0.8147, 0.8142, 0.8162, 0.819, 0.8122], [0.8295, 0.829, 0.8313, 0.8352, 0.8273], [0.8513, 0.8495, 0.852, 0.8559, 0.8517], [0.8639, 0.8643, 0.8657, 0.87, 0.8657]]\n",
            "f1_scores [[0.7622790166694526, 0.7617957643062396, 0.7617886067516102, 0.7678150092580666, 0.7598221513951702], [0.809539191398763, 0.8094227239220106, 0.810734930040869, 0.813569539787584, 0.8074172432921873], [0.8251073852409283, 0.8250450597902022, 0.8266265313339384, 0.8306805693505288, 0.8232804161309959], [0.8480884460060827, 0.8460186543941621, 0.8487045284995179, 0.852517231063468, 0.848651226378214], [0.8613273364839825, 0.8616411686551931, 0.8632236941633119, 0.8674118021816408, 0.8633714143908676]]\n"
          ]
        },
        {
          "data": {
            "image/png": "[encoded data removed]",
            "text/plain": [
              "<Figure size 1000x500 with 1 Axes>"
            ]
          },
          "metadata": {},
          "output_type": "display_data"
        }
      ],
      "source": [
        "# implement 5-fold cross validation, 4 parts for training and 1 part for validation\n",
        "# run the model for 5 learning rate values ranging from 0.001 and 0.01\n",
        "# run the evaluation function for each value of the learning rate\n",
        "# report the classification accuracy, F1 score, and confusion matrix\n",
        "# make a graph with learning rate values on the x-axis and classification accuracy on the y-axis\n",
        "# make another graph with the F1 score on the y-axis\n",
        "\n",
        "## change value of epochs to lower value as it was taking too long with 1000 and 100 epochs.\n",
        "## you can use 10 epochs for training\n",
        "from sklearn.model_selection import train_test_split\n",
        "\n",
        "def cross_validation(X_train, y_train, num_folds=5, learning_rates=[0.001, 0.005, 0.01, 0.05, 0.1]):\n",
        "    # Initialize lists to store results\n",
        "    accuracies = []\n",
        "    f1_scores = []\n",
        "    confusion_matrices = []\n",
        "\n",
        "    for learning_rate in learning_rates:\n",
        "        # print(f\"Learning rate: {learning_rate}\")\n",
        "        fold_accuracies = []\n",
        "        fold_f1_scores = []\n",
        "        fold_confusion_matrices = []\n",
        "        for fold in range(num_folds):\n",
        "            # Split data into training and validation sets\n",
        "            X_train_fold, X_val_fold, y_train_fold, y_val_fold = train_test_split(\n",
        "                X_train, y_train, test_size=0.2, random_state=fold\n",
        "            )\n",
        "            # Train the model on the training set\n",
        "            model = MultinomialLogisticRegression(\n",
        "                num_classes=10,\n",
        "                num_features=X_train.shape[1],\n",
        "                learning_rate=learning_rate, \n",
        "                epochs=100 # used 100 epochs for training as it was taking too long with 1000 epochs\n",
        "            )\n",
        "            # Train the model on the training set\n",
        "            model.fit(X_train_fold, y_train_fold)\n",
        "            # Make predictions on the validation set\n",
        "            y_pred = model.predict(X_val_fold)\n",
        "            # Calculate accuracy, F1 score, and confusion matrix\n",
        "            accuracy = accuracy_score(y_val_fold, y_pred)\n",
        "            f1 = f1_score(y_val_fold, y_pred, average='macro')\n",
        "            confusion = confusion_matrix(y_val_fold, y_pred)\n",
        "            \n",
        "            # Store results\n",
        "            fold_accuracies.append(accuracy)\n",
        "            fold_f1_scores.append(f1)\n",
        "            fold_confusion_matrices.append(confusion)\n",
        "        # Store results\n",
        "        accuracies.append(fold_accuracies)\n",
        "        f1_scores.append(fold_f1_scores)\n",
        "        confusion_matrices.append(fold_confusion_matrices)\n",
        "    return accuracies, f1_scores, confusion_matrices\n",
        "\n",
        "learning_rates = [0.001, 0.005, 0.01, 0.05, 0.1]\n",
        "accuracies, f1_scores, confusion_matrices = cross_validation(X_train, y_train, learning_rates=learning_rates)\n",
        "\n",
        "print(\"accuracies\", accuracies)\n",
        "print(\"f1_scores\", f1_scores)\n",
        "\n",
        "\n",
        "# Calculate mean accuracies and F1 scores for each learning rate\n",
        "mean_accuracies = [np.mean(acc) for acc in accuracies]\n",
        "mean_f1_scores = [np.mean(f1) for f1 in f1_scores]\n",
        "\n",
        "# Plotting\n",
        "plt.figure(figsize=(10, 5))\n",
        "plt.plot(learning_rates, mean_accuracies, marker='o', label='Accuracy', color='blue')\n",
        "plt.plot(learning_rates, mean_f1_scores, marker='o', label='F1 Score', color='orange')\n",
        "\n",
        "plt.xlabel('Learning Rate')\n",
        "plt.ylabel('Score')\n",
        "plt.title('Learning Rate vs Accuracy and F1 Score')\n",
        "plt.legend()\n",
        "plt.grid()\n",
        "plt.show()\n",
        "\n",
        "    "
      ]
    },
    {
      "cell_type": "markdown",
      "metadata": {
        "id": "W0Ti9An0E-lN"
      },
      "source": [
        "#### Task 1.7: Classification (10 points)\n",
        "\n",
        "Finally, use the best value of the learning rate and run it on the test data set. Find the F1 score, classification accuracy, and confusion matrix and print them.\n",
        "\n",
        "You accuracy should be above 80 and f1 score should be above 70 to get full points."
      ]
    },
    {
      "cell_type": "code",
      "execution_count": 13,
      "metadata": {
        "id": "AXia4d06E-lN"
      },
      "outputs": [
        {
          "name": "stdout",
          "output_type": "stream",
          "text": [
            "accuracy with learning rate 0.1 and epochs 1000 89.8 %\n",
            "f1_score with learning rate 0.1 and epochs 1000 89.67926075561529 %\n"
          ]
        }
      ],
      "source": [
        "model = MultinomialLogisticRegression(\n",
        "                num_classes=10,\n",
        "                num_features=X_train.shape[1],\n",
        "                learning_rate=0.1, \n",
        "                epochs=1000 # used 100 epochs for training as it was taking too long with 1000 epochs\n",
        "            )\n",
        "model.fit(X_train, y_train)\n",
        "# Make predictions on the validation set\n",
        "y_pred = model.predict(X_test)\n",
        "# Calculate accuracy, F1 score, and confusion matrix\n",
        "accuracy = accuracy_score(y_test, y_pred)\n",
        "f1 = f1_score(y_test, y_pred, average='macro')\n",
        "confusion = confusion_matrix(y_test, y_pred)\n",
        "\n",
        "print(\"accuracy with learning rate 0.1 and epochs 1000\", accuracy*100.00, \"%\")\n",
        "print(\"f1_score with learning rate 0.1 and epochs 1000\", f1*100.00, \"%\")"
      ]
    },
    {
      "cell_type": "markdown",
      "metadata": {
        "id": "XEMIWNYlE-lN"
      },
      "source": [
        "### Part 2:  Logistic Regression classifier using scikit-learn (25 points)\n",
        "\n",
        "Use scikit-learn’s Logistic Regression implementation to train and test the logistic regression\n",
        "on the provided dataset. Use scikit-learn’s accuracy_score function to calculate the accuracy\n",
        "and confusion_matrix function to calculate confusion matrix on the test set.\n",
        "To get full marks, the accuracy score, classification reports and confusion matrix must be shown for values for accuracy and F1 should be similar to those obtained in the previous part."
      ]
    },
    {
      "cell_type": "code",
      "execution_count": 14,
      "metadata": {
        "id": "XB31orpOE-lN"
      },
      "outputs": [
        {
          "name": "stdout",
          "output_type": "stream",
          "text": [
            "accuracy with scikit-learn 0.9106\n",
            "f1_score with scikit-learn 0.9093466430514944\n"
          ]
        }
      ],
      "source": [
        "# Here are the libraries and specific functions you will be needing for this part\n",
        "\n",
        "from sklearn.linear_model import LogisticRegression\n",
        "from sklearn.metrics import accuracy_score, confusion_matrix, classification_report\n",
        "from sklearn import metrics\n",
        "from sklearn.model_selection import train_test_split\n",
        "from sklearn.model_selection import cross_val_predict\n",
        "\n",
        "# implement logistic regression using scikit-learn\n",
        "model = LogisticRegression(max_iter=1000)\n",
        "model.fit(X_train, y_train)\n",
        "# Make predictions on the validation set\n",
        "y_pred = model.predict(X_test)\n",
        "# Calculate accuracy, F1 score, and confusion matrix\n",
        "accuracy = accuracy_score(y_test, y_pred)\n",
        "f1 = f1_score(y_test, y_pred, average='macro')\n",
        "confusion = confusion_matrix(y_test, y_pred)\n",
        "\n",
        "print(\"accuracy with scikit-learn\", accuracy)\n",
        "print(\"f1_score with scikit-learn\", f1)"
      ]
    }
  ],
  "metadata": {
    "colab": {
      "provenance": []
    },
    "kernelspec": {
      "display_name": "Python 3",
      "language": "python",
      "name": "python3"
    },
    "language_info": {
      "codemirror_mode": {
        "name": "ipython",
        "version": 3
      },
      "file_extension": ".py",
      "mimetype": "text/x-python",
      "name": "python",
      "nbconvert_exporter": "python",
      "pygments_lexer": "ipython3",
      "version": "3.9.13"
    }
  },
  "nbformat": 4,
  "nbformat_minor": 0
}
