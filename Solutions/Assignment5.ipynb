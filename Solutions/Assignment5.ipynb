{
  "cells": [
    {
      "cell_type": "markdown",
      "id": "3c20c180",
      "metadata": {
        "id": "3c20c180"
      },
      "source": [
        "# Machine Learning\n",
        "## Programming Assessment 5: Neural Networks"
      ]
    },
    {
      "cell_type": "markdown",
      "id": "bac26b33",
      "metadata": {
        "id": "bac26b33"
      },
      "source": [
        "### Instructions\n",
        "\n",
        "\n",
        "*   The aim of this assignment is to learn machine learning tools - Keras, Sklearn and PyTorch.\n",
        "*   You must use the Python programming language.\n",
        "*   You can add as many code/markdown cells as required.\n",
        "*   ALL cells must be run (and outputs visible) in order to get credit for your work.\n",
        "*   Please use procedural programming style and comment your code thoroughly.\n",
        "*   There are three parts of this assignment. The import statements for the required libraries is already given.\n"
      ]
    },
    {
      "cell_type": "markdown",
      "id": "857325dc",
      "metadata": {
        "id": "857325dc"
      },
      "source": [
        "### Introduction\n",
        "In this assignment, you will be using neural networks to implement a simplified version of a speech recognizer which aims to identify what digit has been spoken in a given audio file.\n",
        "\n",
        "In order to accomplish this, you will be using different toolkits, popularly used in machine learning for training models. In this assignment, you will be introduced to Sklearn, Keras, and Pytorch. An implementation from scratch is not required for the purposes of this assignment.\n",
        "\n",
        "Have fun!"
      ]
    },
    {
      "cell_type": "code",
      "execution_count": 1,
      "id": "6461902f",
      "metadata": {
        "id": "6461902f"
      },
      "outputs": [],
      "source": [
        "import numpy as np\n",
        "import pandas as pd"
      ]
    },
    {
      "cell_type": "markdown",
      "id": "47ad1548",
      "metadata": {
        "id": "47ad1548"
      },
      "source": [
        "## Part 1: Feature Extraction\n",
        "You will the MNIST audio dataset which can be downloaded from [here](https://www.kaggle.com/datasets/sripaadsrinivasan/audio-mnist). The dataset contains audio recordings, where speakers say digits (0 to 9) out loud. Use the following line of code to read the audio file:\n",
        "```python\n",
        "audio, sr = librosa.load(file_path, sr=16000)\n",
        "```\n",
        "You need to extract MFCC features for each audio file, the feature extraction code is give (you can read about MFCC from [here](https://link.springer.com/content/pdf/bbm:978-3-319-49220-9/1.pdf)). Length of each feature vector will be 13. You need to save all the feature vectors in a csv file with ith column representing ith feature, and each row representing an audio file. Add a 'y' column to the csv file and append the labels column at the end. Your csv file should look like this:\n",
        "\n",
        "| x1 | x2 | x3 | x4 | x5 | x6 | x7 | x8 | x9 | x10 | x11 | x12 | x13 | y |\n",
        "| --- | --- | --- | --- | --- | --- | --- | --- | --- | --- | --- | --- | --- | --- |\n",
        "| -11.347038 | -8.070062 | -0.915299 | 6.859546 | 8.754656 | -3.440287 | -5.738487 | -21.853178 | -9.859462 | 3.584948 | -2.661195\t| 1.023747 | -4.574332 | 2 |\n",
        "\n",
        "Print out 2 vectors in this notebook.\n",
        "\n",
        "Split the dataset into train and test with 80:20 ratio. Print the train data size and test data size."
      ]
    },
    {
      "cell_type": "code",
      "source": [
        "#kaggle.json uploaded\n",
        "!mkdir -p ~/.kaggle\n",
        "!mv kaggle.json ~/.kaggle/\n",
        "!chmod 600 ~/.kaggle/kaggle.json"
      ],
      "metadata": {
        "id": "blvHLGKbwfj8"
      },
      "id": "blvHLGKbwfj8",
      "execution_count": 2,
      "outputs": []
    },
    {
      "cell_type": "code",
      "source": [
        "!pip install -q kaggle"
      ],
      "metadata": {
        "id": "QsFyIC8BwyGD"
      },
      "id": "QsFyIC8BwyGD",
      "execution_count": 3,
      "outputs": []
    },
    {
      "cell_type": "code",
      "source": [
        "!kaggle datasets download -d sripaadsrinivasan/audio-mnist"
      ],
      "metadata": {
        "colab": {
          "base_uri": "https://localhost:8080/"
        },
        "id": "YEgQtz0qw0_W",
        "outputId": "9000a410-dbdf-447d-cd09-194f24ed9b99"
      },
      "id": "YEgQtz0qw0_W",
      "execution_count": 4,
      "outputs": [
        {
          "output_type": "stream",
          "name": "stdout",
          "text": [
            "Dataset URL: https://www.kaggle.com/datasets/sripaadsrinivasan/audio-mnist\n",
            "License(s): CC0-1.0\n"
          ]
        }
      ]
    },
    {
      "cell_type": "code",
      "source": [
        "import zipfile\n",
        "import os\n",
        "\n",
        "# Unzip the dataset\n",
        "with zipfile.ZipFile(\"audio-mnist.zip\", \"r\") as zip_ref:\n",
        "    zip_ref.extractall(\"audio_mnist\")\n",
        "\n",
        "# Show path to dataset files\n",
        "print(\"Path to dataset files:\", os.path.abspath(\"audio_mnist\"))"
      ],
      "metadata": {
        "colab": {
          "base_uri": "https://localhost:8080/"
        },
        "id": "DrrGWwc6w-_5",
        "outputId": "eefb2f87-254e-4e42-b990-932b6dde0325"
      },
      "id": "DrrGWwc6w-_5",
      "execution_count": 5,
      "outputs": [
        {
          "output_type": "stream",
          "name": "stdout",
          "text": [
            "Path to dataset files: /content/audio_mnist\n"
          ]
        }
      ]
    },
    {
      "cell_type": "code",
      "source": [
        "!pip install librosa  python_speech_features"
      ],
      "metadata": {
        "colab": {
          "base_uri": "https://localhost:8080/"
        },
        "id": "oVK8a-t-xKVG",
        "outputId": "8be81a4e-93f8-4524-a867-49fc93c412ed"
      },
      "id": "oVK8a-t-xKVG",
      "execution_count": 6,
      "outputs": [
        {
          "output_type": "stream",
          "name": "stdout",
          "text": [
            "Requirement already satisfied: librosa in /usr/local/lib/python3.11/dist-packages (0.11.0)\n",
            "Collecting python_speech_features\n",
            "  Downloading python_speech_features-0.6.tar.gz (5.6 kB)\n",
            "  Preparing metadata (setup.py) ... \u001b[?25l\u001b[?25hdone\n",
            "Requirement already satisfied: audioread>=2.1.9 in /usr/local/lib/python3.11/dist-packages (from librosa) (3.0.1)\n",
            "Requirement already satisfied: numba>=0.51.0 in /usr/local/lib/python3.11/dist-packages (from librosa) (0.60.0)\n",
            "Requirement already satisfied: numpy>=1.22.3 in /usr/local/lib/python3.11/dist-packages (from librosa) (2.0.2)\n",
            "Requirement already satisfied: scipy>=1.6.0 in /usr/local/lib/python3.11/dist-packages (from librosa) (1.14.1)\n",
            "Requirement already satisfied: scikit-learn>=1.1.0 in /usr/local/lib/python3.11/dist-packages (from librosa) (1.6.1)\n",
            "Requirement already satisfied: joblib>=1.0 in /usr/local/lib/python3.11/dist-packages (from librosa) (1.4.2)\n",
            "Requirement already satisfied: decorator>=4.3.0 in /usr/local/lib/python3.11/dist-packages (from librosa) (4.4.2)\n",
            "Requirement already satisfied: soundfile>=0.12.1 in /usr/local/lib/python3.11/dist-packages (from librosa) (0.13.1)\n",
            "Requirement already satisfied: pooch>=1.1 in /usr/local/lib/python3.11/dist-packages (from librosa) (1.8.2)\n",
            "Requirement already satisfied: soxr>=0.3.2 in /usr/local/lib/python3.11/dist-packages (from librosa) (0.5.0.post1)\n",
            "Requirement already satisfied: typing_extensions>=4.1.1 in /usr/local/lib/python3.11/dist-packages (from librosa) (4.13.1)\n",
            "Requirement already satisfied: lazy_loader>=0.1 in /usr/local/lib/python3.11/dist-packages (from librosa) (0.4)\n",
            "Requirement already satisfied: msgpack>=1.0 in /usr/local/lib/python3.11/dist-packages (from librosa) (1.1.0)\n",
            "Requirement already satisfied: packaging in /usr/local/lib/python3.11/dist-packages (from lazy_loader>=0.1->librosa) (24.2)\n",
            "Requirement already satisfied: llvmlite<0.44,>=0.43.0dev0 in /usr/local/lib/python3.11/dist-packages (from numba>=0.51.0->librosa) (0.43.0)\n",
            "Requirement already satisfied: platformdirs>=2.5.0 in /usr/local/lib/python3.11/dist-packages (from pooch>=1.1->librosa) (4.3.7)\n",
            "Requirement already satisfied: requests>=2.19.0 in /usr/local/lib/python3.11/dist-packages (from pooch>=1.1->librosa) (2.32.3)\n",
            "Requirement already satisfied: threadpoolctl>=3.1.0 in /usr/local/lib/python3.11/dist-packages (from scikit-learn>=1.1.0->librosa) (3.6.0)\n",
            "Requirement already satisfied: cffi>=1.0 in /usr/local/lib/python3.11/dist-packages (from soundfile>=0.12.1->librosa) (1.17.1)\n",
            "Requirement already satisfied: pycparser in /usr/local/lib/python3.11/dist-packages (from cffi>=1.0->soundfile>=0.12.1->librosa) (2.22)\n",
            "Requirement already satisfied: charset-normalizer<4,>=2 in /usr/local/lib/python3.11/dist-packages (from requests>=2.19.0->pooch>=1.1->librosa) (3.4.1)\n",
            "Requirement already satisfied: idna<4,>=2.5 in /usr/local/lib/python3.11/dist-packages (from requests>=2.19.0->pooch>=1.1->librosa) (3.10)\n",
            "Requirement already satisfied: urllib3<3,>=1.21.1 in /usr/local/lib/python3.11/dist-packages (from requests>=2.19.0->pooch>=1.1->librosa) (2.3.0)\n",
            "Requirement already satisfied: certifi>=2017.4.17 in /usr/local/lib/python3.11/dist-packages (from requests>=2.19.0->pooch>=1.1->librosa) (2025.1.31)\n",
            "Building wheels for collected packages: python_speech_features\n",
            "  Building wheel for python_speech_features (setup.py) ... \u001b[?25l\u001b[?25hdone\n",
            "  Created wheel for python_speech_features: filename=python_speech_features-0.6-py3-none-any.whl size=5868 sha256=2581fcd845191e34c13f0defb0784bbc810a67ce5580cfa55335dfd82b389ce4\n",
            "  Stored in directory: /root/.cache/pip/wheels/37/01/19/e6c69a32684ab7b2e3ea4985a571d810cf055c72600e7f9f17\n",
            "Successfully built python_speech_features\n",
            "Installing collected packages: python_speech_features\n",
            "Successfully installed python_speech_features-0.6\n"
          ]
        }
      ]
    },
    {
      "cell_type": "code",
      "execution_count": 7,
      "id": "877edb4d",
      "metadata": {
        "id": "877edb4d"
      },
      "outputs": [],
      "source": [
        "from glob import glob\n",
        "import python_speech_features as mfcc\n",
        "import librosa\n",
        "from sklearn.model_selection import train_test_split"
      ]
    },
    {
      "cell_type": "code",
      "execution_count": 8,
      "id": "0fef48f7",
      "metadata": {
        "id": "0fef48f7"
      },
      "outputs": [],
      "source": [
        "def get_MFCC(audio, sr):\n",
        "    features = mfcc.mfcc(audio, sr, 0.025, 0.01, 13, appendEnergy = True)\n",
        "    return np.mean(features, axis=0)"
      ]
    },
    {
      "cell_type": "code",
      "execution_count": 9,
      "id": "3b141033",
      "metadata": {
        "id": "3b141033",
        "colab": {
          "base_uri": "https://localhost:8080/"
        },
        "outputId": "577f1212-5074-43cc-c45f-8df0c300ea11"
      },
      "outputs": [
        {
          "output_type": "stream",
          "name": "stdout",
          "text": [
            "Total audio files: 30000\n"
          ]
        }
      ],
      "source": [
        "files = glob(\"audio_mnist/data/*/*.wav\", recursive=True)\n",
        "print(\"Total audio files:\", len(files))"
      ]
    },
    {
      "cell_type": "code",
      "source": [
        "X = []\n",
        "y = []\n",
        "\n",
        "#  Extract features from all files\n",
        "for file_path in files:\n",
        "    try:\n",
        "        # Load audio\n",
        "        audio, sr = librosa.load(file_path, sr=16000)\n",
        "\n",
        "        # Extract MFCC features\n",
        "        features = get_MFCC(audio, sr)\n",
        "\n",
        "        # Append to list\n",
        "        X.append(features)\n",
        "\n",
        "        # Label: Assume the digit is in the filename\n",
        "        label = int(os.path.basename(file_path)[0])\n",
        "        y.append(label)\n",
        "\n",
        "    except Exception as e:\n",
        "        print(f\"Failed to process {file_path}: {e}\")"
      ],
      "metadata": {
        "id": "PKugxYgvxsz2"
      },
      "id": "PKugxYgvxsz2",
      "execution_count": 10,
      "outputs": []
    },
    {
      "cell_type": "code",
      "source": [
        "# Create DataFrame and save to CSV\n",
        "df = pd.DataFrame(X, columns=[f'x{i+1}' for i in range(13)])\n",
        "df['y'] = y\n",
        "df.to_csv(\"mfcc_features.csv\", index=False)\n",
        "print(\"Saved features to mfcc_features.csv\")"
      ],
      "metadata": {
        "colab": {
          "base_uri": "https://localhost:8080/"
        },
        "id": "y35036ZPynBy",
        "outputId": "f51b6c73-0e6e-433f-ed2a-4d4f053656af"
      },
      "id": "y35036ZPynBy",
      "execution_count": 11,
      "outputs": [
        {
          "output_type": "stream",
          "name": "stdout",
          "text": [
            "Saved features to mfcc_features.csv\n"
          ]
        }
      ]
    },
    {
      "cell_type": "code",
      "source": [
        "#Pinting Two Vectors from dataset by printing head of dataset\n",
        "df.head()"
      ],
      "metadata": {
        "colab": {
          "base_uri": "https://localhost:8080/",
          "height": 226
        },
        "id": "BEU_lVSgyp_y",
        "outputId": "c047efec-8d3e-482c-8617-e9c49c038dd6"
      },
      "id": "BEU_lVSgyp_y",
      "execution_count": 13,
      "outputs": [
        {
          "output_type": "execute_result",
          "data": {
            "text/plain": [
              "          x1         x2        x3         x4        x5         x6         x7  \\\n",
              "0 -10.983814 -10.895885 -7.072916  18.357224 -4.331453 -12.047793 -19.204160   \n",
              "1 -11.758539 -13.099196  3.873553  22.905037 -9.725632  -3.438553  -9.934805   \n",
              "2 -10.436629  -4.465868 -6.179372  -4.391079 -7.395752  -3.333748  -1.651418   \n",
              "3 -11.088846   2.800699 -5.420423  11.907775  2.657051  -5.906424 -13.926769   \n",
              "4 -11.866158   4.646954 -5.626842   7.768194 -0.141961  -0.437793 -20.955122   \n",
              "\n",
              "         x8        x9       x10       x11        x12        x13  y  \n",
              "0 -2.802019  7.655706  0.027910 -2.847536   5.530191  -0.639497  3  \n",
              "1 -1.237989  8.042800 -1.617887 -3.573632   4.013999  -0.320542  8  \n",
              "2 -1.224542  8.538851 -4.217718  0.412184  -2.331860  -4.846754  4  \n",
              "3 -2.034793  1.882219 -6.721358 -5.350374 -10.801701 -15.478766  9  \n",
              "4 -3.152345  4.399502 -5.457578 -0.027097 -13.675503 -11.454354  9  "
            ],
            "text/html": [
              "\n",
              "  <div id=\"df-d9c4d128-7621-4980-8fd8-0e0965337f40\" class=\"colab-df-container\">\n",
              "    <div>\n",
              "<style scoped>\n",
              "    .dataframe tbody tr th:only-of-type {\n",
              "        vertical-align: middle;\n",
              "    }\n",
              "\n",
              "    .dataframe tbody tr th {\n",
              "        vertical-align: top;\n",
              "    }\n",
              "\n",
              "    .dataframe thead th {\n",
              "        text-align: right;\n",
              "    }\n",
              "</style>\n",
              "<table border=\"1\" class=\"dataframe\">\n",
              "  <thead>\n",
              "    <tr style=\"text-align: right;\">\n",
              "      <th></th>\n",
              "      <th>x1</th>\n",
              "      <th>x2</th>\n",
              "      <th>x3</th>\n",
              "      <th>x4</th>\n",
              "      <th>x5</th>\n",
              "      <th>x6</th>\n",
              "      <th>x7</th>\n",
              "      <th>x8</th>\n",
              "      <th>x9</th>\n",
              "      <th>x10</th>\n",
              "      <th>x11</th>\n",
              "      <th>x12</th>\n",
              "      <th>x13</th>\n",
              "      <th>y</th>\n",
              "    </tr>\n",
              "  </thead>\n",
              "  <tbody>\n",
              "    <tr>\n",
              "      <th>0</th>\n",
              "      <td>-10.983814</td>\n",
              "      <td>-10.895885</td>\n",
              "      <td>-7.072916</td>\n",
              "      <td>18.357224</td>\n",
              "      <td>-4.331453</td>\n",
              "      <td>-12.047793</td>\n",
              "      <td>-19.204160</td>\n",
              "      <td>-2.802019</td>\n",
              "      <td>7.655706</td>\n",
              "      <td>0.027910</td>\n",
              "      <td>-2.847536</td>\n",
              "      <td>5.530191</td>\n",
              "      <td>-0.639497</td>\n",
              "      <td>3</td>\n",
              "    </tr>\n",
              "    <tr>\n",
              "      <th>1</th>\n",
              "      <td>-11.758539</td>\n",
              "      <td>-13.099196</td>\n",
              "      <td>3.873553</td>\n",
              "      <td>22.905037</td>\n",
              "      <td>-9.725632</td>\n",
              "      <td>-3.438553</td>\n",
              "      <td>-9.934805</td>\n",
              "      <td>-1.237989</td>\n",
              "      <td>8.042800</td>\n",
              "      <td>-1.617887</td>\n",
              "      <td>-3.573632</td>\n",
              "      <td>4.013999</td>\n",
              "      <td>-0.320542</td>\n",
              "      <td>8</td>\n",
              "    </tr>\n",
              "    <tr>\n",
              "      <th>2</th>\n",
              "      <td>-10.436629</td>\n",
              "      <td>-4.465868</td>\n",
              "      <td>-6.179372</td>\n",
              "      <td>-4.391079</td>\n",
              "      <td>-7.395752</td>\n",
              "      <td>-3.333748</td>\n",
              "      <td>-1.651418</td>\n",
              "      <td>-1.224542</td>\n",
              "      <td>8.538851</td>\n",
              "      <td>-4.217718</td>\n",
              "      <td>0.412184</td>\n",
              "      <td>-2.331860</td>\n",
              "      <td>-4.846754</td>\n",
              "      <td>4</td>\n",
              "    </tr>\n",
              "    <tr>\n",
              "      <th>3</th>\n",
              "      <td>-11.088846</td>\n",
              "      <td>2.800699</td>\n",
              "      <td>-5.420423</td>\n",
              "      <td>11.907775</td>\n",
              "      <td>2.657051</td>\n",
              "      <td>-5.906424</td>\n",
              "      <td>-13.926769</td>\n",
              "      <td>-2.034793</td>\n",
              "      <td>1.882219</td>\n",
              "      <td>-6.721358</td>\n",
              "      <td>-5.350374</td>\n",
              "      <td>-10.801701</td>\n",
              "      <td>-15.478766</td>\n",
              "      <td>9</td>\n",
              "    </tr>\n",
              "    <tr>\n",
              "      <th>4</th>\n",
              "      <td>-11.866158</td>\n",
              "      <td>4.646954</td>\n",
              "      <td>-5.626842</td>\n",
              "      <td>7.768194</td>\n",
              "      <td>-0.141961</td>\n",
              "      <td>-0.437793</td>\n",
              "      <td>-20.955122</td>\n",
              "      <td>-3.152345</td>\n",
              "      <td>4.399502</td>\n",
              "      <td>-5.457578</td>\n",
              "      <td>-0.027097</td>\n",
              "      <td>-13.675503</td>\n",
              "      <td>-11.454354</td>\n",
              "      <td>9</td>\n",
              "    </tr>\n",
              "  </tbody>\n",
              "</table>\n",
              "</div>\n",
              "    <div class=\"colab-df-buttons\">\n",
              "\n",
              "  <div class=\"colab-df-container\">\n",
              "    <button class=\"colab-df-convert\" onclick=\"convertToInteractive('df-d9c4d128-7621-4980-8fd8-0e0965337f40')\"\n",
              "            title=\"Convert this dataframe to an interactive table.\"\n",
              "            style=\"display:none;\">\n",
              "\n",
              "  <svg xmlns=\"http://www.w3.org/2000/svg\" height=\"24px\" viewBox=\"0 -960 960 960\">\n",
              "    <path d=\"M120-120v-720h720v720H120Zm60-500h600v-160H180v160Zm220 220h160v-160H400v160Zm0 220h160v-160H400v160ZM180-400h160v-160H180v160Zm440 0h160v-160H620v160ZM180-180h160v-160H180v160Zm440 0h160v-160H620v160Z\"/>\n",
              "  </svg>\n",
              "    </button>\n",
              "\n",
              "  <style>\n",
              "    .colab-df-container {\n",
              "      display:flex;\n",
              "      gap: 12px;\n",
              "    }\n",
              "\n",
              "    .colab-df-convert {\n",
              "      background-color: #E8F0FE;\n",
              "      border: none;\n",
              "      border-radius: 50%;\n",
              "      cursor: pointer;\n",
              "      display: none;\n",
              "      fill: #1967D2;\n",
              "      height: 32px;\n",
              "      padding: 0 0 0 0;\n",
              "      width: 32px;\n",
              "    }\n",
              "\n",
              "    .colab-df-convert:hover {\n",
              "      background-color: #E2EBFA;\n",
              "      box-shadow: 0px 1px 2px rgba(60, 64, 67, 0.3), 0px 1px 3px 1px rgba(60, 64, 67, 0.15);\n",
              "      fill: #174EA6;\n",
              "    }\n",
              "\n",
              "    .colab-df-buttons div {\n",
              "      margin-bottom: 4px;\n",
              "    }\n",
              "\n",
              "    [theme=dark] .colab-df-convert {\n",
              "      background-color: #3B4455;\n",
              "      fill: #D2E3FC;\n",
              "    }\n",
              "\n",
              "    [theme=dark] .colab-df-convert:hover {\n",
              "      background-color: #434B5C;\n",
              "      box-shadow: 0px 1px 3px 1px rgba(0, 0, 0, 0.15);\n",
              "      filter: drop-shadow(0px 1px 2px rgba(0, 0, 0, 0.3));\n",
              "      fill: #FFFFFF;\n",
              "    }\n",
              "  </style>\n",
              "\n",
              "    <script>\n",
              "      const buttonEl =\n",
              "        document.querySelector('#df-d9c4d128-7621-4980-8fd8-0e0965337f40 button.colab-df-convert');\n",
              "      buttonEl.style.display =\n",
              "        google.colab.kernel.accessAllowed ? 'block' : 'none';\n",
              "\n",
              "      async function convertToInteractive(key) {\n",
              "        const element = document.querySelector('#df-d9c4d128-7621-4980-8fd8-0e0965337f40');\n",
              "        const dataTable =\n",
              "          await google.colab.kernel.invokeFunction('convertToInteractive',\n",
              "                                                    [key], {});\n",
              "        if (!dataTable) return;\n",
              "\n",
              "        const docLinkHtml = 'Like what you see? Visit the ' +\n",
              "          '<a target=\"_blank\" href=https://colab.research.google.com/notebooks/data_table.ipynb>data table notebook</a>'\n",
              "          + ' to learn more about interactive tables.';\n",
              "        element.innerHTML = '';\n",
              "        dataTable['output_type'] = 'display_data';\n",
              "        await google.colab.output.renderOutput(dataTable, element);\n",
              "        const docLink = document.createElement('div');\n",
              "        docLink.innerHTML = docLinkHtml;\n",
              "        element.appendChild(docLink);\n",
              "      }\n",
              "    </script>\n",
              "  </div>\n",
              "\n",
              "\n",
              "<div id=\"df-22c8bb19-958c-42ca-abe6-13ea5630c853\">\n",
              "  <button class=\"colab-df-quickchart\" onclick=\"quickchart('df-22c8bb19-958c-42ca-abe6-13ea5630c853')\"\n",
              "            title=\"Suggest charts\"\n",
              "            style=\"display:none;\">\n",
              "\n",
              "<svg xmlns=\"http://www.w3.org/2000/svg\" height=\"24px\"viewBox=\"0 0 24 24\"\n",
              "     width=\"24px\">\n",
              "    <g>\n",
              "        <path d=\"M19 3H5c-1.1 0-2 .9-2 2v14c0 1.1.9 2 2 2h14c1.1 0 2-.9 2-2V5c0-1.1-.9-2-2-2zM9 17H7v-7h2v7zm4 0h-2V7h2v10zm4 0h-2v-4h2v4z\"/>\n",
              "    </g>\n",
              "</svg>\n",
              "  </button>\n",
              "\n",
              "<style>\n",
              "  .colab-df-quickchart {\n",
              "      --bg-color: #E8F0FE;\n",
              "      --fill-color: #1967D2;\n",
              "      --hover-bg-color: #E2EBFA;\n",
              "      --hover-fill-color: #174EA6;\n",
              "      --disabled-fill-color: #AAA;\n",
              "      --disabled-bg-color: #DDD;\n",
              "  }\n",
              "\n",
              "  [theme=dark] .colab-df-quickchart {\n",
              "      --bg-color: #3B4455;\n",
              "      --fill-color: #D2E3FC;\n",
              "      --hover-bg-color: #434B5C;\n",
              "      --hover-fill-color: #FFFFFF;\n",
              "      --disabled-bg-color: #3B4455;\n",
              "      --disabled-fill-color: #666;\n",
              "  }\n",
              "\n",
              "  .colab-df-quickchart {\n",
              "    background-color: var(--bg-color);\n",
              "    border: none;\n",
              "    border-radius: 50%;\n",
              "    cursor: pointer;\n",
              "    display: none;\n",
              "    fill: var(--fill-color);\n",
              "    height: 32px;\n",
              "    padding: 0;\n",
              "    width: 32px;\n",
              "  }\n",
              "\n",
              "  .colab-df-quickchart:hover {\n",
              "    background-color: var(--hover-bg-color);\n",
              "    box-shadow: 0 1px 2px rgba(60, 64, 67, 0.3), 0 1px 3px 1px rgba(60, 64, 67, 0.15);\n",
              "    fill: var(--button-hover-fill-color);\n",
              "  }\n",
              "\n",
              "  .colab-df-quickchart-complete:disabled,\n",
              "  .colab-df-quickchart-complete:disabled:hover {\n",
              "    background-color: var(--disabled-bg-color);\n",
              "    fill: var(--disabled-fill-color);\n",
              "    box-shadow: none;\n",
              "  }\n",
              "\n",
              "  .colab-df-spinner {\n",
              "    border: 2px solid var(--fill-color);\n",
              "    border-color: transparent;\n",
              "    border-bottom-color: var(--fill-color);\n",
              "    animation:\n",
              "      spin 1s steps(1) infinite;\n",
              "  }\n",
              "\n",
              "  @keyframes spin {\n",
              "    0% {\n",
              "      border-color: transparent;\n",
              "      border-bottom-color: var(--fill-color);\n",
              "      border-left-color: var(--fill-color);\n",
              "    }\n",
              "    20% {\n",
              "      border-color: transparent;\n",
              "      border-left-color: var(--fill-color);\n",
              "      border-top-color: var(--fill-color);\n",
              "    }\n",
              "    30% {\n",
              "      border-color: transparent;\n",
              "      border-left-color: var(--fill-color);\n",
              "      border-top-color: var(--fill-color);\n",
              "      border-right-color: var(--fill-color);\n",
              "    }\n",
              "    40% {\n",
              "      border-color: transparent;\n",
              "      border-right-color: var(--fill-color);\n",
              "      border-top-color: var(--fill-color);\n",
              "    }\n",
              "    60% {\n",
              "      border-color: transparent;\n",
              "      border-right-color: var(--fill-color);\n",
              "    }\n",
              "    80% {\n",
              "      border-color: transparent;\n",
              "      border-right-color: var(--fill-color);\n",
              "      border-bottom-color: var(--fill-color);\n",
              "    }\n",
              "    90% {\n",
              "      border-color: transparent;\n",
              "      border-bottom-color: var(--fill-color);\n",
              "    }\n",
              "  }\n",
              "</style>\n",
              "\n",
              "  <script>\n",
              "    async function quickchart(key) {\n",
              "      const quickchartButtonEl =\n",
              "        document.querySelector('#' + key + ' button');\n",
              "      quickchartButtonEl.disabled = true;  // To prevent multiple clicks.\n",
              "      quickchartButtonEl.classList.add('colab-df-spinner');\n",
              "      try {\n",
              "        const charts = await google.colab.kernel.invokeFunction(\n",
              "            'suggestCharts', [key], {});\n",
              "      } catch (error) {\n",
              "        console.error('Error during call to suggestCharts:', error);\n",
              "      }\n",
              "      quickchartButtonEl.classList.remove('colab-df-spinner');\n",
              "      quickchartButtonEl.classList.add('colab-df-quickchart-complete');\n",
              "    }\n",
              "    (() => {\n",
              "      let quickchartButtonEl =\n",
              "        document.querySelector('#df-22c8bb19-958c-42ca-abe6-13ea5630c853 button');\n",
              "      quickchartButtonEl.style.display =\n",
              "        google.colab.kernel.accessAllowed ? 'block' : 'none';\n",
              "    })();\n",
              "  </script>\n",
              "</div>\n",
              "\n",
              "    </div>\n",
              "  </div>\n"
            ],
            "application/vnd.google.colaboratory.intrinsic+json": {
              "type": "dataframe",
              "variable_name": "df",
              "summary": "{\n  \"name\": \"df\",\n  \"rows\": 30000,\n  \"fields\": [\n    {\n      \"column\": \"x1\",\n      \"properties\": {\n        \"dtype\": \"number\",\n        \"std\": 1.1716417901914065,\n        \"min\": -14.307671202610429,\n        \"max\": -4.142218988106864,\n        \"num_unique_values\": 29997,\n        \"samples\": [\n          -9.976966562632398,\n          -12.23493549754356,\n          -12.286123542902978\n        ],\n        \"semantic_type\": \"\",\n        \"description\": \"\"\n      }\n    },\n    {\n      \"column\": \"x2\",\n      \"properties\": {\n        \"dtype\": \"number\",\n        \"std\": 8.814683279919818,\n        \"min\": -34.67236085752316,\n        \"max\": 16.933856827474767,\n        \"num_unique_values\": 29997,\n        \"samples\": [\n          -6.929638874413101,\n          -6.995498882505015,\n          3.588382534012509\n        ],\n        \"semantic_type\": \"\",\n        \"description\": \"\"\n      }\n    },\n    {\n      \"column\": \"x3\",\n      \"properties\": {\n        \"dtype\": \"number\",\n        \"std\": 6.752480985126371,\n        \"min\": -23.46485891175778,\n        \"max\": 28.301244951131224,\n        \"num_unique_values\": 29997,\n        \"samples\": [\n          5.464974133775576,\n          6.041392850094689,\n          8.235684593492104\n        ],\n        \"semantic_type\": \"\",\n        \"description\": \"\"\n      }\n    },\n    {\n      \"column\": \"x4\",\n      \"properties\": {\n        \"dtype\": \"number\",\n        \"std\": 8.858833581530023,\n        \"min\": -19.13717539198798,\n        \"max\": 36.782366093709484,\n        \"num_unique_values\": 29997,\n        \"samples\": [\n          27.680745063203233,\n          7.76836052547137,\n          -2.156255477077331\n        ],\n        \"semantic_type\": \"\",\n        \"description\": \"\"\n      }\n    },\n    {\n      \"column\": \"x5\",\n      \"properties\": {\n        \"dtype\": \"number\",\n        \"std\": 7.457359704039651,\n        \"min\": -38.414333996985846,\n        \"max\": 20.45887942346281,\n        \"num_unique_values\": 29997,\n        \"samples\": [\n          3.0186489887118237,\n          -0.11982679550227741,\n          -7.336160039236438\n        ],\n        \"semantic_type\": \"\",\n        \"description\": \"\"\n      }\n    },\n    {\n      \"column\": \"x6\",\n      \"properties\": {\n        \"dtype\": \"number\",\n        \"std\": 7.697912283787597,\n        \"min\": -36.423608734783585,\n        \"max\": 20.799618624241837,\n        \"num_unique_values\": 29997,\n        \"samples\": [\n          -15.160013167690282,\n          0.38335545341746263,\n          -2.822335398682645\n        ],\n        \"semantic_type\": \"\",\n        \"description\": \"\"\n      }\n    },\n    {\n      \"column\": \"x7\",\n      \"properties\": {\n        \"dtype\": \"number\",\n        \"std\": 8.390849508709506,\n        \"min\": -40.81223725109226,\n        \"max\": 27.290282519231965,\n        \"num_unique_values\": 29997,\n        \"samples\": [\n          -4.307332413851099,\n          -3.567561625430776,\n          -2.441583434084812\n        ],\n        \"semantic_type\": \"\",\n        \"description\": \"\"\n      }\n    },\n    {\n      \"column\": \"x8\",\n      \"properties\": {\n        \"dtype\": \"number\",\n        \"std\": 7.9824062285475605,\n        \"min\": -34.30924805084936,\n        \"max\": 24.607234013285016,\n        \"num_unique_values\": 29997,\n        \"samples\": [\n          -17.340358573403424,\n          -13.27584151101096,\n          -12.475281143289907\n        ],\n        \"semantic_type\": \"\",\n        \"description\": \"\"\n      }\n    },\n    {\n      \"column\": \"x9\",\n      \"properties\": {\n        \"dtype\": \"number\",\n        \"std\": 7.011016758442301,\n        \"min\": -33.30523263902528,\n        \"max\": 28.516775051537362,\n        \"num_unique_values\": 29997,\n        \"samples\": [\n          -4.000502517967367,\n          -4.862913013518643,\n          4.2089047849216\n        ],\n        \"semantic_type\": \"\",\n        \"description\": \"\"\n      }\n    },\n    {\n      \"column\": \"x10\",\n      \"properties\": {\n        \"dtype\": \"number\",\n        \"std\": 7.478187679674528,\n        \"min\": -30.755446496665876,\n        \"max\": 34.67237604743639,\n        \"num_unique_values\": 29997,\n        \"samples\": [\n          -2.3370548079156706,\n          -11.838318223309763,\n          7.834591480408905\n        ],\n        \"semantic_type\": \"\",\n        \"description\": \"\"\n      }\n    },\n    {\n      \"column\": \"x11\",\n      \"properties\": {\n        \"dtype\": \"number\",\n        \"std\": 6.333688086096484,\n        \"min\": -33.91127471730755,\n        \"max\": 22.625149410883523,\n        \"num_unique_values\": 29997,\n        \"samples\": [\n          -15.870913858870741,\n          -9.750761805325778,\n          -12.345738314907623\n        ],\n        \"semantic_type\": \"\",\n        \"description\": \"\"\n      }\n    },\n    {\n      \"column\": \"x12\",\n      \"properties\": {\n        \"dtype\": \"number\",\n        \"std\": 7.282752942264209,\n        \"min\": -32.05321536905026,\n        \"max\": 24.102443150743508,\n        \"num_unique_values\": 29997,\n        \"samples\": [\n          8.58278066400034,\n          11.043662939016397,\n          -12.453584981532103\n        ],\n        \"semantic_type\": \"\",\n        \"description\": \"\"\n      }\n    },\n    {\n      \"column\": \"x13\",\n      \"properties\": {\n        \"dtype\": \"number\",\n        \"std\": 5.852786875047044,\n        \"min\": -33.41298115328398,\n        \"max\": 14.597009526882909,\n        \"num_unique_values\": 29997,\n        \"samples\": [\n          -5.940231754816576,\n          -4.77014869112822,\n          -3.9884234180093125\n        ],\n        \"semantic_type\": \"\",\n        \"description\": \"\"\n      }\n    },\n    {\n      \"column\": \"y\",\n      \"properties\": {\n        \"dtype\": \"number\",\n        \"std\": 2,\n        \"min\": 0,\n        \"max\": 9,\n        \"num_unique_values\": 10,\n        \"samples\": [\n          7,\n          8,\n          6\n        ],\n        \"semantic_type\": \"\",\n        \"description\": \"\"\n      }\n    }\n  ]\n}"
            }
          },
          "metadata": {},
          "execution_count": 13
        }
      ]
    },
    {
      "cell_type": "code",
      "source": [
        "df.describe()"
      ],
      "metadata": {
        "colab": {
          "base_uri": "https://localhost:8080/",
          "height": 320
        },
        "id": "4ZQoZHA7zSWT",
        "outputId": "a99aaa69-b075-48b8-cb20-016661d046dc"
      },
      "id": "4ZQoZHA7zSWT",
      "execution_count": 16,
      "outputs": [
        {
          "output_type": "execute_result",
          "data": {
            "text/plain": [
              "                 x1            x2            x3            x4            x5  \\\n",
              "count  30000.000000  30000.000000  30000.000000  30000.000000  30000.000000   \n",
              "mean     -10.685290     -6.195530      1.762325      6.015719     -2.105331   \n",
              "std        1.171642      8.814683      6.752481      8.858834      7.457360   \n",
              "min      -14.307671    -34.672361    -23.464859    -19.137175    -38.414334   \n",
              "25%      -11.478421    -10.814527     -2.510250     -0.273465     -6.859819   \n",
              "50%      -10.793923     -5.034481      2.172222      5.127510     -1.795363   \n",
              "75%      -10.011772      0.200845      6.505403     11.785881      3.217725   \n",
              "max       -4.142219     16.933857     28.301245     36.782366     20.458879   \n",
              "\n",
              "                 x6            x7            x8            x9           x10  \\\n",
              "count  30000.000000  30000.000000  30000.000000  30000.000000  30000.000000   \n",
              "mean      -7.068690     -5.921436     -6.063960     -1.304830     -1.854127   \n",
              "std        7.697912      8.390850      7.982406      7.011017      7.478188   \n",
              "min      -36.423609    -40.812237    -34.309248    -33.305233    -30.755446   \n",
              "25%      -12.250617    -11.590952    -11.644062     -5.813954     -6.877016   \n",
              "50%       -6.824552     -6.035499     -6.156813     -1.183534     -1.814846   \n",
              "75%       -1.704763     -0.260490     -0.707417      3.308875      3.441704   \n",
              "max       20.799619     27.290283     24.607234     28.516775     34.672376   \n",
              "\n",
              "                x11           x12           x13             y  \n",
              "count  30000.000000  30000.000000  30000.000000  30000.000000  \n",
              "mean      -2.354729     -0.421068     -4.402515      4.500000  \n",
              "std        6.333688      7.282753      5.852787      2.872329  \n",
              "min      -33.911275    -32.053215    -33.412981      0.000000  \n",
              "25%       -6.539827     -5.116070     -8.187016      2.000000  \n",
              "50%       -2.137927      0.187533     -4.145847      4.500000  \n",
              "75%        1.981812      4.674122     -0.343000      7.000000  \n",
              "max       22.625149     24.102443     14.597010      9.000000  "
            ],
            "text/html": [
              "\n",
              "  <div id=\"df-abeb3424-460b-44f8-b319-5a3303a2346f\" class=\"colab-df-container\">\n",
              "    <div>\n",
              "<style scoped>\n",
              "    .dataframe tbody tr th:only-of-type {\n",
              "        vertical-align: middle;\n",
              "    }\n",
              "\n",
              "    .dataframe tbody tr th {\n",
              "        vertical-align: top;\n",
              "    }\n",
              "\n",
              "    .dataframe thead th {\n",
              "        text-align: right;\n",
              "    }\n",
              "</style>\n",
              "<table border=\"1\" class=\"dataframe\">\n",
              "  <thead>\n",
              "    <tr style=\"text-align: right;\">\n",
              "      <th></th>\n",
              "      <th>x1</th>\n",
              "      <th>x2</th>\n",
              "      <th>x3</th>\n",
              "      <th>x4</th>\n",
              "      <th>x5</th>\n",
              "      <th>x6</th>\n",
              "      <th>x7</th>\n",
              "      <th>x8</th>\n",
              "      <th>x9</th>\n",
              "      <th>x10</th>\n",
              "      <th>x11</th>\n",
              "      <th>x12</th>\n",
              "      <th>x13</th>\n",
              "      <th>y</th>\n",
              "    </tr>\n",
              "  </thead>\n",
              "  <tbody>\n",
              "    <tr>\n",
              "      <th>count</th>\n",
              "      <td>30000.000000</td>\n",
              "      <td>30000.000000</td>\n",
              "      <td>30000.000000</td>\n",
              "      <td>30000.000000</td>\n",
              "      <td>30000.000000</td>\n",
              "      <td>30000.000000</td>\n",
              "      <td>30000.000000</td>\n",
              "      <td>30000.000000</td>\n",
              "      <td>30000.000000</td>\n",
              "      <td>30000.000000</td>\n",
              "      <td>30000.000000</td>\n",
              "      <td>30000.000000</td>\n",
              "      <td>30000.000000</td>\n",
              "      <td>30000.000000</td>\n",
              "    </tr>\n",
              "    <tr>\n",
              "      <th>mean</th>\n",
              "      <td>-10.685290</td>\n",
              "      <td>-6.195530</td>\n",
              "      <td>1.762325</td>\n",
              "      <td>6.015719</td>\n",
              "      <td>-2.105331</td>\n",
              "      <td>-7.068690</td>\n",
              "      <td>-5.921436</td>\n",
              "      <td>-6.063960</td>\n",
              "      <td>-1.304830</td>\n",
              "      <td>-1.854127</td>\n",
              "      <td>-2.354729</td>\n",
              "      <td>-0.421068</td>\n",
              "      <td>-4.402515</td>\n",
              "      <td>4.500000</td>\n",
              "    </tr>\n",
              "    <tr>\n",
              "      <th>std</th>\n",
              "      <td>1.171642</td>\n",
              "      <td>8.814683</td>\n",
              "      <td>6.752481</td>\n",
              "      <td>8.858834</td>\n",
              "      <td>7.457360</td>\n",
              "      <td>7.697912</td>\n",
              "      <td>8.390850</td>\n",
              "      <td>7.982406</td>\n",
              "      <td>7.011017</td>\n",
              "      <td>7.478188</td>\n",
              "      <td>6.333688</td>\n",
              "      <td>7.282753</td>\n",
              "      <td>5.852787</td>\n",
              "      <td>2.872329</td>\n",
              "    </tr>\n",
              "    <tr>\n",
              "      <th>min</th>\n",
              "      <td>-14.307671</td>\n",
              "      <td>-34.672361</td>\n",
              "      <td>-23.464859</td>\n",
              "      <td>-19.137175</td>\n",
              "      <td>-38.414334</td>\n",
              "      <td>-36.423609</td>\n",
              "      <td>-40.812237</td>\n",
              "      <td>-34.309248</td>\n",
              "      <td>-33.305233</td>\n",
              "      <td>-30.755446</td>\n",
              "      <td>-33.911275</td>\n",
              "      <td>-32.053215</td>\n",
              "      <td>-33.412981</td>\n",
              "      <td>0.000000</td>\n",
              "    </tr>\n",
              "    <tr>\n",
              "      <th>25%</th>\n",
              "      <td>-11.478421</td>\n",
              "      <td>-10.814527</td>\n",
              "      <td>-2.510250</td>\n",
              "      <td>-0.273465</td>\n",
              "      <td>-6.859819</td>\n",
              "      <td>-12.250617</td>\n",
              "      <td>-11.590952</td>\n",
              "      <td>-11.644062</td>\n",
              "      <td>-5.813954</td>\n",
              "      <td>-6.877016</td>\n",
              "      <td>-6.539827</td>\n",
              "      <td>-5.116070</td>\n",
              "      <td>-8.187016</td>\n",
              "      <td>2.000000</td>\n",
              "    </tr>\n",
              "    <tr>\n",
              "      <th>50%</th>\n",
              "      <td>-10.793923</td>\n",
              "      <td>-5.034481</td>\n",
              "      <td>2.172222</td>\n",
              "      <td>5.127510</td>\n",
              "      <td>-1.795363</td>\n",
              "      <td>-6.824552</td>\n",
              "      <td>-6.035499</td>\n",
              "      <td>-6.156813</td>\n",
              "      <td>-1.183534</td>\n",
              "      <td>-1.814846</td>\n",
              "      <td>-2.137927</td>\n",
              "      <td>0.187533</td>\n",
              "      <td>-4.145847</td>\n",
              "      <td>4.500000</td>\n",
              "    </tr>\n",
              "    <tr>\n",
              "      <th>75%</th>\n",
              "      <td>-10.011772</td>\n",
              "      <td>0.200845</td>\n",
              "      <td>6.505403</td>\n",
              "      <td>11.785881</td>\n",
              "      <td>3.217725</td>\n",
              "      <td>-1.704763</td>\n",
              "      <td>-0.260490</td>\n",
              "      <td>-0.707417</td>\n",
              "      <td>3.308875</td>\n",
              "      <td>3.441704</td>\n",
              "      <td>1.981812</td>\n",
              "      <td>4.674122</td>\n",
              "      <td>-0.343000</td>\n",
              "      <td>7.000000</td>\n",
              "    </tr>\n",
              "    <tr>\n",
              "      <th>max</th>\n",
              "      <td>-4.142219</td>\n",
              "      <td>16.933857</td>\n",
              "      <td>28.301245</td>\n",
              "      <td>36.782366</td>\n",
              "      <td>20.458879</td>\n",
              "      <td>20.799619</td>\n",
              "      <td>27.290283</td>\n",
              "      <td>24.607234</td>\n",
              "      <td>28.516775</td>\n",
              "      <td>34.672376</td>\n",
              "      <td>22.625149</td>\n",
              "      <td>24.102443</td>\n",
              "      <td>14.597010</td>\n",
              "      <td>9.000000</td>\n",
              "    </tr>\n",
              "  </tbody>\n",
              "</table>\n",
              "</div>\n",
              "    <div class=\"colab-df-buttons\">\n",
              "\n",
              "  <div class=\"colab-df-container\">\n",
              "    <button class=\"colab-df-convert\" onclick=\"convertToInteractive('df-abeb3424-460b-44f8-b319-5a3303a2346f')\"\n",
              "            title=\"Convert this dataframe to an interactive table.\"\n",
              "            style=\"display:none;\">\n",
              "\n",
              "  <svg xmlns=\"http://www.w3.org/2000/svg\" height=\"24px\" viewBox=\"0 -960 960 960\">\n",
              "    <path d=\"M120-120v-720h720v720H120Zm60-500h600v-160H180v160Zm220 220h160v-160H400v160Zm0 220h160v-160H400v160ZM180-400h160v-160H180v160Zm440 0h160v-160H620v160ZM180-180h160v-160H180v160Zm440 0h160v-160H620v160Z\"/>\n",
              "  </svg>\n",
              "    </button>\n",
              "\n",
              "  <style>\n",
              "    .colab-df-container {\n",
              "      display:flex;\n",
              "      gap: 12px;\n",
              "    }\n",
              "\n",
              "    .colab-df-convert {\n",
              "      background-color: #E8F0FE;\n",
              "      border: none;\n",
              "      border-radius: 50%;\n",
              "      cursor: pointer;\n",
              "      display: none;\n",
              "      fill: #1967D2;\n",
              "      height: 32px;\n",
              "      padding: 0 0 0 0;\n",
              "      width: 32px;\n",
              "    }\n",
              "\n",
              "    .colab-df-convert:hover {\n",
              "      background-color: #E2EBFA;\n",
              "      box-shadow: 0px 1px 2px rgba(60, 64, 67, 0.3), 0px 1px 3px 1px rgba(60, 64, 67, 0.15);\n",
              "      fill: #174EA6;\n",
              "    }\n",
              "\n",
              "    .colab-df-buttons div {\n",
              "      margin-bottom: 4px;\n",
              "    }\n",
              "\n",
              "    [theme=dark] .colab-df-convert {\n",
              "      background-color: #3B4455;\n",
              "      fill: #D2E3FC;\n",
              "    }\n",
              "\n",
              "    [theme=dark] .colab-df-convert:hover {\n",
              "      background-color: #434B5C;\n",
              "      box-shadow: 0px 1px 3px 1px rgba(0, 0, 0, 0.15);\n",
              "      filter: drop-shadow(0px 1px 2px rgba(0, 0, 0, 0.3));\n",
              "      fill: #FFFFFF;\n",
              "    }\n",
              "  </style>\n",
              "\n",
              "    <script>\n",
              "      const buttonEl =\n",
              "        document.querySelector('#df-abeb3424-460b-44f8-b319-5a3303a2346f button.colab-df-convert');\n",
              "      buttonEl.style.display =\n",
              "        google.colab.kernel.accessAllowed ? 'block' : 'none';\n",
              "\n",
              "      async function convertToInteractive(key) {\n",
              "        const element = document.querySelector('#df-abeb3424-460b-44f8-b319-5a3303a2346f');\n",
              "        const dataTable =\n",
              "          await google.colab.kernel.invokeFunction('convertToInteractive',\n",
              "                                                    [key], {});\n",
              "        if (!dataTable) return;\n",
              "\n",
              "        const docLinkHtml = 'Like what you see? Visit the ' +\n",
              "          '<a target=\"_blank\" href=https://colab.research.google.com/notebooks/data_table.ipynb>data table notebook</a>'\n",
              "          + ' to learn more about interactive tables.';\n",
              "        element.innerHTML = '';\n",
              "        dataTable['output_type'] = 'display_data';\n",
              "        await google.colab.output.renderOutput(dataTable, element);\n",
              "        const docLink = document.createElement('div');\n",
              "        docLink.innerHTML = docLinkHtml;\n",
              "        element.appendChild(docLink);\n",
              "      }\n",
              "    </script>\n",
              "  </div>\n",
              "\n",
              "\n",
              "<div id=\"df-4731257a-d87c-42e3-b747-a285e412f904\">\n",
              "  <button class=\"colab-df-quickchart\" onclick=\"quickchart('df-4731257a-d87c-42e3-b747-a285e412f904')\"\n",
              "            title=\"Suggest charts\"\n",
              "            style=\"display:none;\">\n",
              "\n",
              "<svg xmlns=\"http://www.w3.org/2000/svg\" height=\"24px\"viewBox=\"0 0 24 24\"\n",
              "     width=\"24px\">\n",
              "    <g>\n",
              "        <path d=\"M19 3H5c-1.1 0-2 .9-2 2v14c0 1.1.9 2 2 2h14c1.1 0 2-.9 2-2V5c0-1.1-.9-2-2-2zM9 17H7v-7h2v7zm4 0h-2V7h2v10zm4 0h-2v-4h2v4z\"/>\n",
              "    </g>\n",
              "</svg>\n",
              "  </button>\n",
              "\n",
              "<style>\n",
              "  .colab-df-quickchart {\n",
              "      --bg-color: #E8F0FE;\n",
              "      --fill-color: #1967D2;\n",
              "      --hover-bg-color: #E2EBFA;\n",
              "      --hover-fill-color: #174EA6;\n",
              "      --disabled-fill-color: #AAA;\n",
              "      --disabled-bg-color: #DDD;\n",
              "  }\n",
              "\n",
              "  [theme=dark] .colab-df-quickchart {\n",
              "      --bg-color: #3B4455;\n",
              "      --fill-color: #D2E3FC;\n",
              "      --hover-bg-color: #434B5C;\n",
              "      --hover-fill-color: #FFFFFF;\n",
              "      --disabled-bg-color: #3B4455;\n",
              "      --disabled-fill-color: #666;\n",
              "  }\n",
              "\n",
              "  .colab-df-quickchart {\n",
              "    background-color: var(--bg-color);\n",
              "    border: none;\n",
              "    border-radius: 50%;\n",
              "    cursor: pointer;\n",
              "    display: none;\n",
              "    fill: var(--fill-color);\n",
              "    height: 32px;\n",
              "    padding: 0;\n",
              "    width: 32px;\n",
              "  }\n",
              "\n",
              "  .colab-df-quickchart:hover {\n",
              "    background-color: var(--hover-bg-color);\n",
              "    box-shadow: 0 1px 2px rgba(60, 64, 67, 0.3), 0 1px 3px 1px rgba(60, 64, 67, 0.15);\n",
              "    fill: var(--button-hover-fill-color);\n",
              "  }\n",
              "\n",
              "  .colab-df-quickchart-complete:disabled,\n",
              "  .colab-df-quickchart-complete:disabled:hover {\n",
              "    background-color: var(--disabled-bg-color);\n",
              "    fill: var(--disabled-fill-color);\n",
              "    box-shadow: none;\n",
              "  }\n",
              "\n",
              "  .colab-df-spinner {\n",
              "    border: 2px solid var(--fill-color);\n",
              "    border-color: transparent;\n",
              "    border-bottom-color: var(--fill-color);\n",
              "    animation:\n",
              "      spin 1s steps(1) infinite;\n",
              "  }\n",
              "\n",
              "  @keyframes spin {\n",
              "    0% {\n",
              "      border-color: transparent;\n",
              "      border-bottom-color: var(--fill-color);\n",
              "      border-left-color: var(--fill-color);\n",
              "    }\n",
              "    20% {\n",
              "      border-color: transparent;\n",
              "      border-left-color: var(--fill-color);\n",
              "      border-top-color: var(--fill-color);\n",
              "    }\n",
              "    30% {\n",
              "      border-color: transparent;\n",
              "      border-left-color: var(--fill-color);\n",
              "      border-top-color: var(--fill-color);\n",
              "      border-right-color: var(--fill-color);\n",
              "    }\n",
              "    40% {\n",
              "      border-color: transparent;\n",
              "      border-right-color: var(--fill-color);\n",
              "      border-top-color: var(--fill-color);\n",
              "    }\n",
              "    60% {\n",
              "      border-color: transparent;\n",
              "      border-right-color: var(--fill-color);\n",
              "    }\n",
              "    80% {\n",
              "      border-color: transparent;\n",
              "      border-right-color: var(--fill-color);\n",
              "      border-bottom-color: var(--fill-color);\n",
              "    }\n",
              "    90% {\n",
              "      border-color: transparent;\n",
              "      border-bottom-color: var(--fill-color);\n",
              "    }\n",
              "  }\n",
              "</style>\n",
              "\n",
              "  <script>\n",
              "    async function quickchart(key) {\n",
              "      const quickchartButtonEl =\n",
              "        document.querySelector('#' + key + ' button');\n",
              "      quickchartButtonEl.disabled = true;  // To prevent multiple clicks.\n",
              "      quickchartButtonEl.classList.add('colab-df-spinner');\n",
              "      try {\n",
              "        const charts = await google.colab.kernel.invokeFunction(\n",
              "            'suggestCharts', [key], {});\n",
              "      } catch (error) {\n",
              "        console.error('Error during call to suggestCharts:', error);\n",
              "      }\n",
              "      quickchartButtonEl.classList.remove('colab-df-spinner');\n",
              "      quickchartButtonEl.classList.add('colab-df-quickchart-complete');\n",
              "    }\n",
              "    (() => {\n",
              "      let quickchartButtonEl =\n",
              "        document.querySelector('#df-4731257a-d87c-42e3-b747-a285e412f904 button');\n",
              "      quickchartButtonEl.style.display =\n",
              "        google.colab.kernel.accessAllowed ? 'block' : 'none';\n",
              "    })();\n",
              "  </script>\n",
              "</div>\n",
              "\n",
              "    </div>\n",
              "  </div>\n"
            ],
            "application/vnd.google.colaboratory.intrinsic+json": {
              "type": "dataframe",
              "summary": "{\n  \"name\": \"df\",\n  \"rows\": 8,\n  \"fields\": [\n    {\n      \"column\": \"x1\",\n      \"properties\": {\n        \"dtype\": \"number\",\n        \"std\": 10609.645810716347,\n        \"min\": -14.307671202610429,\n        \"max\": 30000.0,\n        \"num_unique_values\": 8,\n        \"samples\": [\n          -10.685289663837235,\n          -10.793923470085463,\n          30000.0\n        ],\n        \"semantic_type\": \"\",\n        \"description\": \"\"\n      }\n    },\n    {\n      \"column\": \"x2\",\n      \"properties\": {\n        \"dtype\": \"number\",\n        \"std\": 10608.166566899203,\n        \"min\": -34.67236085752316,\n        \"max\": 30000.0,\n        \"num_unique_values\": 8,\n        \"samples\": [\n          -6.195530357221285,\n          -5.034481127543417,\n          30000.0\n        ],\n        \"semantic_type\": \"\",\n        \"description\": \"\"\n      }\n    },\n    {\n      \"column\": \"x3\",\n      \"properties\": {\n        \"dtype\": \"number\",\n        \"std\": 10605.625304718244,\n        \"min\": -23.46485891175778,\n        \"max\": 30000.0,\n        \"num_unique_values\": 8,\n        \"samples\": [\n          1.7623249528257214,\n          2.172221635122719,\n          30000.0\n        ],\n        \"semantic_type\": \"\",\n        \"description\": \"\"\n      }\n    },\n    {\n      \"column\": \"x4\",\n      \"properties\": {\n        \"dtype\": \"number\",\n        \"std\": 10604.129919898372,\n        \"min\": -19.13717539198798,\n        \"max\": 30000.0,\n        \"num_unique_values\": 8,\n        \"samples\": [\n          6.015719039771301,\n          5.127510088516873,\n          30000.0\n        ],\n        \"semantic_type\": \"\",\n        \"description\": \"\"\n      }\n    },\n    {\n      \"column\": \"x5\",\n      \"properties\": {\n        \"dtype\": \"number\",\n        \"std\": 10607.52617474316,\n        \"min\": -38.414333996985846,\n        \"max\": 30000.0,\n        \"num_unique_values\": 8,\n        \"samples\": [\n          -2.1053306833920074,\n          -1.795362572329498,\n          30000.0\n        ],\n        \"semantic_type\": \"\",\n        \"description\": \"\"\n      }\n    },\n    {\n      \"column\": \"x6\",\n      \"properties\": {\n        \"dtype\": \"number\",\n        \"std\": 10608.421306818527,\n        \"min\": -36.423608734783585,\n        \"max\": 30000.0,\n        \"num_unique_values\": 8,\n        \"samples\": [\n          -7.068690242143857,\n          -6.824552133318306,\n          30000.0\n        ],\n        \"semantic_type\": \"\",\n        \"description\": \"\"\n      }\n    },\n    {\n      \"column\": \"x7\",\n      \"properties\": {\n        \"dtype\": \"number\",\n        \"std\": 10608.080667538972,\n        \"min\": -40.81223725109226,\n        \"max\": 30000.0,\n        \"num_unique_values\": 8,\n        \"samples\": [\n          -5.921435697801557,\n          -6.035498579301525,\n          30000.0\n        ],\n        \"semantic_type\": \"\",\n        \"description\": \"\"\n      }\n    },\n    {\n      \"column\": \"x8\",\n      \"properties\": {\n        \"dtype\": \"number\",\n        \"std\": 10607.942843937206,\n        \"min\": -34.30924805084936,\n        \"max\": 30000.0,\n        \"num_unique_values\": 8,\n        \"samples\": [\n          -6.063960240316132,\n          -6.156812626975713,\n          30000.0\n        ],\n        \"semantic_type\": \"\",\n        \"description\": \"\"\n      }\n    },\n    {\n      \"column\": \"x9\",\n      \"properties\": {\n        \"dtype\": \"number\",\n        \"std\": 10606.755260651325,\n        \"min\": -33.30523263902528,\n        \"max\": 30000.0,\n        \"num_unique_values\": 8,\n        \"samples\": [\n          -1.3048301634879569,\n          -1.1835335663370772,\n          30000.0\n        ],\n        \"semantic_type\": \"\",\n        \"description\": \"\"\n      }\n    },\n    {\n      \"column\": \"x10\",\n      \"properties\": {\n        \"dtype\": \"number\",\n        \"std\": 10606.400266716826,\n        \"min\": -30.755446496665876,\n        \"max\": 30000.0,\n        \"num_unique_values\": 8,\n        \"samples\": [\n          -1.8541273528810216,\n          -1.814846043982808,\n          30000.0\n        ],\n        \"semantic_type\": \"\",\n        \"description\": \"\"\n      }\n    },\n    {\n      \"column\": \"x11\",\n      \"properties\": {\n        \"dtype\": \"number\",\n        \"std\": 10607.32063648294,\n        \"min\": -33.91127471730755,\n        \"max\": 30000.0,\n        \"num_unique_values\": 8,\n        \"samples\": [\n          -2.3547286839096047,\n          -2.1379269726500816,\n          30000.0\n        ],\n        \"semantic_type\": \"\",\n        \"description\": \"\"\n      }\n    },\n    {\n      \"column\": \"x12\",\n      \"properties\": {\n        \"dtype\": \"number\",\n        \"std\": 10606.681086177,\n        \"min\": -32.05321536905026,\n        \"max\": 30000.0,\n        \"num_unique_values\": 8,\n        \"samples\": [\n          -0.4210676309764745,\n          0.187533214396078,\n          30000.0\n        ],\n        \"semantic_type\": \"\",\n        \"description\": \"\"\n      }\n    },\n    {\n      \"column\": \"x13\",\n      \"properties\": {\n        \"dtype\": \"number\",\n        \"std\": 10608.128058824906,\n        \"min\": -33.41298115328398,\n        \"max\": 30000.0,\n        \"num_unique_values\": 8,\n        \"samples\": [\n          -4.402515360844242,\n          -4.145847408261011,\n          30000.0\n        ],\n        \"semantic_type\": \"\",\n        \"description\": \"\"\n      }\n    },\n    {\n      \"column\": \"y\",\n      \"properties\": {\n        \"dtype\": \"number\",\n        \"std\": 10605.09330959691,\n        \"min\": 0.0,\n        \"max\": 30000.0,\n        \"num_unique_values\": 7,\n        \"samples\": [\n          30000.0,\n          4.5,\n          7.0\n        ],\n        \"semantic_type\": \"\",\n        \"description\": \"\"\n      }\n    }\n  ]\n}"
            }
          },
          "metadata": {},
          "execution_count": 16
        }
      ]
    },
    {
      "cell_type": "code",
      "source": [
        "# Split into train and test with 80:20 ratio\n",
        "X_train, X_test, y_train, y_test = train_test_split(\n",
        "    X, y, test_size=0.2, random_state=42\n",
        ")\n",
        "\n",
        "# Reshape y_train and y_test to (1, n_samples)\n",
        "y_train = y_train.reshape(1, -1)\n",
        "y_test = y_test.reshape(1, -1)\n",
        "\n",
        "# Print the shapes\n",
        "print(\"X_train shape:\", X_train.shape)\n",
        "print(\"X_test shape:\", X_test.shape)\n",
        "print(\"y_train shape:\", y_train.shape)\n",
        "print(\"y_test shape:\", y_test.shape)"
      ],
      "metadata": {
        "colab": {
          "base_uri": "https://localhost:8080/"
        },
        "id": "SYNkL6Uz1vW_",
        "outputId": "9cd76d03-4322-46f3-b56b-eb086a221596"
      },
      "id": "SYNkL6Uz1vW_",
      "execution_count": 23,
      "outputs": [
        {
          "output_type": "stream",
          "name": "stdout",
          "text": [
            "X_train shape: (24000, 13)\n",
            "X_test shape: (6000, 13)\n",
            "y_train shape: (1, 24000)\n",
            "y_test shape: (1, 6000)\n"
          ]
        }
      ]
    },
    {
      "cell_type": "markdown",
      "id": "124f0ccd",
      "metadata": {
        "id": "124f0ccd"
      },
      "source": [
        "## Part 2: Neural Network Implementation"
      ]
    },
    {
      "cell_type": "markdown",
      "id": "b1734848",
      "metadata": {
        "id": "b1734848"
      },
      "source": [
        "### Task 2.1:  Scikit-learn"
      ]
    },
    {
      "cell_type": "markdown",
      "id": "95541b60",
      "metadata": {
        "id": "95541b60"
      },
      "source": [
        "In this part you will use the [Scikit-learn](https://scikit-learn.org/stable/index.html) to implement the [Neural Network](https://scikit-learn.org/stable/modules/generated/sklearn.neural_network.MLPClassifier.html) and apply it to the MNIST audio dataset (provided in part 1). Split the training dataset into train and evaluation data with 90:10 ratio. Run evaluation on X_eval while training on X_train. Tune the hyperparameters to get the best possible classification accuracy. You need to report accuracy, recall, precision and F1 score on the test dataset and print the confusion matrix.\n",
        "\n",
        "Expected value for accuracy is 87 or above."
      ]
    },
    {
      "cell_type": "code",
      "execution_count": 24,
      "id": "aaa7f20d",
      "metadata": {
        "id": "aaa7f20d"
      },
      "outputs": [],
      "source": [
        "from sklearn.neural_network import MLPClassifier\n",
        "from sklearn.metrics import classification_report\n",
        "from sklearn.metrics import confusion_matrix"
      ]
    },
    {
      "cell_type": "code",
      "source": [
        "from sklearn.metrics import accuracy_score, precision_score, recall_score, f1_score, classification_report\n",
        "import seaborn as sns\n",
        "import matplotlib.pyplot as plt"
      ],
      "metadata": {
        "id": "oyyigz_V2LmM"
      },
      "id": "oyyigz_V2LmM",
      "execution_count": 25,
      "outputs": []
    },
    {
      "cell_type": "code",
      "execution_count": 27,
      "id": "3e8e09b7",
      "metadata": {
        "id": "3e8e09b7",
        "colab": {
          "base_uri": "https://localhost:8080/"
        },
        "outputId": "3a6c6b38-2457-4b20-aacf-68db1762907e"
      },
      "outputs": [
        {
          "output_type": "stream",
          "name": "stdout",
          "text": [
            "X_train_1 shape: (21600, 13)\n",
            "X_eval shape: (2400, 13)\n",
            "y_train_1 shape: (1, 21600)\n",
            "y_eval shape: (1, 2400)\n"
          ]
        }
      ],
      "source": [
        "# Further split training into 90% train, 10% eval\n",
        "X_train_1, X_eval, y_train_1, y_eval = train_test_split(X_train, y_train.T, test_size=0.1, random_state=42)\n",
        "\n",
        "# Reshape y_train_1 and y_eval to (1, n_samples) after the split\n",
        "y_train_1 = y_train_1.T\n",
        "y_eval = y_eval.T\n",
        "\n",
        "# Print the shapes\n",
        "print(\"X_train_1 shape:\", X_train_1.shape)\n",
        "print(\"X_eval shape:\", X_eval.shape)\n",
        "print(\"y_train_1 shape:\", y_train_1.shape)\n",
        "print(\"y_eval shape:\", y_eval.shape)"
      ]
    },
    {
      "cell_type": "code",
      "source": [
        "# Define and train MLPClassifier with tuned hyperparameters\n",
        "\n",
        "model = MLPClassifier(\n",
        "    hidden_layer_sizes=(128, 64),\n",
        "    activation='relu',\n",
        "    solver='adam',\n",
        "    alpha=0.0001,\n",
        "    learning_rate_init=0.001,\n",
        "    max_iter=300,\n",
        "    random_state=42\n",
        ")"
      ],
      "metadata": {
        "id": "7Ft6DiKz3pq0"
      },
      "id": "7Ft6DiKz3pq0",
      "execution_count": 28,
      "outputs": []
    },
    {
      "cell_type": "code",
      "source": [
        "# Train on the reshaped y_train_1 (flattened to 1D array)\n",
        "model.fit(X_train_1, y_train_1.flatten())  # Flatten y_train_1 for compatibility"
      ],
      "metadata": {
        "colab": {
          "base_uri": "https://localhost:8080/",
          "height": 80
        },
        "id": "rGvDCJR131nk",
        "outputId": "77f7a3fb-710d-413b-b4a8-fa94811b23e0"
      },
      "id": "rGvDCJR131nk",
      "execution_count": 29,
      "outputs": [
        {
          "output_type": "execute_result",
          "data": {
            "text/plain": [
              "MLPClassifier(hidden_layer_sizes=(128, 64), max_iter=300, random_state=42)"
            ],
            "text/html": [
              "<style>#sk-container-id-1 {\n",
              "  /* Definition of color scheme common for light and dark mode */\n",
              "  --sklearn-color-text: #000;\n",
              "  --sklearn-color-text-muted: #666;\n",
              "  --sklearn-color-line: gray;\n",
              "  /* Definition of color scheme for unfitted estimators */\n",
              "  --sklearn-color-unfitted-level-0: #fff5e6;\n",
              "  --sklearn-color-unfitted-level-1: #f6e4d2;\n",
              "  --sklearn-color-unfitted-level-2: #ffe0b3;\n",
              "  --sklearn-color-unfitted-level-3: chocolate;\n",
              "  /* Definition of color scheme for fitted estimators */\n",
              "  --sklearn-color-fitted-level-0: #f0f8ff;\n",
              "  --sklearn-color-fitted-level-1: #d4ebff;\n",
              "  --sklearn-color-fitted-level-2: #b3dbfd;\n",
              "  --sklearn-color-fitted-level-3: cornflowerblue;\n",
              "\n",
              "  /* Specific color for light theme */\n",
              "  --sklearn-color-text-on-default-background: var(--sg-text-color, var(--theme-code-foreground, var(--jp-content-font-color1, black)));\n",
              "  --sklearn-color-background: var(--sg-background-color, var(--theme-background, var(--jp-layout-color0, white)));\n",
              "  --sklearn-color-border-box: var(--sg-text-color, var(--theme-code-foreground, var(--jp-content-font-color1, black)));\n",
              "  --sklearn-color-icon: #696969;\n",
              "\n",
              "  @media (prefers-color-scheme: dark) {\n",
              "    /* Redefinition of color scheme for dark theme */\n",
              "    --sklearn-color-text-on-default-background: var(--sg-text-color, var(--theme-code-foreground, var(--jp-content-font-color1, white)));\n",
              "    --sklearn-color-background: var(--sg-background-color, var(--theme-background, var(--jp-layout-color0, #111)));\n",
              "    --sklearn-color-border-box: var(--sg-text-color, var(--theme-code-foreground, var(--jp-content-font-color1, white)));\n",
              "    --sklearn-color-icon: #878787;\n",
              "  }\n",
              "}\n",
              "\n",
              "#sk-container-id-1 {\n",
              "  color: var(--sklearn-color-text);\n",
              "}\n",
              "\n",
              "#sk-container-id-1 pre {\n",
              "  padding: 0;\n",
              "}\n",
              "\n",
              "#sk-container-id-1 input.sk-hidden--visually {\n",
              "  border: 0;\n",
              "  clip: rect(1px 1px 1px 1px);\n",
              "  clip: rect(1px, 1px, 1px, 1px);\n",
              "  height: 1px;\n",
              "  margin: -1px;\n",
              "  overflow: hidden;\n",
              "  padding: 0;\n",
              "  position: absolute;\n",
              "  width: 1px;\n",
              "}\n",
              "\n",
              "#sk-container-id-1 div.sk-dashed-wrapped {\n",
              "  border: 1px dashed var(--sklearn-color-line);\n",
              "  margin: 0 0.4em 0.5em 0.4em;\n",
              "  box-sizing: border-box;\n",
              "  padding-bottom: 0.4em;\n",
              "  background-color: var(--sklearn-color-background);\n",
              "}\n",
              "\n",
              "#sk-container-id-1 div.sk-container {\n",
              "  /* jupyter's `normalize.less` sets `[hidden] { display: none; }`\n",
              "     but bootstrap.min.css set `[hidden] { display: none !important; }`\n",
              "     so we also need the `!important` here to be able to override the\n",
              "     default hidden behavior on the sphinx rendered scikit-learn.org.\n",
              "     See: https://github.com/scikit-learn/scikit-learn/issues/21755 */\n",
              "  display: inline-block !important;\n",
              "  position: relative;\n",
              "}\n",
              "\n",
              "#sk-container-id-1 div.sk-text-repr-fallback {\n",
              "  display: none;\n",
              "}\n",
              "\n",
              "div.sk-parallel-item,\n",
              "div.sk-serial,\n",
              "div.sk-item {\n",
              "  /* draw centered vertical line to link estimators */\n",
              "  background-image: linear-gradient(var(--sklearn-color-text-on-default-background), var(--sklearn-color-text-on-default-background));\n",
              "  background-size: 2px 100%;\n",
              "  background-repeat: no-repeat;\n",
              "  background-position: center center;\n",
              "}\n",
              "\n",
              "/* Parallel-specific style estimator block */\n",
              "\n",
              "#sk-container-id-1 div.sk-parallel-item::after {\n",
              "  content: \"\";\n",
              "  width: 100%;\n",
              "  border-bottom: 2px solid var(--sklearn-color-text-on-default-background);\n",
              "  flex-grow: 1;\n",
              "}\n",
              "\n",
              "#sk-container-id-1 div.sk-parallel {\n",
              "  display: flex;\n",
              "  align-items: stretch;\n",
              "  justify-content: center;\n",
              "  background-color: var(--sklearn-color-background);\n",
              "  position: relative;\n",
              "}\n",
              "\n",
              "#sk-container-id-1 div.sk-parallel-item {\n",
              "  display: flex;\n",
              "  flex-direction: column;\n",
              "}\n",
              "\n",
              "#sk-container-id-1 div.sk-parallel-item:first-child::after {\n",
              "  align-self: flex-end;\n",
              "  width: 50%;\n",
              "}\n",
              "\n",
              "#sk-container-id-1 div.sk-parallel-item:last-child::after {\n",
              "  align-self: flex-start;\n",
              "  width: 50%;\n",
              "}\n",
              "\n",
              "#sk-container-id-1 div.sk-parallel-item:only-child::after {\n",
              "  width: 0;\n",
              "}\n",
              "\n",
              "/* Serial-specific style estimator block */\n",
              "\n",
              "#sk-container-id-1 div.sk-serial {\n",
              "  display: flex;\n",
              "  flex-direction: column;\n",
              "  align-items: center;\n",
              "  background-color: var(--sklearn-color-background);\n",
              "  padding-right: 1em;\n",
              "  padding-left: 1em;\n",
              "}\n",
              "\n",
              "\n",
              "/* Toggleable style: style used for estimator/Pipeline/ColumnTransformer box that is\n",
              "clickable and can be expanded/collapsed.\n",
              "- Pipeline and ColumnTransformer use this feature and define the default style\n",
              "- Estimators will overwrite some part of the style using the `sk-estimator` class\n",
              "*/\n",
              "\n",
              "/* Pipeline and ColumnTransformer style (default) */\n",
              "\n",
              "#sk-container-id-1 div.sk-toggleable {\n",
              "  /* Default theme specific background. It is overwritten whether we have a\n",
              "  specific estimator or a Pipeline/ColumnTransformer */\n",
              "  background-color: var(--sklearn-color-background);\n",
              "}\n",
              "\n",
              "/* Toggleable label */\n",
              "#sk-container-id-1 label.sk-toggleable__label {\n",
              "  cursor: pointer;\n",
              "  display: flex;\n",
              "  width: 100%;\n",
              "  margin-bottom: 0;\n",
              "  padding: 0.5em;\n",
              "  box-sizing: border-box;\n",
              "  text-align: center;\n",
              "  align-items: start;\n",
              "  justify-content: space-between;\n",
              "  gap: 0.5em;\n",
              "}\n",
              "\n",
              "#sk-container-id-1 label.sk-toggleable__label .caption {\n",
              "  font-size: 0.6rem;\n",
              "  font-weight: lighter;\n",
              "  color: var(--sklearn-color-text-muted);\n",
              "}\n",
              "\n",
              "#sk-container-id-1 label.sk-toggleable__label-arrow:before {\n",
              "  /* Arrow on the left of the label */\n",
              "  content: \"▸\";\n",
              "  float: left;\n",
              "  margin-right: 0.25em;\n",
              "  color: var(--sklearn-color-icon);\n",
              "}\n",
              "\n",
              "#sk-container-id-1 label.sk-toggleable__label-arrow:hover:before {\n",
              "  color: var(--sklearn-color-text);\n",
              "}\n",
              "\n",
              "/* Toggleable content - dropdown */\n",
              "\n",
              "#sk-container-id-1 div.sk-toggleable__content {\n",
              "  max-height: 0;\n",
              "  max-width: 0;\n",
              "  overflow: hidden;\n",
              "  text-align: left;\n",
              "  /* unfitted */\n",
              "  background-color: var(--sklearn-color-unfitted-level-0);\n",
              "}\n",
              "\n",
              "#sk-container-id-1 div.sk-toggleable__content.fitted {\n",
              "  /* fitted */\n",
              "  background-color: var(--sklearn-color-fitted-level-0);\n",
              "}\n",
              "\n",
              "#sk-container-id-1 div.sk-toggleable__content pre {\n",
              "  margin: 0.2em;\n",
              "  border-radius: 0.25em;\n",
              "  color: var(--sklearn-color-text);\n",
              "  /* unfitted */\n",
              "  background-color: var(--sklearn-color-unfitted-level-0);\n",
              "}\n",
              "\n",
              "#sk-container-id-1 div.sk-toggleable__content.fitted pre {\n",
              "  /* unfitted */\n",
              "  background-color: var(--sklearn-color-fitted-level-0);\n",
              "}\n",
              "\n",
              "#sk-container-id-1 input.sk-toggleable__control:checked~div.sk-toggleable__content {\n",
              "  /* Expand drop-down */\n",
              "  max-height: 200px;\n",
              "  max-width: 100%;\n",
              "  overflow: auto;\n",
              "}\n",
              "\n",
              "#sk-container-id-1 input.sk-toggleable__control:checked~label.sk-toggleable__label-arrow:before {\n",
              "  content: \"▾\";\n",
              "}\n",
              "\n",
              "/* Pipeline/ColumnTransformer-specific style */\n",
              "\n",
              "#sk-container-id-1 div.sk-label input.sk-toggleable__control:checked~label.sk-toggleable__label {\n",
              "  color: var(--sklearn-color-text);\n",
              "  background-color: var(--sklearn-color-unfitted-level-2);\n",
              "}\n",
              "\n",
              "#sk-container-id-1 div.sk-label.fitted input.sk-toggleable__control:checked~label.sk-toggleable__label {\n",
              "  background-color: var(--sklearn-color-fitted-level-2);\n",
              "}\n",
              "\n",
              "/* Estimator-specific style */\n",
              "\n",
              "/* Colorize estimator box */\n",
              "#sk-container-id-1 div.sk-estimator input.sk-toggleable__control:checked~label.sk-toggleable__label {\n",
              "  /* unfitted */\n",
              "  background-color: var(--sklearn-color-unfitted-level-2);\n",
              "}\n",
              "\n",
              "#sk-container-id-1 div.sk-estimator.fitted input.sk-toggleable__control:checked~label.sk-toggleable__label {\n",
              "  /* fitted */\n",
              "  background-color: var(--sklearn-color-fitted-level-2);\n",
              "}\n",
              "\n",
              "#sk-container-id-1 div.sk-label label.sk-toggleable__label,\n",
              "#sk-container-id-1 div.sk-label label {\n",
              "  /* The background is the default theme color */\n",
              "  color: var(--sklearn-color-text-on-default-background);\n",
              "}\n",
              "\n",
              "/* On hover, darken the color of the background */\n",
              "#sk-container-id-1 div.sk-label:hover label.sk-toggleable__label {\n",
              "  color: var(--sklearn-color-text);\n",
              "  background-color: var(--sklearn-color-unfitted-level-2);\n",
              "}\n",
              "\n",
              "/* Label box, darken color on hover, fitted */\n",
              "#sk-container-id-1 div.sk-label.fitted:hover label.sk-toggleable__label.fitted {\n",
              "  color: var(--sklearn-color-text);\n",
              "  background-color: var(--sklearn-color-fitted-level-2);\n",
              "}\n",
              "\n",
              "/* Estimator label */\n",
              "\n",
              "#sk-container-id-1 div.sk-label label {\n",
              "  font-family: monospace;\n",
              "  font-weight: bold;\n",
              "  display: inline-block;\n",
              "  line-height: 1.2em;\n",
              "}\n",
              "\n",
              "#sk-container-id-1 div.sk-label-container {\n",
              "  text-align: center;\n",
              "}\n",
              "\n",
              "/* Estimator-specific */\n",
              "#sk-container-id-1 div.sk-estimator {\n",
              "  font-family: monospace;\n",
              "  border: 1px dotted var(--sklearn-color-border-box);\n",
              "  border-radius: 0.25em;\n",
              "  box-sizing: border-box;\n",
              "  margin-bottom: 0.5em;\n",
              "  /* unfitted */\n",
              "  background-color: var(--sklearn-color-unfitted-level-0);\n",
              "}\n",
              "\n",
              "#sk-container-id-1 div.sk-estimator.fitted {\n",
              "  /* fitted */\n",
              "  background-color: var(--sklearn-color-fitted-level-0);\n",
              "}\n",
              "\n",
              "/* on hover */\n",
              "#sk-container-id-1 div.sk-estimator:hover {\n",
              "  /* unfitted */\n",
              "  background-color: var(--sklearn-color-unfitted-level-2);\n",
              "}\n",
              "\n",
              "#sk-container-id-1 div.sk-estimator.fitted:hover {\n",
              "  /* fitted */\n",
              "  background-color: var(--sklearn-color-fitted-level-2);\n",
              "}\n",
              "\n",
              "/* Specification for estimator info (e.g. \"i\" and \"?\") */\n",
              "\n",
              "/* Common style for \"i\" and \"?\" */\n",
              "\n",
              ".sk-estimator-doc-link,\n",
              "a:link.sk-estimator-doc-link,\n",
              "a:visited.sk-estimator-doc-link {\n",
              "  float: right;\n",
              "  font-size: smaller;\n",
              "  line-height: 1em;\n",
              "  font-family: monospace;\n",
              "  background-color: var(--sklearn-color-background);\n",
              "  border-radius: 1em;\n",
              "  height: 1em;\n",
              "  width: 1em;\n",
              "  text-decoration: none !important;\n",
              "  margin-left: 0.5em;\n",
              "  text-align: center;\n",
              "  /* unfitted */\n",
              "  border: var(--sklearn-color-unfitted-level-1) 1pt solid;\n",
              "  color: var(--sklearn-color-unfitted-level-1);\n",
              "}\n",
              "\n",
              ".sk-estimator-doc-link.fitted,\n",
              "a:link.sk-estimator-doc-link.fitted,\n",
              "a:visited.sk-estimator-doc-link.fitted {\n",
              "  /* fitted */\n",
              "  border: var(--sklearn-color-fitted-level-1) 1pt solid;\n",
              "  color: var(--sklearn-color-fitted-level-1);\n",
              "}\n",
              "\n",
              "/* On hover */\n",
              "div.sk-estimator:hover .sk-estimator-doc-link:hover,\n",
              ".sk-estimator-doc-link:hover,\n",
              "div.sk-label-container:hover .sk-estimator-doc-link:hover,\n",
              ".sk-estimator-doc-link:hover {\n",
              "  /* unfitted */\n",
              "  background-color: var(--sklearn-color-unfitted-level-3);\n",
              "  color: var(--sklearn-color-background);\n",
              "  text-decoration: none;\n",
              "}\n",
              "\n",
              "div.sk-estimator.fitted:hover .sk-estimator-doc-link.fitted:hover,\n",
              ".sk-estimator-doc-link.fitted:hover,\n",
              "div.sk-label-container:hover .sk-estimator-doc-link.fitted:hover,\n",
              ".sk-estimator-doc-link.fitted:hover {\n",
              "  /* fitted */\n",
              "  background-color: var(--sklearn-color-fitted-level-3);\n",
              "  color: var(--sklearn-color-background);\n",
              "  text-decoration: none;\n",
              "}\n",
              "\n",
              "/* Span, style for the box shown on hovering the info icon */\n",
              ".sk-estimator-doc-link span {\n",
              "  display: none;\n",
              "  z-index: 9999;\n",
              "  position: relative;\n",
              "  font-weight: normal;\n",
              "  right: .2ex;\n",
              "  padding: .5ex;\n",
              "  margin: .5ex;\n",
              "  width: min-content;\n",
              "  min-width: 20ex;\n",
              "  max-width: 50ex;\n",
              "  color: var(--sklearn-color-text);\n",
              "  box-shadow: 2pt 2pt 4pt #999;\n",
              "  /* unfitted */\n",
              "  background: var(--sklearn-color-unfitted-level-0);\n",
              "  border: .5pt solid var(--sklearn-color-unfitted-level-3);\n",
              "}\n",
              "\n",
              ".sk-estimator-doc-link.fitted span {\n",
              "  /* fitted */\n",
              "  background: var(--sklearn-color-fitted-level-0);\n",
              "  border: var(--sklearn-color-fitted-level-3);\n",
              "}\n",
              "\n",
              ".sk-estimator-doc-link:hover span {\n",
              "  display: block;\n",
              "}\n",
              "\n",
              "/* \"?\"-specific style due to the `<a>` HTML tag */\n",
              "\n",
              "#sk-container-id-1 a.estimator_doc_link {\n",
              "  float: right;\n",
              "  font-size: 1rem;\n",
              "  line-height: 1em;\n",
              "  font-family: monospace;\n",
              "  background-color: var(--sklearn-color-background);\n",
              "  border-radius: 1rem;\n",
              "  height: 1rem;\n",
              "  width: 1rem;\n",
              "  text-decoration: none;\n",
              "  /* unfitted */\n",
              "  color: var(--sklearn-color-unfitted-level-1);\n",
              "  border: var(--sklearn-color-unfitted-level-1) 1pt solid;\n",
              "}\n",
              "\n",
              "#sk-container-id-1 a.estimator_doc_link.fitted {\n",
              "  /* fitted */\n",
              "  border: var(--sklearn-color-fitted-level-1) 1pt solid;\n",
              "  color: var(--sklearn-color-fitted-level-1);\n",
              "}\n",
              "\n",
              "/* On hover */\n",
              "#sk-container-id-1 a.estimator_doc_link:hover {\n",
              "  /* unfitted */\n",
              "  background-color: var(--sklearn-color-unfitted-level-3);\n",
              "  color: var(--sklearn-color-background);\n",
              "  text-decoration: none;\n",
              "}\n",
              "\n",
              "#sk-container-id-1 a.estimator_doc_link.fitted:hover {\n",
              "  /* fitted */\n",
              "  background-color: var(--sklearn-color-fitted-level-3);\n",
              "}\n",
              "</style><div id=\"sk-container-id-1\" class=\"sk-top-container\"><div class=\"sk-text-repr-fallback\"><pre>MLPClassifier(hidden_layer_sizes=(128, 64), max_iter=300, random_state=42)</pre><b>In a Jupyter environment, please rerun this cell to show the HTML representation or trust the notebook. <br />On GitHub, the HTML representation is unable to render, please try loading this page with nbviewer.org.</b></div><div class=\"sk-container\" hidden><div class=\"sk-item\"><div class=\"sk-estimator fitted sk-toggleable\"><input class=\"sk-toggleable__control sk-hidden--visually\" id=\"sk-estimator-id-1\" type=\"checkbox\" checked><label for=\"sk-estimator-id-1\" class=\"sk-toggleable__label fitted sk-toggleable__label-arrow\"><div><div>MLPClassifier</div></div><div><a class=\"sk-estimator-doc-link fitted\" rel=\"noreferrer\" target=\"_blank\" href=\"https://scikit-learn.org/1.6/modules/generated/sklearn.neural_network.MLPClassifier.html\">?<span>Documentation for MLPClassifier</span></a><span class=\"sk-estimator-doc-link fitted\">i<span>Fitted</span></span></div></label><div class=\"sk-toggleable__content fitted\"><pre>MLPClassifier(hidden_layer_sizes=(128, 64), max_iter=300, random_state=42)</pre></div> </div></div></div></div>"
            ]
          },
          "metadata": {},
          "execution_count": 29
        }
      ]
    },
    {
      "cell_type": "code",
      "source": [
        "#  Evaluate on eval set\n",
        "eval_preds = model.predict(X_eval)\n",
        "eval_acc = accuracy_score(y_eval.flatten(), eval_preds)  # Flatten y_eval for compatibility\n",
        "print(f\"\\nEvaluation Accuracy: {eval_acc:.4f}\")\n"
      ],
      "metadata": {
        "colab": {
          "base_uri": "https://localhost:8080/"
        },
        "id": "wIuhljD94ITq",
        "outputId": "39cbc345-a4ee-4d27-975d-e268725512d7"
      },
      "id": "wIuhljD94ITq",
      "execution_count": 30,
      "outputs": [
        {
          "output_type": "stream",
          "name": "stdout",
          "text": [
            "\n",
            "Evaluation Accuracy: 0.9429\n"
          ]
        }
      ]
    },
    {
      "cell_type": "code",
      "source": [
        "#  Final evaluation on test set\n",
        "test_preds = model.predict(X_test)\n",
        "\n",
        "acc = accuracy_score(y_test.flatten(), test_preds)  # Flatten y_test for compatibility\n",
        "precision = precision_score(y_test.flatten(), test_preds, average='macro')\n",
        "recall = recall_score(y_test.flatten(), test_preds, average='macro')\n",
        "f1 = f1_score(y_test.flatten(), test_preds, average='macro')\n",
        "\n",
        "print(\"\\n📊 Test Set Evaluation Metrics:\")\n",
        "print(f\"Accuracy:  {acc:.4f}\")\n",
        "print(f\"Precision: {precision:.4f}\")\n",
        "print(f\"Recall:    {recall:.4f}\")\n",
        "print(f\"F1 Score:  {f1:.4f}\")"
      ],
      "metadata": {
        "colab": {
          "base_uri": "https://localhost:8080/"
        },
        "id": "hgn1r4FI4OEa",
        "outputId": "8b80e95a-0db8-446a-a4e9-c019d92abc15"
      },
      "id": "hgn1r4FI4OEa",
      "execution_count": 31,
      "outputs": [
        {
          "output_type": "stream",
          "name": "stdout",
          "text": [
            "\n",
            "📊 Test Set Evaluation Metrics:\n",
            "Accuracy:  0.9442\n",
            "Precision: 0.9448\n",
            "Recall:    0.9443\n",
            "F1 Score:  0.9442\n"
          ]
        }
      ]
    },
    {
      "cell_type": "code",
      "source": [
        "# Confusion matrix\n",
        "conf_mat = confusion_matrix(y_test.flatten(), test_preds)\n",
        "\n",
        "plt.figure(figsize=(10, 8))\n",
        "sns.heatmap(conf_mat, annot=True, fmt='d', cmap='Blues', xticklabels=range(10), yticklabels=range(10))\n",
        "plt.title(\"Confusion Matrix\")\n",
        "plt.xlabel(\"Predicted\")\n",
        "plt.ylabel(\"True Label\")\n",
        "plt.show()"
      ],
      "metadata": {
        "colab": {
          "base_uri": "https://localhost:8080/",
          "height": 718
        },
        "id": "Qb91Ac-T4UyF",
        "outputId": "64c914a7-1f7d-4dbd-d237-b96345d4ad74"
      },
      "id": "Qb91Ac-T4UyF",
      "execution_count": 32,
      "outputs": [
        {
          "output_type": "display_data",
          "data": {
            "text/plain": [
              "<Figure size 1000x800 with 2 Axes>"
            ],
            "image/png": "[encoded data removed]"
          },
          "metadata": {}
        }
      ]
    },
    {
      "cell_type": "markdown",
      "id": "136613c2",
      "metadata": {
        "id": "136613c2"
      },
      "source": [
        "### Task 2.2: Tensorflow Keras"
      ]
    },
    {
      "cell_type": "markdown",
      "id": "4aae69f7",
      "metadata": {
        "id": "4aae69f7"
      },
      "source": [
        "In this part you will use the [Keras](https://www.tensorflow.org/api_docs/python/tf/keras/Sequential) to implement the [Neural Network](https://machinelearningmastery.com/tutorial-first-neural-network-python-keras/) and apply it to the MNIST audio dataset (provided in part 1). Split the training dataset into train and evaluation data with 90:10 ratio. Run evaluation on X_eval while training on X_train. Tune the hyperparameters to get the best possible classification accuracy. You need to report accuracy, recall, precision and F1 score on the test dataset and print the confusion matrix.\n",
        "\n",
        "Expected value for accuracy is 87 or above."
      ]
    },
    {
      "cell_type": "code",
      "execution_count": 50,
      "id": "278f1210",
      "metadata": {
        "id": "278f1210"
      },
      "outputs": [],
      "source": [
        "from tensorflow.keras.models import Sequential\n",
        "from tensorflow.keras.layers import Dense,Dropout\n",
        "from tensorflow.keras import optimizers"
      ]
    },
    {
      "cell_type": "code",
      "source": [
        "import tensorflow as tf"
      ],
      "metadata": {
        "id": "tgdYnSHG4pkr"
      },
      "id": "tgdYnSHG4pkr",
      "execution_count": 51,
      "outputs": []
    },
    {
      "cell_type": "code",
      "source": [
        "from tensorflow.keras.utils import to_categorical"
      ],
      "metadata": {
        "id": "C198evia4vAI"
      },
      "id": "C198evia4vAI",
      "execution_count": 52,
      "outputs": []
    },
    {
      "cell_type": "code",
      "execution_count": 53,
      "id": "6467b611",
      "metadata": {
        "id": "6467b611"
      },
      "outputs": [],
      "source": [
        "# Set the parameters accordingly\n",
        "LEARNING_RATE = 0.001   # A commonly used default for Adam optimizer\n",
        "BATCH_SIZE = 32         # Small batch size works well for small to medium datasets\n",
        "EPOCHS = 50             # Enough epochs to converge; you can adjust based on training loss"
      ]
    },
    {
      "cell_type": "code",
      "execution_count": 54,
      "id": "bce54023",
      "metadata": {
        "id": "bce54023",
        "colab": {
          "base_uri": "https://localhost:8080/"
        },
        "outputId": "71aea526-17fc-44fb-810a-9752d71a217d"
      },
      "outputs": [
        {
          "output_type": "stream",
          "name": "stdout",
          "text": [
            "X_train_1 shape: (21600, 13)\n",
            "X_eval shape: (2400, 13)\n",
            "y_train_1 shape: (1, 21600)\n",
            "y_eval shape: (1, 2400)\n"
          ]
        }
      ],
      "source": [
        "# Further split training into 90% train, 10% eval\n",
        "X_train_1, X_eval, y_train_1, y_eval = train_test_split(X_train, y_train.T, test_size=0.1, random_state=42)\n",
        "\n",
        "# Reshape y_train_1 and y_eval to (1, n_samples) after the split\n",
        "y_train_1 = y_train_1.T\n",
        "y_eval = y_eval.T\n",
        "\n",
        "# Print the shapes\n",
        "print(\"X_train_1 shape:\", X_train_1.shape)\n",
        "print(\"X_eval shape:\", X_eval.shape)\n",
        "print(\"y_train_1 shape:\", y_train_1.shape)\n",
        "print(\"y_eval shape:\", y_eval.shape)"
      ]
    },
    {
      "cell_type": "code",
      "source": [
        "#Build the model\n",
        "from tensorflow.keras.layers import Input\n",
        "\n",
        "model = Sequential([\n",
        "    Input(shape=(13,)),  # Use Input layer explicitly\n",
        "    Dense(128, activation='relu'),\n",
        "    Dropout(0.3),\n",
        "    Dense(64, activation='relu'),\n",
        "    Dropout(0.2),\n",
        "    Dense(10, activation='softmax')\n",
        "])"
      ],
      "metadata": {
        "id": "OPwb0s3w5ymd"
      },
      "id": "OPwb0s3w5ymd",
      "execution_count": 55,
      "outputs": []
    },
    {
      "cell_type": "code",
      "source": [
        "optimizer = tf.keras.optimizers.Adam(learning_rate=LEARNING_RATE)\n",
        "model.compile(optimizer=optimizer,\n",
        "              loss='categorical_crossentropy',\n",
        "              metrics=['accuracy'])\n"
      ],
      "metadata": {
        "id": "BEFiTLzJ6aOL"
      },
      "id": "BEFiTLzJ6aOL",
      "execution_count": 56,
      "outputs": []
    },
    {
      "cell_type": "code",
      "source": [
        "num_classes = len(np.unique(y_train_1))\n",
        "print(num_classes)"
      ],
      "metadata": {
        "colab": {
          "base_uri": "https://localhost:8080/"
        },
        "id": "a98DoV8C7gRV",
        "outputId": "b046028b-6687-41e2-819a-78235d45ccb9"
      },
      "id": "a98DoV8C7gRV",
      "execution_count": 57,
      "outputs": [
        {
          "output_type": "stream",
          "name": "stdout",
          "text": [
            "10\n"
          ]
        }
      ]
    },
    {
      "cell_type": "code",
      "source": [
        "# Flatten the labels\n",
        "y_train_1 = y_train_1.flatten()\n",
        "y_eval = y_eval.flatten()\n",
        "\n",
        "# One-hot encode the labels\n",
        "y_train_1_cat = to_categorical(y_train_1, num_classes=10)\n",
        "y_eval_cat = to_categorical(y_eval, num_classes=10)\n",
        "\n",
        "# Train the model\n",
        "history = model.fit(\n",
        "    X_train_1, y_train_1_cat,  # Use one-hot encoded labels\n",
        "    validation_data=(X_eval, y_eval_cat),  # Use one-hot encoded labels\n",
        "    epochs=EPOCHS,\n",
        "    batch_size=BATCH_SIZE,\n",
        "    verbose=1\n",
        ")"
      ],
      "metadata": {
        "colab": {
          "base_uri": "https://localhost:8080/"
        },
        "id": "oCl5XUih6dz4",
        "outputId": "d3222e7a-e511-45eb-bbf5-893b375e1405"
      },
      "id": "oCl5XUih6dz4",
      "execution_count": 58,
      "outputs": [
        {
          "output_type": "stream",
          "name": "stdout",
          "text": [
            "Epoch 1/50\n",
            "\u001b[1m675/675\u001b[0m \u001b[32m━━━━━━━━━━━━━━━━━━━━\u001b[0m\u001b[37m\u001b[0m \u001b[1m5s\u001b[0m 3ms/step - accuracy: 0.5393 - loss: 1.5503 - val_accuracy: 0.8354 - val_loss: 0.4258\n",
            "Epoch 2/50\n",
            "\u001b[1m675/675\u001b[0m \u001b[32m━━━━━━━━━━━━━━━━━━━━\u001b[0m\u001b[37m\u001b[0m \u001b[1m2s\u001b[0m 3ms/step - accuracy: 0.7914 - loss: 0.5578 - val_accuracy: 0.8600 - val_loss: 0.3634\n",
            "Epoch 3/50\n",
            "\u001b[1m675/675\u001b[0m \u001b[32m━━━━━━━━━━━━━━━━━━━━\u001b[0m\u001b[37m\u001b[0m \u001b[1m2s\u001b[0m 3ms/step - accuracy: 0.8300 - loss: 0.4712 - val_accuracy: 0.8767 - val_loss: 0.3218\n",
            "Epoch 4/50\n",
            "\u001b[1m675/675\u001b[0m \u001b[32m━━━━━━━━━━━━━━━━━━━━\u001b[0m\u001b[37m\u001b[0m \u001b[1m2s\u001b[0m 3ms/step - accuracy: 0.8449 - loss: 0.4160 - val_accuracy: 0.8888 - val_loss: 0.3003\n",
            "Epoch 5/50\n",
            "\u001b[1m675/675\u001b[0m \u001b[32m━━━━━━━━━━━━━━━━━━━━\u001b[0m\u001b[37m\u001b[0m \u001b[1m2s\u001b[0m 3ms/step - accuracy: 0.8587 - loss: 0.3825 - val_accuracy: 0.8908 - val_loss: 0.2838\n",
            "Epoch 6/50\n",
            "\u001b[1m675/675\u001b[0m \u001b[32m━━━━━━━━━━━━━━━━━━━━\u001b[0m\u001b[37m\u001b[0m \u001b[1m3s\u001b[0m 4ms/step - accuracy: 0.8632 - loss: 0.3734 - val_accuracy: 0.9038 - val_loss: 0.2649\n",
            "Epoch 7/50\n",
            "\u001b[1m675/675\u001b[0m \u001b[32m━━━━━━━━━━━━━━━━━━━━\u001b[0m\u001b[37m\u001b[0m \u001b[1m2s\u001b[0m 3ms/step - accuracy: 0.8663 - loss: 0.3585 - val_accuracy: 0.9033 - val_loss: 0.2591\n",
            "Epoch 8/50\n",
            "\u001b[1m675/675\u001b[0m \u001b[32m━━━━━━━━━━━━━━━━━━━━\u001b[0m\u001b[37m\u001b[0m \u001b[1m2s\u001b[0m 3ms/step - accuracy: 0.8754 - loss: 0.3320 - val_accuracy: 0.9058 - val_loss: 0.2645\n",
            "Epoch 9/50\n",
            "\u001b[1m675/675\u001b[0m \u001b[32m━━━━━━━━━━━━━━━━━━━━\u001b[0m\u001b[37m\u001b[0m \u001b[1m3s\u001b[0m 3ms/step - accuracy: 0.8794 - loss: 0.3283 - val_accuracy: 0.9100 - val_loss: 0.2492\n",
            "Epoch 10/50\n",
            "\u001b[1m675/675\u001b[0m \u001b[32m━━━━━━━━━━━━━━━━━━━━\u001b[0m\u001b[37m\u001b[0m \u001b[1m2s\u001b[0m 3ms/step - accuracy: 0.8794 - loss: 0.3227 - val_accuracy: 0.9038 - val_loss: 0.2493\n",
            "Epoch 11/50\n",
            "\u001b[1m675/675\u001b[0m \u001b[32m━━━━━━━━━━━━━━━━━━━━\u001b[0m\u001b[37m\u001b[0m \u001b[1m3s\u001b[0m 4ms/step - accuracy: 0.8847 - loss: 0.3160 - val_accuracy: 0.9137 - val_loss: 0.2365\n",
            "Epoch 12/50\n",
            "\u001b[1m675/675\u001b[0m \u001b[32m━━━━━━━━━━━━━━━━━━━━\u001b[0m\u001b[37m\u001b[0m \u001b[1m4s\u001b[0m 2ms/step - accuracy: 0.8824 - loss: 0.3085 - val_accuracy: 0.9062 - val_loss: 0.2439\n",
            "Epoch 13/50\n",
            "\u001b[1m675/675\u001b[0m \u001b[32m━━━━━━━━━━━━━━━━━━━━\u001b[0m\u001b[37m\u001b[0m \u001b[1m2s\u001b[0m 2ms/step - accuracy: 0.8918 - loss: 0.2927 - val_accuracy: 0.9137 - val_loss: 0.2340\n",
            "Epoch 14/50\n",
            "\u001b[1m675/675\u001b[0m \u001b[32m━━━━━━━━━━━━━━━━━━━━\u001b[0m\u001b[37m\u001b[0m \u001b[1m2s\u001b[0m 3ms/step - accuracy: 0.8942 - loss: 0.2891 - val_accuracy: 0.9158 - val_loss: 0.2221\n",
            "Epoch 15/50\n",
            "\u001b[1m675/675\u001b[0m \u001b[32m━━━━━━━━━━━━━━━━━━━━\u001b[0m\u001b[37m\u001b[0m \u001b[1m2s\u001b[0m 3ms/step - accuracy: 0.8939 - loss: 0.2838 - val_accuracy: 0.9196 - val_loss: 0.2165\n",
            "Epoch 16/50\n",
            "\u001b[1m675/675\u001b[0m \u001b[32m━━━━━━━━━━━━━━━━━━━━\u001b[0m\u001b[37m\u001b[0m \u001b[1m2s\u001b[0m 3ms/step - accuracy: 0.8949 - loss: 0.2720 - val_accuracy: 0.9204 - val_loss: 0.2187\n",
            "Epoch 17/50\n",
            "\u001b[1m675/675\u001b[0m \u001b[32m━━━━━━━━━━━━━━━━━━━━\u001b[0m\u001b[37m\u001b[0m \u001b[1m2s\u001b[0m 3ms/step - accuracy: 0.8927 - loss: 0.2926 - val_accuracy: 0.9167 - val_loss: 0.2271\n",
            "Epoch 18/50\n",
            "\u001b[1m675/675\u001b[0m \u001b[32m━━━━━━━━━━━━━━━━━━━━\u001b[0m\u001b[37m\u001b[0m \u001b[1m2s\u001b[0m 2ms/step - accuracy: 0.8981 - loss: 0.2753 - val_accuracy: 0.9192 - val_loss: 0.2225\n",
            "Epoch 19/50\n",
            "\u001b[1m675/675\u001b[0m \u001b[32m━━━━━━━━━━━━━━━━━━━━\u001b[0m\u001b[37m\u001b[0m \u001b[1m3s\u001b[0m 3ms/step - accuracy: 0.8948 - loss: 0.2786 - val_accuracy: 0.9275 - val_loss: 0.2187\n",
            "Epoch 20/50\n",
            "\u001b[1m675/675\u001b[0m \u001b[32m━━━━━━━━━━━━━━━━━━━━\u001b[0m\u001b[37m\u001b[0m \u001b[1m3s\u001b[0m 3ms/step - accuracy: 0.8929 - loss: 0.2791 - val_accuracy: 0.9233 - val_loss: 0.2155\n",
            "Epoch 21/50\n",
            "\u001b[1m675/675\u001b[0m \u001b[32m━━━━━━━━━━━━━━━━━━━━\u001b[0m\u001b[37m\u001b[0m \u001b[1m2s\u001b[0m 3ms/step - accuracy: 0.9019 - loss: 0.2736 - val_accuracy: 0.9246 - val_loss: 0.2088\n",
            "Epoch 22/50\n",
            "\u001b[1m675/675\u001b[0m \u001b[32m━━━━━━━━━━━━━━━━━━━━\u001b[0m\u001b[37m\u001b[0m \u001b[1m3s\u001b[0m 4ms/step - accuracy: 0.9021 - loss: 0.2647 - val_accuracy: 0.9225 - val_loss: 0.2114\n",
            "Epoch 23/50\n",
            "\u001b[1m675/675\u001b[0m \u001b[32m━━━━━━━━━━━━━━━━━━━━\u001b[0m\u001b[37m\u001b[0m \u001b[1m4s\u001b[0m 2ms/step - accuracy: 0.9020 - loss: 0.2602 - val_accuracy: 0.9175 - val_loss: 0.2229\n",
            "Epoch 24/50\n",
            "\u001b[1m675/675\u001b[0m \u001b[32m━━━━━━━━━━━━━━━━━━━━\u001b[0m\u001b[37m\u001b[0m \u001b[1m2s\u001b[0m 3ms/step - accuracy: 0.9024 - loss: 0.2593 - val_accuracy: 0.9179 - val_loss: 0.2180\n",
            "Epoch 25/50\n",
            "\u001b[1m675/675\u001b[0m \u001b[32m━━━━━━━━━━━━━━━━━━━━\u001b[0m\u001b[37m\u001b[0m \u001b[1m2s\u001b[0m 3ms/step - accuracy: 0.9006 - loss: 0.2667 - val_accuracy: 0.9275 - val_loss: 0.2092\n",
            "Epoch 26/50\n",
            "\u001b[1m675/675\u001b[0m \u001b[32m━━━━━━━━━━━━━━━━━━━━\u001b[0m\u001b[37m\u001b[0m \u001b[1m2s\u001b[0m 3ms/step - accuracy: 0.9051 - loss: 0.2562 - val_accuracy: 0.9287 - val_loss: 0.2063\n",
            "Epoch 27/50\n",
            "\u001b[1m675/675\u001b[0m \u001b[32m━━━━━━━━━━━━━━━━━━━━\u001b[0m\u001b[37m\u001b[0m \u001b[1m4s\u001b[0m 4ms/step - accuracy: 0.9066 - loss: 0.2517 - val_accuracy: 0.9283 - val_loss: 0.2043\n",
            "Epoch 28/50\n",
            "\u001b[1m675/675\u001b[0m \u001b[32m━━━━━━━━━━━━━━━━━━━━\u001b[0m\u001b[37m\u001b[0m \u001b[1m4s\u001b[0m 3ms/step - accuracy: 0.9047 - loss: 0.2616 - val_accuracy: 0.9283 - val_loss: 0.1984\n",
            "Epoch 29/50\n",
            "\u001b[1m675/675\u001b[0m \u001b[32m━━━━━━━━━━━━━━━━━━━━\u001b[0m\u001b[37m\u001b[0m \u001b[1m3s\u001b[0m 3ms/step - accuracy: 0.9025 - loss: 0.2550 - val_accuracy: 0.9246 - val_loss: 0.2102\n",
            "Epoch 30/50\n",
            "\u001b[1m675/675\u001b[0m \u001b[32m━━━━━━━━━━━━━━━━━━━━\u001b[0m\u001b[37m\u001b[0m \u001b[1m2s\u001b[0m 3ms/step - accuracy: 0.9058 - loss: 0.2533 - val_accuracy: 0.9217 - val_loss: 0.2059\n",
            "Epoch 31/50\n",
            "\u001b[1m675/675\u001b[0m \u001b[32m━━━━━━━━━━━━━━━━━━━━\u001b[0m\u001b[37m\u001b[0m \u001b[1m3s\u001b[0m 3ms/step - accuracy: 0.9027 - loss: 0.2585 - val_accuracy: 0.9271 - val_loss: 0.2062\n",
            "Epoch 32/50\n",
            "\u001b[1m675/675\u001b[0m \u001b[32m━━━━━━━━━━━━━━━━━━━━\u001b[0m\u001b[37m\u001b[0m \u001b[1m2s\u001b[0m 3ms/step - accuracy: 0.9043 - loss: 0.2610 - val_accuracy: 0.9279 - val_loss: 0.1924\n",
            "Epoch 33/50\n",
            "\u001b[1m675/675\u001b[0m \u001b[32m━━━━━━━━━━━━━━━━━━━━\u001b[0m\u001b[37m\u001b[0m \u001b[1m2s\u001b[0m 3ms/step - accuracy: 0.9062 - loss: 0.2496 - val_accuracy: 0.9250 - val_loss: 0.1988\n",
            "Epoch 34/50\n",
            "\u001b[1m675/675\u001b[0m \u001b[32m━━━━━━━━━━━━━━━━━━━━\u001b[0m\u001b[37m\u001b[0m \u001b[1m3s\u001b[0m 3ms/step - accuracy: 0.9093 - loss: 0.2516 - val_accuracy: 0.9275 - val_loss: 0.2031\n",
            "Epoch 35/50\n",
            "\u001b[1m675/675\u001b[0m \u001b[32m━━━━━━━━━━━━━━━━━━━━\u001b[0m\u001b[37m\u001b[0m \u001b[1m2s\u001b[0m 3ms/step - accuracy: 0.9090 - loss: 0.2463 - val_accuracy: 0.9312 - val_loss: 0.1982\n",
            "Epoch 36/50\n",
            "\u001b[1m675/675\u001b[0m \u001b[32m━━━━━━━━━━━━━━━━━━━━\u001b[0m\u001b[37m\u001b[0m \u001b[1m3s\u001b[0m 4ms/step - accuracy: 0.9070 - loss: 0.2418 - val_accuracy: 0.9262 - val_loss: 0.2034\n",
            "Epoch 37/50\n",
            "\u001b[1m675/675\u001b[0m \u001b[32m━━━━━━━━━━━━━━━━━━━━\u001b[0m\u001b[37m\u001b[0m \u001b[1m2s\u001b[0m 4ms/step - accuracy: 0.9093 - loss: 0.2478 - val_accuracy: 0.9258 - val_loss: 0.2067\n",
            "Epoch 38/50\n",
            "\u001b[1m675/675\u001b[0m \u001b[32m━━━━━━━━━━━━━━━━━━━━\u001b[0m\u001b[37m\u001b[0m \u001b[1m2s\u001b[0m 2ms/step - accuracy: 0.9059 - loss: 0.2517 - val_accuracy: 0.9254 - val_loss: 0.2048\n",
            "Epoch 39/50\n",
            "\u001b[1m675/675\u001b[0m \u001b[32m━━━━━━━━━━━━━━━━━━━━\u001b[0m\u001b[37m\u001b[0m \u001b[1m2s\u001b[0m 3ms/step - accuracy: 0.9116 - loss: 0.2473 - val_accuracy: 0.9283 - val_loss: 0.1974\n",
            "Epoch 40/50\n",
            "\u001b[1m675/675\u001b[0m \u001b[32m━━━━━━━━━━━━━━━━━━━━\u001b[0m\u001b[37m\u001b[0m \u001b[1m2s\u001b[0m 3ms/step - accuracy: 0.9099 - loss: 0.2476 - val_accuracy: 0.9312 - val_loss: 0.1969\n",
            "Epoch 41/50\n",
            "\u001b[1m675/675\u001b[0m \u001b[32m━━━━━━━━━━━━━━━━━━━━\u001b[0m\u001b[37m\u001b[0m \u001b[1m2s\u001b[0m 2ms/step - accuracy: 0.9087 - loss: 0.2437 - val_accuracy: 0.9267 - val_loss: 0.1979\n",
            "Epoch 42/50\n",
            "\u001b[1m675/675\u001b[0m \u001b[32m━━━━━━━━━━━━━━━━━━━━\u001b[0m\u001b[37m\u001b[0m \u001b[1m4s\u001b[0m 4ms/step - accuracy: 0.9090 - loss: 0.2447 - val_accuracy: 0.9258 - val_loss: 0.2029\n",
            "Epoch 43/50\n",
            "\u001b[1m675/675\u001b[0m \u001b[32m━━━━━━━━━━━━━━━━━━━━\u001b[0m\u001b[37m\u001b[0m \u001b[1m4s\u001b[0m 3ms/step - accuracy: 0.9105 - loss: 0.2415 - val_accuracy: 0.9329 - val_loss: 0.1895\n",
            "Epoch 44/50\n",
            "\u001b[1m675/675\u001b[0m \u001b[32m━━━━━━━━━━━━━━━━━━━━\u001b[0m\u001b[37m\u001b[0m \u001b[1m2s\u001b[0m 3ms/step - accuracy: 0.9110 - loss: 0.2373 - val_accuracy: 0.9304 - val_loss: 0.1963\n",
            "Epoch 45/50\n",
            "\u001b[1m675/675\u001b[0m \u001b[32m━━━━━━━━━━━━━━━━━━━━\u001b[0m\u001b[37m\u001b[0m \u001b[1m3s\u001b[0m 3ms/step - accuracy: 0.9136 - loss: 0.2436 - val_accuracy: 0.9342 - val_loss: 0.1949\n",
            "Epoch 46/50\n",
            "\u001b[1m675/675\u001b[0m \u001b[32m━━━━━━━━━━━━━━━━━━━━\u001b[0m\u001b[37m\u001b[0m \u001b[1m3s\u001b[0m 4ms/step - accuracy: 0.9095 - loss: 0.2391 - val_accuracy: 0.9337 - val_loss: 0.1914\n",
            "Epoch 47/50\n",
            "\u001b[1m675/675\u001b[0m \u001b[32m━━━━━━━━━━━━━━━━━━━━\u001b[0m\u001b[37m\u001b[0m \u001b[1m2s\u001b[0m 3ms/step - accuracy: 0.9152 - loss: 0.2292 - val_accuracy: 0.9321 - val_loss: 0.2027\n",
            "Epoch 48/50\n",
            "\u001b[1m675/675\u001b[0m \u001b[32m━━━━━━━━━━━━━━━━━━━━\u001b[0m\u001b[37m\u001b[0m \u001b[1m2s\u001b[0m 3ms/step - accuracy: 0.9116 - loss: 0.2389 - val_accuracy: 0.9354 - val_loss: 0.1912\n",
            "Epoch 49/50\n",
            "\u001b[1m675/675\u001b[0m \u001b[32m━━━━━━━━━━━━━━━━━━━━\u001b[0m\u001b[37m\u001b[0m \u001b[1m2s\u001b[0m 3ms/step - accuracy: 0.9131 - loss: 0.2313 - val_accuracy: 0.9317 - val_loss: 0.1945\n",
            "Epoch 50/50\n",
            "\u001b[1m675/675\u001b[0m \u001b[32m━━━━━━━━━━━━━━━━━━━━\u001b[0m\u001b[37m\u001b[0m \u001b[1m3s\u001b[0m 3ms/step - accuracy: 0.9139 - loss: 0.2314 - val_accuracy: 0.9346 - val_loss: 0.1980\n"
          ]
        }
      ]
    },
    {
      "cell_type": "code",
      "source": [
        "y_test = y_test.flatten()\n",
        "y_test_cat = to_categorical(y_test, num_classes=10)\n",
        "#  Evaluate on test set\n",
        "y_pred_prob = model.predict(X_test)\n",
        "y_pred = np.argmax(y_pred_prob, axis=1)\n",
        "y_true = np.argmax(y_test_cat, axis=1)"
      ],
      "metadata": {
        "colab": {
          "base_uri": "https://localhost:8080/"
        },
        "id": "5SJulACf-Hhm",
        "outputId": "f2aeff67-7966-4937-bba9-c0c12bb24ce5"
      },
      "id": "5SJulACf-Hhm",
      "execution_count": 59,
      "outputs": [
        {
          "output_type": "stream",
          "name": "stdout",
          "text": [
            "\u001b[1m188/188\u001b[0m \u001b[32m━━━━━━━━━━━━━━━━━━━━\u001b[0m\u001b[37m\u001b[0m \u001b[1m1s\u001b[0m 3ms/step\n"
          ]
        }
      ]
    },
    {
      "cell_type": "code",
      "source": [
        "# Metrics\n",
        "accuracy = accuracy_score(y_true, y_pred)\n",
        "precision = precision_score(y_true, y_pred, average='macro')\n",
        "recall = recall_score(y_true, y_pred, average='macro')\n",
        "f1 = f1_score(y_true, y_pred, average='macro')\n",
        "\n",
        "print(\"\\n📊 Test Set Evaluation:\")\n",
        "print(f\"Accuracy:  {accuracy:.4f}\")\n",
        "print(f\"Precision: {precision:.4f}\")\n",
        "print(f\"Recall:    {recall:.4f}\")\n",
        "print(f\"F1 Score:  {f1:.4f}\")"
      ],
      "metadata": {
        "colab": {
          "base_uri": "https://localhost:8080/"
        },
        "id": "CiVbnu_W-cZB",
        "outputId": "7cd4aaf7-78e8-4942-cd40-12b512874f94"
      },
      "id": "CiVbnu_W-cZB",
      "execution_count": 60,
      "outputs": [
        {
          "output_type": "stream",
          "name": "stdout",
          "text": [
            "\n",
            "📊 Test Set Evaluation:\n",
            "Accuracy:  0.9350\n",
            "Precision: 0.9347\n",
            "Recall:    0.9350\n",
            "F1 Score:  0.9347\n"
          ]
        }
      ]
    },
    {
      "cell_type": "code",
      "source": [
        "# Confusion Matrix\n",
        "cm = confusion_matrix(y_true, y_pred)\n",
        "plt.figure(figsize=(10, 7))\n",
        "sns.heatmap(cm, annot=True, fmt=\"d\", cmap='Blues', xticklabels=range(10), yticklabels=range(10))\n",
        "plt.title(\"Confusion Matrix\")\n",
        "plt.xlabel(\"Predicted\")\n",
        "plt.ylabel(\"Actual\")\n",
        "plt.show()"
      ],
      "metadata": {
        "colab": {
          "base_uri": "https://localhost:8080/",
          "height": 641
        },
        "id": "h7XSxxh5-hgZ",
        "outputId": "b1a528c5-0cf4-439f-8e8f-dd3c4736de91"
      },
      "id": "h7XSxxh5-hgZ",
      "execution_count": 61,
      "outputs": [
        {
          "output_type": "display_data",
          "data": {
            "text/plain": [
              "<Figure size 1000x700 with 2 Axes>"
            ],
            "image/png": "[encoded data removed]"
          },
          "metadata": {}
        }
      ]
    },
    {
      "cell_type": "markdown",
      "id": "611f8a4d",
      "metadata": {
        "id": "611f8a4d"
      },
      "source": [
        "### Task 2.3: Pytorch"
      ]
    },
    {
      "cell_type": "markdown",
      "id": "457d441f",
      "metadata": {
        "id": "457d441f"
      },
      "source": [
        "In this part you will use the [Keras](https://pytorch.org/docs/stable/nn.html) to implement the [Neural Network](https://medium.com/analytics-vidhya/a-simple-neural-network-classifier-using-pytorch-from-scratch-7ebb477422d2) and apply it to the MNIST audio dataset (provided in part 1). Split the training dataset into train and evaluation data with 90:10 ratio. Run evaluation on X_eval while training on X_train. You need to use DataLoader to generate batches of data. Tune the hyperparameters to get the best possible classification accuracy. You need to report training loss, training accuracy, validation loss and validation accuracy after each epoch in the following format:\n",
        "```\n",
        "Epoch 1/2\n",
        "loss: 78.67749792151153 - accuracy: 0.6759259259259259 - val_loss: 6.320814955048263 - val_accuracy: 0.7356481481481482\n",
        "Epoch 2/2\n",
        "loss: 48.70551285566762 - accuracy: 0.7901234567901234 - val_loss: 6.073690168559551 - val_accuracy: 0.7791666666666667\n",
        "```\n",
        "You need to report accuracy, recall, precision and F1 score on the test dataset and print the confusion matrix.\n",
        "\n",
        "Expected value for accuracy is 87 or above."
      ]
    },
    {
      "cell_type": "code",
      "execution_count": 62,
      "id": "604e1923",
      "metadata": {
        "id": "604e1923"
      },
      "outputs": [],
      "source": [
        "import torch\n",
        "import torch.nn as nn\n",
        "from torch.utils.data import Dataset, DataLoader\n",
        "from sklearn.metrics import accuracy_score"
      ]
    },
    {
      "cell_type": "code",
      "source": [
        "#  Normalize\n",
        "X = (X - X.mean(axis=0)) / X.std(axis=0)\n",
        "\n",
        "# Split data\n",
        "X_temp, X_test, y_temp, y_test = train_test_split(X, y, test_size=0.2, random_state=42, stratify=y)\n",
        "X_train, X_val, y_train, y_val = train_test_split(X_temp, y_temp, test_size=0.1, random_state=42, stratify=y_temp)"
      ],
      "metadata": {
        "id": "XzNezFjPBTKw"
      },
      "id": "XzNezFjPBTKw",
      "execution_count": 75,
      "outputs": []
    },
    {
      "cell_type": "code",
      "execution_count": 76,
      "id": "bdad8b6b",
      "metadata": {
        "id": "bdad8b6b"
      },
      "outputs": [],
      "source": [
        "class Data(Dataset):\n",
        "    def __init__(self, X, y):\n",
        "        self.X = torch.tensor(X, dtype=torch.float32)\n",
        "        self.y = torch.tensor(y, dtype=torch.long)\n",
        "\n",
        "    def __getitem__(self, index):\n",
        "        return self.X[index], self.y[index]\n",
        "\n",
        "    def __len__(self):\n",
        "        return len(self.X)\n",
        "\n",
        "train_data = Data(X_train, y_train)\n",
        "val_data = Data(X_val, y_val)\n",
        "test_data = Data(X_test, y_test)"
      ]
    },
    {
      "cell_type": "code",
      "execution_count": 77,
      "id": "ae160bf9",
      "metadata": {
        "id": "ae160bf9"
      },
      "outputs": [],
      "source": [
        "# Neural Network\n",
        "class NeuralNetwork(nn.Module):\n",
        "    def __init__(self):\n",
        "        super(NeuralNetwork, self).__init__()\n",
        "        self.net = nn.Sequential(\n",
        "            nn.Linear(13, 128),\n",
        "            nn.ReLU(),\n",
        "            nn.Dropout(0.3),\n",
        "            nn.Linear(128, 64),\n",
        "            nn.ReLU(),\n",
        "            nn.Linear(64, 10)\n",
        "        )\n",
        "\n",
        "    def forward(self, x):\n",
        "        return self.net(x)"
      ]
    },
    {
      "cell_type": "code",
      "execution_count": 78,
      "id": "c347a6c9",
      "metadata": {
        "id": "c347a6c9"
      },
      "outputs": [],
      "source": [
        "# Set the parameters accordingly\n",
        "# Hyperparameters\n",
        "LEARNING_RATE = 0.001\n",
        "BATCH_SIZE = 32\n",
        "EPOCHS = 20"
      ]
    },
    {
      "cell_type": "code",
      "execution_count": 79,
      "id": "576cacdf",
      "metadata": {
        "id": "576cacdf"
      },
      "outputs": [],
      "source": [
        "# Initialize the model\n",
        "model =  NeuralNetwork()\n",
        "# Set the loss function and optimizer accordingly\n",
        "loss_function = nn.CrossEntropyLoss()\n",
        "optimizer = torch.optim.Adam(model.parameters(), lr=LEARNING_RATE)"
      ]
    },
    {
      "cell_type": "code",
      "execution_count": 80,
      "id": "129965cc",
      "metadata": {
        "id": "129965cc"
      },
      "outputs": [],
      "source": [
        "train_loader = DataLoader(train_data, batch_size=BATCH_SIZE, shuffle=True)\n",
        "val_loader = DataLoader(val_data, batch_size=BATCH_SIZE)\n",
        "test_loader = DataLoader(test_data, batch_size=BATCH_SIZE)"
      ]
    },
    {
      "cell_type": "code",
      "source": [
        "# Training loop\n",
        "for epoch in range(EPOCHS):\n",
        "    model.train()\n",
        "    train_loss = 0\n",
        "    train_correct = 0\n",
        "\n",
        "    for X_batch, y_batch in train_loader:\n",
        "        optimizer.zero_grad()\n",
        "        output = model(X_batch)\n",
        "        loss = loss_function(output, y_batch)\n",
        "        loss.backward()\n",
        "        optimizer.step()\n",
        "\n",
        "        train_loss += loss.item() * len(X_batch)\n",
        "        train_correct += (output.argmax(1) == y_batch).sum().item()\n",
        "\n",
        "    # Validation\n",
        "    model.eval()\n",
        "    val_loss = 0\n",
        "    val_correct = 0\n",
        "    with torch.no_grad():\n",
        "        for X_val_batch, y_val_batch in val_loader:\n",
        "            val_output = model(X_val_batch)\n",
        "            val_loss += loss_function(val_output, y_val_batch).item() * len(X_val_batch)\n",
        "            val_correct += (val_output.argmax(1) == y_val_batch).sum().item()\n",
        "\n",
        "    # Metrics\n",
        "    train_acc = train_correct / len(train_data)\n",
        "    val_acc = val_correct / len(val_data)\n",
        "    print(f\"Epoch {epoch + 1}/{EPOCHS}\")\n",
        "    print(f\"loss: {train_loss:.10f} - accuracy: {train_acc} - val_loss: {val_loss:.10f} - val_accuracy: {val_acc}\")\n"
      ],
      "metadata": {
        "colab": {
          "base_uri": "https://localhost:8080/"
        },
        "id": "abCi6N_o_lzG",
        "outputId": "6f6e0cd7-a562-4b27-bffd-ad26e5aa9ff9"
      },
      "id": "abCi6N_o_lzG",
      "execution_count": 81,
      "outputs": [
        {
          "output_type": "stream",
          "name": "stdout",
          "text": [
            "Epoch 1/20\n",
            "loss: 15123.9632935524 - accuracy: 0.7668518518518519 - val_loss: 919.9696688652 - val_accuracy: 0.8525\n",
            "Epoch 2/20\n",
            "loss: 9019.1285765171 - accuracy: 0.8436574074074074 - val_loss: 785.2070727348 - val_accuracy: 0.87125\n",
            "Epoch 3/20\n",
            "loss: 8038.0069890022 - accuracy: 0.8618055555555556 - val_loss: 693.0501666069 - val_accuracy: 0.8929166666666667\n",
            "Epoch 4/20\n",
            "loss: 7314.1667571068 - accuracy: 0.8731018518518519 - val_loss: 645.3709061146 - val_accuracy: 0.9058333333333334\n",
            "Epoch 5/20\n",
            "loss: 6916.2889368534 - accuracy: 0.8805555555555555 - val_loss: 600.8032102585 - val_accuracy: 0.90875\n",
            "Epoch 6/20\n",
            "loss: 6602.0083847046 - accuracy: 0.8867592592592592 - val_loss: 581.0110809803 - val_accuracy: 0.9095833333333333\n",
            "Epoch 7/20\n",
            "loss: 6206.5345106125 - accuracy: 0.8910648148148148 - val_loss: 530.3552267551 - val_accuracy: 0.9229166666666667\n",
            "Epoch 8/20\n",
            "loss: 6021.3791317940 - accuracy: 0.8962037037037037 - val_loss: 560.9814720154 - val_accuracy: 0.9133333333333333\n",
            "Epoch 9/20\n",
            "loss: 5844.0296833515 - accuracy: 0.9008333333333334 - val_loss: 515.8183022738 - val_accuracy: 0.9329166666666666\n",
            "Epoch 10/20\n",
            "loss: 5691.8088477850 - accuracy: 0.9021296296296296 - val_loss: 503.1792197227 - val_accuracy: 0.9245833333333333\n",
            "Epoch 11/20\n",
            "loss: 5494.2723881006 - accuracy: 0.9046296296296297 - val_loss: 507.7117578983 - val_accuracy: 0.92375\n",
            "Epoch 12/20\n",
            "loss: 5388.5321854353 - accuracy: 0.9074074074074074 - val_loss: 502.9240448475 - val_accuracy: 0.9270833333333334\n",
            "Epoch 13/20\n",
            "loss: 5213.8661822081 - accuracy: 0.9089814814814815 - val_loss: 479.9520093203 - val_accuracy: 0.9291666666666667\n",
            "Epoch 14/20\n",
            "loss: 5113.0043680072 - accuracy: 0.9117592592592593 - val_loss: 464.6342084408 - val_accuracy: 0.9295833333333333\n",
            "Epoch 15/20\n",
            "loss: 4991.7060642242 - accuracy: 0.9136574074074074 - val_loss: 448.0348267555 - val_accuracy: 0.93125\n",
            "Epoch 16/20\n",
            "loss: 4855.4778556824 - accuracy: 0.9183333333333333 - val_loss: 446.5586702824 - val_accuracy: 0.9370833333333334\n",
            "Epoch 17/20\n",
            "loss: 4885.1968159080 - accuracy: 0.9183796296296296 - val_loss: 429.6925762892 - val_accuracy: 0.9370833333333334\n",
            "Epoch 18/20\n",
            "loss: 4762.5274626017 - accuracy: 0.919537037037037 - val_loss: 429.5797035694 - val_accuracy: 0.9366666666666666\n",
            "Epoch 19/20\n",
            "loss: 4681.7728577852 - accuracy: 0.92125 - val_loss: 447.7450598478 - val_accuracy: 0.9329166666666666\n",
            "Epoch 20/20\n",
            "loss: 4591.0748183131 - accuracy: 0.9208796296296297 - val_loss: 430.7855541706 - val_accuracy: 0.9383333333333334\n"
          ]
        }
      ]
    },
    {
      "cell_type": "code",
      "source": [
        "# Evaluation on Test Set\n",
        "model.eval()\n",
        "all_preds = []\n",
        "all_targets = []\n",
        "\n",
        "with torch.no_grad():\n",
        "    for X_batch, y_batch in test_loader:\n",
        "        preds = model(X_batch).argmax(1)\n",
        "        all_preds.extend(preds.tolist())\n",
        "        all_targets.extend(y_batch.tolist())\n",
        "\n",
        "acc = accuracy_score(all_targets, all_preds)\n",
        "precision = precision_score(all_targets, all_preds, average='macro')\n",
        "recall = recall_score(all_targets, all_preds, average='macro')\n",
        "f1 = f1_score(all_targets, all_preds, average='macro')\n",
        "\n",
        "print(\"\\n📊 Final Evaluation on Test Set:\")\n",
        "print(f\"Accuracy :  {acc:.4f}\")\n",
        "print(f\"Precision:  {precision:.4f}\")\n",
        "print(f\"Recall   :  {recall:.4f}\")\n",
        "print(f\"F1 Score :  {f1:.4f}\")"
      ],
      "metadata": {
        "colab": {
          "base_uri": "https://localhost:8080/"
        },
        "id": "JPBV0bHJAqd5",
        "outputId": "a2c3ff93-c6ba-466a-a81e-8ab46db774a9"
      },
      "id": "JPBV0bHJAqd5",
      "execution_count": 82,
      "outputs": [
        {
          "output_type": "stream",
          "name": "stdout",
          "text": [
            "\n",
            "📊 Final Evaluation on Test Set:\n",
            "Accuracy :  0.9365\n",
            "Precision:  0.9375\n",
            "Recall   :  0.9365\n",
            "F1 Score :  0.9364\n"
          ]
        }
      ]
    },
    {
      "cell_type": "code",
      "source": [
        "# Confusion Matrix\n",
        "cm = confusion_matrix(all_targets, all_preds)\n",
        "plt.figure(figsize=(10, 7))\n",
        "sns.heatmap(cm, annot=True, fmt=\"d\", cmap=\"Blues\", xticklabels=range(10), yticklabels=range(10))\n",
        "plt.xlabel(\"Predicted\")\n",
        "plt.ylabel(\"Actual\")\n",
        "plt.title(\"Confusion Matrix\")\n",
        "plt.show()"
      ],
      "metadata": {
        "colab": {
          "base_uri": "https://localhost:8080/",
          "height": 641
        },
        "id": "OPKrlZfaB8Iv",
        "outputId": "f7c27d8d-4326-4294-96df-7e747285f005"
      },
      "id": "OPKrlZfaB8Iv",
      "execution_count": 83,
      "outputs": [
        {
          "output_type": "display_data",
          "data": {
            "text/plain": [
              "<Figure size 1000x700 with 2 Axes>"
            ],
            "image/png": "[encoded data removed]"
          },
          "metadata": {}
        }
      ]
    }
  ],
  "metadata": {
    "kernelspec": {
      "display_name": "Python 3 (ipykernel)",
      "language": "python",
      "name": "python3"
    },
    "language_info": {
      "codemirror_mode": {
        "name": "ipython",
        "version": 3
      },
      "file_extension": ".py",
      "mimetype": "text/x-python",
      "name": "python",
      "nbconvert_exporter": "python",
      "pygments_lexer": "ipython3",
      "version": "3.9.12"
    },
    "colab": {
      "provenance": [],
      "toc_visible": true
    }
  },
  "nbformat": 4,
  "nbformat_minor": 5
}